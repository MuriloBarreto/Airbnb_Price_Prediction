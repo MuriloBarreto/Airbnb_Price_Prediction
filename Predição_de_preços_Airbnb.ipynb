{
  "cells": [
    {
      "cell_type": "code",
      "execution_count": 1,
      "metadata": {
        "id": "3nCdMlBQkj8I"
      },
      "outputs": [],
      "source": [
        "import pandas as pd\n",
        "import numpy as np"
      ]
    },
    {
      "cell_type": "code",
      "execution_count": 2,
      "metadata": {
        "colab": {
          "base_uri": "https://localhost:8080/",
          "height": 1000
        },
        "id": "yyoe9yeGlbDE",
        "outputId": "1ca2e9b8-c9db-4607-c86a-bc3723881d77"
      },
      "outputs": [
        {
          "name": "stderr",
          "output_type": "stream",
          "text": [
            "/usr/local/lib/python3.7/dist-packages/IPython/core/interactiveshell.py:2718: DtypeWarning: Columns (5,13) have mixed types.Specify dtype option on import or set low_memory=False.\n",
            "  interactivity=interactivity, compiler=compiler, result=result)\n"
          ]
        },
        {
          "data": {
            "text/html": [
              "<div>\n",
              "<style scoped>\n",
              "    .dataframe tbody tr th:only-of-type {\n",
              "        vertical-align: middle;\n",
              "    }\n",
              "\n",
              "    .dataframe tbody tr th {\n",
              "        vertical-align: top;\n",
              "    }\n",
              "\n",
              "    .dataframe thead th {\n",
              "        text-align: right;\n",
              "    }\n",
              "</style>\n",
              "<table border=\"1\" class=\"dataframe\">\n",
              "  <thead>\n",
              "    <tr style=\"text-align: right;\">\n",
              "      <th></th>\n",
              "      <th>listing_id</th>\n",
              "      <th>name</th>\n",
              "      <th>host_id</th>\n",
              "      <th>host_since</th>\n",
              "      <th>host_location</th>\n",
              "      <th>host_response_time</th>\n",
              "      <th>host_response_rate</th>\n",
              "      <th>host_acceptance_rate</th>\n",
              "      <th>host_is_superhost</th>\n",
              "      <th>host_total_listings_count</th>\n",
              "      <th>host_has_profile_pic</th>\n",
              "      <th>host_identity_verified</th>\n",
              "      <th>neighbourhood</th>\n",
              "      <th>district</th>\n",
              "      <th>city</th>\n",
              "      <th>latitude</th>\n",
              "      <th>longitude</th>\n",
              "      <th>property_type</th>\n",
              "      <th>room_type</th>\n",
              "      <th>accommodates</th>\n",
              "      <th>bedrooms</th>\n",
              "      <th>amenities</th>\n",
              "      <th>price</th>\n",
              "      <th>minimum_nights</th>\n",
              "      <th>maximum_nights</th>\n",
              "      <th>review_scores_rating</th>\n",
              "      <th>review_scores_accuracy</th>\n",
              "      <th>review_scores_cleanliness</th>\n",
              "      <th>review_scores_checkin</th>\n",
              "      <th>review_scores_communication</th>\n",
              "      <th>review_scores_location</th>\n",
              "      <th>review_scores_value</th>\n",
              "      <th>instant_bookable</th>\n",
              "    </tr>\n",
              "  </thead>\n",
              "  <tbody>\n",
              "    <tr>\n",
              "      <th>0</th>\n",
              "      <td>281420</td>\n",
              "      <td>Beautiful Flat in le Village Montmartre, Paris</td>\n",
              "      <td>1466919</td>\n",
              "      <td>2011-12-03</td>\n",
              "      <td>Paris, Ile-de-France, France</td>\n",
              "      <td>NaN</td>\n",
              "      <td>NaN</td>\n",
              "      <td>NaN</td>\n",
              "      <td>f</td>\n",
              "      <td>1.0</td>\n",
              "      <td>t</td>\n",
              "      <td>f</td>\n",
              "      <td>Buttes-Montmartre</td>\n",
              "      <td>NaN</td>\n",
              "      <td>Paris</td>\n",
              "      <td>48.88668</td>\n",
              "      <td>2.33343</td>\n",
              "      <td>Entire apartment</td>\n",
              "      <td>Entire place</td>\n",
              "      <td>2</td>\n",
              "      <td>1.0</td>\n",
              "      <td>[\"Heating\", \"Kitchen\", \"Washer\", \"Wifi\", \"Long...</td>\n",
              "      <td>53</td>\n",
              "      <td>2</td>\n",
              "      <td>1125</td>\n",
              "      <td>100.0</td>\n",
              "      <td>10.0</td>\n",
              "      <td>10.0</td>\n",
              "      <td>10.0</td>\n",
              "      <td>10.0</td>\n",
              "      <td>10.0</td>\n",
              "      <td>10.0</td>\n",
              "      <td>f</td>\n",
              "    </tr>\n",
              "    <tr>\n",
              "      <th>1</th>\n",
              "      <td>3705183</td>\n",
              "      <td>39 mÃÂ² Paris (Sacre CÃâur)</td>\n",
              "      <td>10328771</td>\n",
              "      <td>2013-11-29</td>\n",
              "      <td>Paris, Ile-de-France, France</td>\n",
              "      <td>NaN</td>\n",
              "      <td>NaN</td>\n",
              "      <td>NaN</td>\n",
              "      <td>f</td>\n",
              "      <td>1.0</td>\n",
              "      <td>t</td>\n",
              "      <td>t</td>\n",
              "      <td>Buttes-Montmartre</td>\n",
              "      <td>NaN</td>\n",
              "      <td>Paris</td>\n",
              "      <td>48.88617</td>\n",
              "      <td>2.34515</td>\n",
              "      <td>Entire apartment</td>\n",
              "      <td>Entire place</td>\n",
              "      <td>2</td>\n",
              "      <td>1.0</td>\n",
              "      <td>[\"Shampoo\", \"Heating\", \"Kitchen\", \"Essentials\"...</td>\n",
              "      <td>120</td>\n",
              "      <td>2</td>\n",
              "      <td>1125</td>\n",
              "      <td>100.0</td>\n",
              "      <td>10.0</td>\n",
              "      <td>10.0</td>\n",
              "      <td>10.0</td>\n",
              "      <td>10.0</td>\n",
              "      <td>10.0</td>\n",
              "      <td>10.0</td>\n",
              "      <td>f</td>\n",
              "    </tr>\n",
              "    <tr>\n",
              "      <th>2</th>\n",
              "      <td>4082273</td>\n",
              "      <td>Lovely apartment with Terrace, 60m2</td>\n",
              "      <td>19252768</td>\n",
              "      <td>2014-07-31</td>\n",
              "      <td>Paris, Ile-de-France, France</td>\n",
              "      <td>NaN</td>\n",
              "      <td>NaN</td>\n",
              "      <td>NaN</td>\n",
              "      <td>f</td>\n",
              "      <td>1.0</td>\n",
              "      <td>t</td>\n",
              "      <td>f</td>\n",
              "      <td>Elysee</td>\n",
              "      <td>NaN</td>\n",
              "      <td>Paris</td>\n",
              "      <td>48.88112</td>\n",
              "      <td>2.31712</td>\n",
              "      <td>Entire apartment</td>\n",
              "      <td>Entire place</td>\n",
              "      <td>2</td>\n",
              "      <td>1.0</td>\n",
              "      <td>[\"Heating\", \"TV\", \"Kitchen\", \"Washer\", \"Wifi\",...</td>\n",
              "      <td>89</td>\n",
              "      <td>2</td>\n",
              "      <td>1125</td>\n",
              "      <td>100.0</td>\n",
              "      <td>10.0</td>\n",
              "      <td>10.0</td>\n",
              "      <td>10.0</td>\n",
              "      <td>10.0</td>\n",
              "      <td>10.0</td>\n",
              "      <td>10.0</td>\n",
              "      <td>f</td>\n",
              "    </tr>\n",
              "    <tr>\n",
              "      <th>3</th>\n",
              "      <td>4797344</td>\n",
              "      <td>Cosy studio (close to Eiffel tower)</td>\n",
              "      <td>10668311</td>\n",
              "      <td>2013-12-17</td>\n",
              "      <td>Paris, Ile-de-France, France</td>\n",
              "      <td>NaN</td>\n",
              "      <td>NaN</td>\n",
              "      <td>NaN</td>\n",
              "      <td>f</td>\n",
              "      <td>1.0</td>\n",
              "      <td>t</td>\n",
              "      <td>t</td>\n",
              "      <td>Vaugirard</td>\n",
              "      <td>NaN</td>\n",
              "      <td>Paris</td>\n",
              "      <td>48.84571</td>\n",
              "      <td>2.30584</td>\n",
              "      <td>Entire apartment</td>\n",
              "      <td>Entire place</td>\n",
              "      <td>2</td>\n",
              "      <td>1.0</td>\n",
              "      <td>[\"Heating\", \"TV\", \"Kitchen\", \"Wifi\", \"Long ter...</td>\n",
              "      <td>58</td>\n",
              "      <td>2</td>\n",
              "      <td>1125</td>\n",
              "      <td>100.0</td>\n",
              "      <td>10.0</td>\n",
              "      <td>10.0</td>\n",
              "      <td>10.0</td>\n",
              "      <td>10.0</td>\n",
              "      <td>10.0</td>\n",
              "      <td>10.0</td>\n",
              "      <td>f</td>\n",
              "    </tr>\n",
              "    <tr>\n",
              "      <th>4</th>\n",
              "      <td>4823489</td>\n",
              "      <td>Close to Eiffel Tower - Beautiful flat : 2 rooms</td>\n",
              "      <td>24837558</td>\n",
              "      <td>2014-12-14</td>\n",
              "      <td>Paris, Ile-de-France, France</td>\n",
              "      <td>NaN</td>\n",
              "      <td>NaN</td>\n",
              "      <td>NaN</td>\n",
              "      <td>f</td>\n",
              "      <td>1.0</td>\n",
              "      <td>t</td>\n",
              "      <td>f</td>\n",
              "      <td>Passy</td>\n",
              "      <td>NaN</td>\n",
              "      <td>Paris</td>\n",
              "      <td>48.85500</td>\n",
              "      <td>2.26979</td>\n",
              "      <td>Entire apartment</td>\n",
              "      <td>Entire place</td>\n",
              "      <td>2</td>\n",
              "      <td>1.0</td>\n",
              "      <td>[\"Heating\", \"TV\", \"Kitchen\", \"Essentials\", \"Ha...</td>\n",
              "      <td>60</td>\n",
              "      <td>2</td>\n",
              "      <td>1125</td>\n",
              "      <td>100.0</td>\n",
              "      <td>10.0</td>\n",
              "      <td>10.0</td>\n",
              "      <td>10.0</td>\n",
              "      <td>10.0</td>\n",
              "      <td>10.0</td>\n",
              "      <td>10.0</td>\n",
              "      <td>f</td>\n",
              "    </tr>\n",
              "    <tr>\n",
              "      <th>...</th>\n",
              "      <td>...</td>\n",
              "      <td>...</td>\n",
              "      <td>...</td>\n",
              "      <td>...</td>\n",
              "      <td>...</td>\n",
              "      <td>...</td>\n",
              "      <td>...</td>\n",
              "      <td>...</td>\n",
              "      <td>...</td>\n",
              "      <td>...</td>\n",
              "      <td>...</td>\n",
              "      <td>...</td>\n",
              "      <td>...</td>\n",
              "      <td>...</td>\n",
              "      <td>...</td>\n",
              "      <td>...</td>\n",
              "      <td>...</td>\n",
              "      <td>...</td>\n",
              "      <td>...</td>\n",
              "      <td>...</td>\n",
              "      <td>...</td>\n",
              "      <td>...</td>\n",
              "      <td>...</td>\n",
              "      <td>...</td>\n",
              "      <td>...</td>\n",
              "      <td>...</td>\n",
              "      <td>...</td>\n",
              "      <td>...</td>\n",
              "      <td>...</td>\n",
              "      <td>...</td>\n",
              "      <td>...</td>\n",
              "      <td>...</td>\n",
              "      <td>...</td>\n",
              "    </tr>\n",
              "    <tr>\n",
              "      <th>279707</th>\n",
              "      <td>38338635</td>\n",
              "      <td>Appartement T2 neuf prÃÂ¨s du tram T3a Porte ...</td>\n",
              "      <td>31161181</td>\n",
              "      <td>2015-04-13</td>\n",
              "      <td>Paris, Ile-de-France, France</td>\n",
              "      <td>NaN</td>\n",
              "      <td>NaN</td>\n",
              "      <td>NaN</td>\n",
              "      <td>f</td>\n",
              "      <td>1.0</td>\n",
              "      <td>t</td>\n",
              "      <td>t</td>\n",
              "      <td>Observatoire</td>\n",
              "      <td>NaN</td>\n",
              "      <td>Paris</td>\n",
              "      <td>48.82701</td>\n",
              "      <td>2.31419</td>\n",
              "      <td>Entire apartment</td>\n",
              "      <td>Entire place</td>\n",
              "      <td>2</td>\n",
              "      <td>1.0</td>\n",
              "      <td>[\"Iron\", \"Heating\", \"Washer\", \"Dedicated works...</td>\n",
              "      <td>120</td>\n",
              "      <td>1</td>\n",
              "      <td>7</td>\n",
              "      <td>100.0</td>\n",
              "      <td>10.0</td>\n",
              "      <td>10.0</td>\n",
              "      <td>10.0</td>\n",
              "      <td>10.0</td>\n",
              "      <td>10.0</td>\n",
              "      <td>10.0</td>\n",
              "      <td>f</td>\n",
              "    </tr>\n",
              "    <tr>\n",
              "      <th>279708</th>\n",
              "      <td>38538692</td>\n",
              "      <td>Cozy Studio in Montmartre</td>\n",
              "      <td>10294858</td>\n",
              "      <td>2013-11-27</td>\n",
              "      <td>Paris, Ile-de-France, France</td>\n",
              "      <td>NaN</td>\n",
              "      <td>NaN</td>\n",
              "      <td>NaN</td>\n",
              "      <td>f</td>\n",
              "      <td>1.0</td>\n",
              "      <td>t</td>\n",
              "      <td>t</td>\n",
              "      <td>Buttes-Montmartre</td>\n",
              "      <td>NaN</td>\n",
              "      <td>Paris</td>\n",
              "      <td>48.89309</td>\n",
              "      <td>2.33206</td>\n",
              "      <td>Entire apartment</td>\n",
              "      <td>Entire place</td>\n",
              "      <td>2</td>\n",
              "      <td>1.0</td>\n",
              "      <td>[\"Shampoo\", \"Iron\", \"Heating\", \"Washer\", \"Hair...</td>\n",
              "      <td>60</td>\n",
              "      <td>7</td>\n",
              "      <td>15</td>\n",
              "      <td>100.0</td>\n",
              "      <td>10.0</td>\n",
              "      <td>10.0</td>\n",
              "      <td>10.0</td>\n",
              "      <td>10.0</td>\n",
              "      <td>10.0</td>\n",
              "      <td>10.0</td>\n",
              "      <td>f</td>\n",
              "    </tr>\n",
              "    <tr>\n",
              "      <th>279709</th>\n",
              "      <td>38683356</td>\n",
              "      <td>Nice and cosy mini-appartement in Paris</td>\n",
              "      <td>2238502</td>\n",
              "      <td>2012-04-27</td>\n",
              "      <td>Paris, Ile-de-France, France</td>\n",
              "      <td>NaN</td>\n",
              "      <td>NaN</td>\n",
              "      <td>NaN</td>\n",
              "      <td>f</td>\n",
              "      <td>1.0</td>\n",
              "      <td>t</td>\n",
              "      <td>t</td>\n",
              "      <td>Buttes-Montmartre</td>\n",
              "      <td>NaN</td>\n",
              "      <td>Paris</td>\n",
              "      <td>48.88699</td>\n",
              "      <td>2.34920</td>\n",
              "      <td>Entire apartment</td>\n",
              "      <td>Entire place</td>\n",
              "      <td>2</td>\n",
              "      <td>1.0</td>\n",
              "      <td>[\"Paid parking off premises\", \"Shampoo\", \"Firs...</td>\n",
              "      <td>50</td>\n",
              "      <td>6</td>\n",
              "      <td>30</td>\n",
              "      <td>100.0</td>\n",
              "      <td>10.0</td>\n",
              "      <td>10.0</td>\n",
              "      <td>10.0</td>\n",
              "      <td>10.0</td>\n",
              "      <td>10.0</td>\n",
              "      <td>10.0</td>\n",
              "      <td>f</td>\n",
              "    </tr>\n",
              "    <tr>\n",
              "      <th>279710</th>\n",
              "      <td>39659000</td>\n",
              "      <td>Charming apartment near Rue Saint Maur / Oberk...</td>\n",
              "      <td>38633695</td>\n",
              "      <td>2015-07-16</td>\n",
              "      <td>Paris, Ile-de-France, France</td>\n",
              "      <td>NaN</td>\n",
              "      <td>NaN</td>\n",
              "      <td>NaN</td>\n",
              "      <td>f</td>\n",
              "      <td>1.0</td>\n",
              "      <td>t</td>\n",
              "      <td>t</td>\n",
              "      <td>Popincourt</td>\n",
              "      <td>NaN</td>\n",
              "      <td>Paris</td>\n",
              "      <td>48.86687</td>\n",
              "      <td>2.38123</td>\n",
              "      <td>Entire apartment</td>\n",
              "      <td>Entire place</td>\n",
              "      <td>2</td>\n",
              "      <td>1.0</td>\n",
              "      <td>[\"TV\", \"Iron\", \"Kitchen\", \"Hangers\", \"Smoke al...</td>\n",
              "      <td>105</td>\n",
              "      <td>3</td>\n",
              "      <td>18</td>\n",
              "      <td>100.0</td>\n",
              "      <td>10.0</td>\n",
              "      <td>10.0</td>\n",
              "      <td>10.0</td>\n",
              "      <td>10.0</td>\n",
              "      <td>10.0</td>\n",
              "      <td>10.0</td>\n",
              "      <td>f</td>\n",
              "    </tr>\n",
              "    <tr>\n",
              "      <th>279711</th>\n",
              "      <td>40219504</td>\n",
              "      <td>Cosy apartment with view on Canal St Martin</td>\n",
              "      <td>6955618</td>\n",
              "      <td>2013-06-17</td>\n",
              "      <td>Paris, Ile-de-France, France</td>\n",
              "      <td>NaN</td>\n",
              "      <td>NaN</td>\n",
              "      <td>NaN</td>\n",
              "      <td>f</td>\n",
              "      <td>1.0</td>\n",
              "      <td>t</td>\n",
              "      <td>t</td>\n",
              "      <td>Enclos-St-Laurent</td>\n",
              "      <td>NaN</td>\n",
              "      <td>Paris</td>\n",
              "      <td>48.87217</td>\n",
              "      <td>2.36320</td>\n",
              "      <td>Entire apartment</td>\n",
              "      <td>Entire place</td>\n",
              "      <td>2</td>\n",
              "      <td>1.0</td>\n",
              "      <td>[\"Shower gel\", \"Shampoo\", \"Iron\", \"Heating\", \"...</td>\n",
              "      <td>70</td>\n",
              "      <td>2</td>\n",
              "      <td>4</td>\n",
              "      <td>100.0</td>\n",
              "      <td>10.0</td>\n",
              "      <td>10.0</td>\n",
              "      <td>10.0</td>\n",
              "      <td>10.0</td>\n",
              "      <td>10.0</td>\n",
              "      <td>10.0</td>\n",
              "      <td>f</td>\n",
              "    </tr>\n",
              "  </tbody>\n",
              "</table>\n",
              "<p>279712 rows × 33 columns</p>\n",
              "</div>"
            ],
            "text/plain": [
              "        listing_id  ... instant_bookable\n",
              "0           281420  ...                f\n",
              "1          3705183  ...                f\n",
              "2          4082273  ...                f\n",
              "3          4797344  ...                f\n",
              "4          4823489  ...                f\n",
              "...            ...  ...              ...\n",
              "279707    38338635  ...                f\n",
              "279708    38538692  ...                f\n",
              "279709    38683356  ...                f\n",
              "279710    39659000  ...                f\n",
              "279711    40219504  ...                f\n",
              "\n",
              "[279712 rows x 33 columns]"
            ]
          },
          "execution_count": 2,
          "metadata": {},
          "output_type": "execute_result"
        }
      ],
      "source": [
        "#carreganndo os dados\n",
        "filename = 'Listings.csv'\n",
        "df1 = pd.read_csv(filename,encoding='ISO-8859-1')\n",
        "df1"
      ]
    },
    {
      "cell_type": "code",
      "execution_count": 3,
      "metadata": {
        "colab": {
          "base_uri": "https://localhost:8080/"
        },
        "id": "eAtkUq-e4PQb",
        "outputId": "137f1e02-1c7f-4d82-ce15-df3e11755ee7"
      },
      "outputs": [
        {
          "name": "stdout",
          "output_type": "stream",
          "text": [
            "<class 'pandas.core.frame.DataFrame'>\n",
            "RangeIndex: 279712 entries, 0 to 279711\n",
            "Data columns (total 33 columns):\n",
            " #   Column                       Non-Null Count   Dtype  \n",
            "---  ------                       --------------   -----  \n",
            " 0   listing_id                   279712 non-null  int64  \n",
            " 1   name                         279539 non-null  object \n",
            " 2   host_id                      279712 non-null  int64  \n",
            " 3   host_since                   279547 non-null  object \n",
            " 4   host_location                278872 non-null  object \n",
            " 5   host_response_time           150930 non-null  object \n",
            " 6   host_response_rate           150930 non-null  float64\n",
            " 7   host_acceptance_rate         166625 non-null  float64\n",
            " 8   host_is_superhost            279547 non-null  object \n",
            " 9   host_total_listings_count    279547 non-null  float64\n",
            " 10  host_has_profile_pic         279547 non-null  object \n",
            " 11  host_identity_verified       279547 non-null  object \n",
            " 12  neighbourhood                279712 non-null  object \n",
            " 13  district                     37012 non-null   object \n",
            " 14  city                         279712 non-null  object \n",
            " 15  latitude                     279712 non-null  float64\n",
            " 16  longitude                    279712 non-null  float64\n",
            " 17  property_type                279712 non-null  object \n",
            " 18  room_type                    279712 non-null  object \n",
            " 19  accommodates                 279712 non-null  int64  \n",
            " 20  bedrooms                     250277 non-null  float64\n",
            " 21  amenities                    279712 non-null  object \n",
            " 22  price                        279712 non-null  int64  \n",
            " 23  minimum_nights               279712 non-null  int64  \n",
            " 24  maximum_nights               279712 non-null  int64  \n",
            " 25  review_scores_rating         188307 non-null  float64\n",
            " 26  review_scores_accuracy       187999 non-null  float64\n",
            " 27  review_scores_cleanliness    188047 non-null  float64\n",
            " 28  review_scores_checkin        187941 non-null  float64\n",
            " 29  review_scores_communication  188025 non-null  float64\n",
            " 30  review_scores_location       187937 non-null  float64\n",
            " 31  review_scores_value          187927 non-null  float64\n",
            " 32  instant_bookable             279712 non-null  object \n",
            "dtypes: float64(13), int64(6), object(14)\n",
            "memory usage: 70.4+ MB\n"
          ]
        }
      ],
      "source": [
        "df1.info()"
      ]
    },
    {
      "cell_type": "code",
      "execution_count": 4,
      "metadata": {
        "colab": {
          "base_uri": "https://localhost:8080/"
        },
        "id": "CeDkBXNZ4eiz",
        "outputId": "30558122-456d-4c23-830b-b7e176e5813c"
      },
      "outputs": [
        {
          "data": {
            "text/plain": [
              "(279712, 33)"
            ]
          },
          "execution_count": 4,
          "metadata": {},
          "output_type": "execute_result"
        }
      ],
      "source": [
        "df1.shape"
      ]
    },
    {
      "cell_type": "code",
      "execution_count": 5,
      "metadata": {
        "id": "2h15xJau4zA4"
      },
      "outputs": [],
      "source": [
        "# Excluindo colunas que não usaremos na predição\n",
        "df1.drop(\"host_has_profile_pic\",axis=1,inplace=True)\n",
        "df1.drop(\"latitude\",axis=1,inplace=True)\n",
        "df1.drop(\"longitude\",axis=1,inplace=True)\n",
        "df1.drop(\"host_id\",axis=1,inplace=True)\n",
        "df1.drop(\"host_since\",axis=1,inplace=True)\n",
        "df1.drop(\"host_location\",axis=1,inplace=True)\n",
        "df1.drop(\"listing_id\",axis=1,inplace=True)\n",
        "df1.drop(\"name\",axis=1,inplace=True)\n",
        "df1.drop(\"host_response_time\",axis=1,inplace=True)\n",
        "df1.drop(\"host_response_rate\",axis=1,inplace=True)\n",
        "df1.drop(\"host_acceptance_rate\",axis=1,inplace=True)\n",
        "df1.drop(\"district\",axis=1,inplace=True)\n",
        "df1.drop(\"review_scores_rating\",axis=1,inplace=True)\n",
        "df1.drop(\"review_scores_accuracy\",axis=1,inplace=True)\n",
        "df1.drop(\"review_scores_cleanliness\",axis=1,inplace=True)\n",
        "df1.drop(\"review_scores_checkin\",axis=1,inplace=True)\n",
        "df1.drop(\"review_scores_communication\",axis=1,inplace=True)\n",
        "df1.drop(\"review_scores_location\",axis=1,inplace=True)\n",
        "df1.drop(\"review_scores_value\",axis=1,inplace=True)"
      ]
    },
    {
      "cell_type": "code",
      "execution_count": 6,
      "metadata": {
        "id": "Wk3myExt5bW-"
      },
      "outputs": [],
      "source": [
        "df1.drop(\"amenities\",axis=1,inplace=True)"
      ]
    },
    {
      "cell_type": "code",
      "execution_count": 7,
      "metadata": {
        "colab": {
          "base_uri": "https://localhost:8080/",
          "height": 204
        },
        "id": "Kc-7pxTj5gJY",
        "outputId": "e10ec36a-8d5b-4573-c8ba-62b82467390b"
      },
      "outputs": [
        {
          "data": {
            "text/html": [
              "<div>\n",
              "<style scoped>\n",
              "    .dataframe tbody tr th:only-of-type {\n",
              "        vertical-align: middle;\n",
              "    }\n",
              "\n",
              "    .dataframe tbody tr th {\n",
              "        vertical-align: top;\n",
              "    }\n",
              "\n",
              "    .dataframe thead th {\n",
              "        text-align: right;\n",
              "    }\n",
              "</style>\n",
              "<table border=\"1\" class=\"dataframe\">\n",
              "  <thead>\n",
              "    <tr style=\"text-align: right;\">\n",
              "      <th></th>\n",
              "      <th>host_is_superhost</th>\n",
              "      <th>host_total_listings_count</th>\n",
              "      <th>host_identity_verified</th>\n",
              "      <th>neighbourhood</th>\n",
              "      <th>city</th>\n",
              "      <th>property_type</th>\n",
              "      <th>room_type</th>\n",
              "      <th>accommodates</th>\n",
              "      <th>bedrooms</th>\n",
              "      <th>price</th>\n",
              "      <th>minimum_nights</th>\n",
              "      <th>maximum_nights</th>\n",
              "      <th>instant_bookable</th>\n",
              "    </tr>\n",
              "  </thead>\n",
              "  <tbody>\n",
              "    <tr>\n",
              "      <th>0</th>\n",
              "      <td>f</td>\n",
              "      <td>1.0</td>\n",
              "      <td>f</td>\n",
              "      <td>Buttes-Montmartre</td>\n",
              "      <td>Paris</td>\n",
              "      <td>Entire apartment</td>\n",
              "      <td>Entire place</td>\n",
              "      <td>2</td>\n",
              "      <td>1.0</td>\n",
              "      <td>53</td>\n",
              "      <td>2</td>\n",
              "      <td>1125</td>\n",
              "      <td>f</td>\n",
              "    </tr>\n",
              "    <tr>\n",
              "      <th>1</th>\n",
              "      <td>f</td>\n",
              "      <td>1.0</td>\n",
              "      <td>t</td>\n",
              "      <td>Buttes-Montmartre</td>\n",
              "      <td>Paris</td>\n",
              "      <td>Entire apartment</td>\n",
              "      <td>Entire place</td>\n",
              "      <td>2</td>\n",
              "      <td>1.0</td>\n",
              "      <td>120</td>\n",
              "      <td>2</td>\n",
              "      <td>1125</td>\n",
              "      <td>f</td>\n",
              "    </tr>\n",
              "    <tr>\n",
              "      <th>2</th>\n",
              "      <td>f</td>\n",
              "      <td>1.0</td>\n",
              "      <td>f</td>\n",
              "      <td>Elysee</td>\n",
              "      <td>Paris</td>\n",
              "      <td>Entire apartment</td>\n",
              "      <td>Entire place</td>\n",
              "      <td>2</td>\n",
              "      <td>1.0</td>\n",
              "      <td>89</td>\n",
              "      <td>2</td>\n",
              "      <td>1125</td>\n",
              "      <td>f</td>\n",
              "    </tr>\n",
              "    <tr>\n",
              "      <th>3</th>\n",
              "      <td>f</td>\n",
              "      <td>1.0</td>\n",
              "      <td>t</td>\n",
              "      <td>Vaugirard</td>\n",
              "      <td>Paris</td>\n",
              "      <td>Entire apartment</td>\n",
              "      <td>Entire place</td>\n",
              "      <td>2</td>\n",
              "      <td>1.0</td>\n",
              "      <td>58</td>\n",
              "      <td>2</td>\n",
              "      <td>1125</td>\n",
              "      <td>f</td>\n",
              "    </tr>\n",
              "    <tr>\n",
              "      <th>4</th>\n",
              "      <td>f</td>\n",
              "      <td>1.0</td>\n",
              "      <td>f</td>\n",
              "      <td>Passy</td>\n",
              "      <td>Paris</td>\n",
              "      <td>Entire apartment</td>\n",
              "      <td>Entire place</td>\n",
              "      <td>2</td>\n",
              "      <td>1.0</td>\n",
              "      <td>60</td>\n",
              "      <td>2</td>\n",
              "      <td>1125</td>\n",
              "      <td>f</td>\n",
              "    </tr>\n",
              "  </tbody>\n",
              "</table>\n",
              "</div>"
            ],
            "text/plain": [
              "  host_is_superhost  host_total_listings_count  ... maximum_nights instant_bookable\n",
              "0                 f                        1.0  ...           1125                f\n",
              "1                 f                        1.0  ...           1125                f\n",
              "2                 f                        1.0  ...           1125                f\n",
              "3                 f                        1.0  ...           1125                f\n",
              "4                 f                        1.0  ...           1125                f\n",
              "\n",
              "[5 rows x 13 columns]"
            ]
          },
          "execution_count": 7,
          "metadata": {},
          "output_type": "execute_result"
        }
      ],
      "source": [
        "df1.head()"
      ]
    },
    {
      "cell_type": "code",
      "execution_count": 8,
      "metadata": {
        "colab": {
          "base_uri": "https://localhost:8080/"
        },
        "id": "Zm5ujRHy5rjW",
        "outputId": "9ae78727-00a9-4087-dac3-619bd35e6c1c"
      },
      "outputs": [
        {
          "data": {
            "text/plain": [
              "host_is_superhost             object\n",
              "host_total_listings_count    float64\n",
              "host_identity_verified        object\n",
              "neighbourhood                 object\n",
              "city                          object\n",
              "property_type                 object\n",
              "room_type                     object\n",
              "accommodates                   int64\n",
              "bedrooms                     float64\n",
              "price                          int64\n",
              "minimum_nights                 int64\n",
              "maximum_nights                 int64\n",
              "instant_bookable              object\n",
              "dtype: object"
            ]
          },
          "execution_count": 8,
          "metadata": {},
          "output_type": "execute_result"
        }
      ],
      "source": [
        "# Exibindo os tipos de cada coluna\n",
        "df1.dtypes"
      ]
    },
    {
      "cell_type": "code",
      "execution_count": 9,
      "metadata": {
        "colab": {
          "base_uri": "https://localhost:8080/"
        },
        "id": "RJz1ERkt5zxM",
        "outputId": "d95f414f-12fd-48f8-db63-1a7215328d0c"
      },
      "outputs": [
        {
          "data": {
            "text/plain": [
              "host_is_superhost              165\n",
              "host_total_listings_count      165\n",
              "host_identity_verified         165\n",
              "neighbourhood                    0\n",
              "city                             0\n",
              "property_type                    0\n",
              "room_type                        0\n",
              "accommodates                     0\n",
              "bedrooms                     29435\n",
              "price                            0\n",
              "minimum_nights                   0\n",
              "maximum_nights                   0\n",
              "instant_bookable                 0\n",
              "dtype: int64"
            ]
          },
          "execution_count": 9,
          "metadata": {},
          "output_type": "execute_result"
        }
      ],
      "source": [
        "# exibindo quantidade de valores nulos\n",
        "df1.isna().sum()"
      ]
    },
    {
      "cell_type": "code",
      "execution_count": 10,
      "metadata": {
        "id": "wZAQgM-F6HQF"
      },
      "outputs": [],
      "source": [
        "# eliminando linhas duplicadas do DataFrame\n",
        "df1.drop_duplicates(inplace=True)"
      ]
    },
    {
      "cell_type": "code",
      "execution_count": 11,
      "metadata": {
        "colab": {
          "base_uri": "https://localhost:8080/",
          "height": 204
        },
        "id": "3ic066616Qxs",
        "outputId": "53f37ba6-9eac-4e29-a7db-fdbbb6b1719b"
      },
      "outputs": [
        {
          "data": {
            "text/html": [
              "<div>\n",
              "<style scoped>\n",
              "    .dataframe tbody tr th:only-of-type {\n",
              "        vertical-align: middle;\n",
              "    }\n",
              "\n",
              "    .dataframe tbody tr th {\n",
              "        vertical-align: top;\n",
              "    }\n",
              "\n",
              "    .dataframe thead th {\n",
              "        text-align: right;\n",
              "    }\n",
              "</style>\n",
              "<table border=\"1\" class=\"dataframe\">\n",
              "  <thead>\n",
              "    <tr style=\"text-align: right;\">\n",
              "      <th></th>\n",
              "      <th>host_is_superhost</th>\n",
              "      <th>host_total_listings_count</th>\n",
              "      <th>host_identity_verified</th>\n",
              "      <th>neighbourhood</th>\n",
              "      <th>city</th>\n",
              "      <th>property_type</th>\n",
              "      <th>room_type</th>\n",
              "      <th>accommodates</th>\n",
              "      <th>bedrooms</th>\n",
              "      <th>price</th>\n",
              "      <th>minimum_nights</th>\n",
              "      <th>maximum_nights</th>\n",
              "      <th>instant_bookable</th>\n",
              "    </tr>\n",
              "  </thead>\n",
              "  <tbody>\n",
              "    <tr>\n",
              "      <th>0</th>\n",
              "      <td>f</td>\n",
              "      <td>1.0</td>\n",
              "      <td>f</td>\n",
              "      <td>Buttes-Montmartre</td>\n",
              "      <td>Paris</td>\n",
              "      <td>Entire apartment</td>\n",
              "      <td>Entire place</td>\n",
              "      <td>2</td>\n",
              "      <td>1.0</td>\n",
              "      <td>53</td>\n",
              "      <td>2</td>\n",
              "      <td>1125</td>\n",
              "      <td>f</td>\n",
              "    </tr>\n",
              "    <tr>\n",
              "      <th>1</th>\n",
              "      <td>f</td>\n",
              "      <td>1.0</td>\n",
              "      <td>t</td>\n",
              "      <td>Buttes-Montmartre</td>\n",
              "      <td>Paris</td>\n",
              "      <td>Entire apartment</td>\n",
              "      <td>Entire place</td>\n",
              "      <td>2</td>\n",
              "      <td>1.0</td>\n",
              "      <td>120</td>\n",
              "      <td>2</td>\n",
              "      <td>1125</td>\n",
              "      <td>f</td>\n",
              "    </tr>\n",
              "    <tr>\n",
              "      <th>2</th>\n",
              "      <td>f</td>\n",
              "      <td>1.0</td>\n",
              "      <td>f</td>\n",
              "      <td>Elysee</td>\n",
              "      <td>Paris</td>\n",
              "      <td>Entire apartment</td>\n",
              "      <td>Entire place</td>\n",
              "      <td>2</td>\n",
              "      <td>1.0</td>\n",
              "      <td>89</td>\n",
              "      <td>2</td>\n",
              "      <td>1125</td>\n",
              "      <td>f</td>\n",
              "    </tr>\n",
              "    <tr>\n",
              "      <th>3</th>\n",
              "      <td>f</td>\n",
              "      <td>1.0</td>\n",
              "      <td>t</td>\n",
              "      <td>Vaugirard</td>\n",
              "      <td>Paris</td>\n",
              "      <td>Entire apartment</td>\n",
              "      <td>Entire place</td>\n",
              "      <td>2</td>\n",
              "      <td>1.0</td>\n",
              "      <td>58</td>\n",
              "      <td>2</td>\n",
              "      <td>1125</td>\n",
              "      <td>f</td>\n",
              "    </tr>\n",
              "    <tr>\n",
              "      <th>4</th>\n",
              "      <td>f</td>\n",
              "      <td>1.0</td>\n",
              "      <td>f</td>\n",
              "      <td>Passy</td>\n",
              "      <td>Paris</td>\n",
              "      <td>Entire apartment</td>\n",
              "      <td>Entire place</td>\n",
              "      <td>2</td>\n",
              "      <td>1.0</td>\n",
              "      <td>60</td>\n",
              "      <td>2</td>\n",
              "      <td>1125</td>\n",
              "      <td>f</td>\n",
              "    </tr>\n",
              "  </tbody>\n",
              "</table>\n",
              "</div>"
            ],
            "text/plain": [
              "  host_is_superhost  host_total_listings_count  ... maximum_nights instant_bookable\n",
              "0                 f                        1.0  ...           1125                f\n",
              "1                 f                        1.0  ...           1125                f\n",
              "2                 f                        1.0  ...           1125                f\n",
              "3                 f                        1.0  ...           1125                f\n",
              "4                 f                        1.0  ...           1125                f\n",
              "\n",
              "[5 rows x 13 columns]"
            ]
          },
          "execution_count": 11,
          "metadata": {},
          "output_type": "execute_result"
        }
      ],
      "source": [
        "df1.head()"
      ]
    },
    {
      "cell_type": "code",
      "execution_count": 12,
      "metadata": {
        "id": "mvN_e1TT6XVi"
      },
      "outputs": [],
      "source": [
        "# Excluindo colunas que não ulitilizaremos e mapeando valores do dataset\n",
        "df1.drop([\"property_type\",\"neighbourhood\"],axis=1,inplace=True)"
      ]
    },
    {
      "cell_type": "code",
      "execution_count": 13,
      "metadata": {
        "id": "LqedVGch6ksL"
      },
      "outputs": [],
      "source": [
        "df1[\"room_type\"]=df1[\"room_type\"].map({\"Entire place\":0,\"Private room\":1,\"Hotel room\":2,\"Shared room\":3})"
      ]
    },
    {
      "cell_type": "code",
      "execution_count": 14,
      "metadata": {
        "id": "LUfacel-6rLy"
      },
      "outputs": [],
      "source": [
        "df1[\"instant_bookable\"]=df1[\"instant_bookable\"].map({\"t\":0,\"f\":1})"
      ]
    },
    {
      "cell_type": "code",
      "execution_count": 15,
      "metadata": {
        "id": "qW6-Be9K6xLB"
      },
      "outputs": [],
      "source": [
        "df1[\"host_identity_v0rified\"]=df1[\"host_identity_verified\"].map({\"t\":0,\"f\":1})"
      ]
    },
    {
      "cell_type": "code",
      "execution_count": 16,
      "metadata": {
        "id": "0--rD92z62GR"
      },
      "outputs": [],
      "source": [
        "df1[\"host_is_superhost\"]=df1[\"host_is_superhost\"].map({\"f\":0,\"t\":1})"
      ]
    },
    {
      "cell_type": "code",
      "execution_count": 17,
      "metadata": {
        "id": "hgsPxW3E7Cn9"
      },
      "outputs": [],
      "source": [
        "df1.drop(\"host_identity_verified\",axis=1,inplace=True)"
      ]
    },
    {
      "cell_type": "code",
      "execution_count": 18,
      "metadata": {
        "colab": {
          "base_uri": "https://localhost:8080/",
          "height": 204
        },
        "id": "k77LZfzx66y1",
        "outputId": "7b29af9d-4515-4044-be37-115bf5abaac4"
      },
      "outputs": [
        {
          "data": {
            "text/html": [
              "<div>\n",
              "<style scoped>\n",
              "    .dataframe tbody tr th:only-of-type {\n",
              "        vertical-align: middle;\n",
              "    }\n",
              "\n",
              "    .dataframe tbody tr th {\n",
              "        vertical-align: top;\n",
              "    }\n",
              "\n",
              "    .dataframe thead th {\n",
              "        text-align: right;\n",
              "    }\n",
              "</style>\n",
              "<table border=\"1\" class=\"dataframe\">\n",
              "  <thead>\n",
              "    <tr style=\"text-align: right;\">\n",
              "      <th></th>\n",
              "      <th>host_is_superhost</th>\n",
              "      <th>host_total_listings_count</th>\n",
              "      <th>city</th>\n",
              "      <th>room_type</th>\n",
              "      <th>accommodates</th>\n",
              "      <th>bedrooms</th>\n",
              "      <th>price</th>\n",
              "      <th>minimum_nights</th>\n",
              "      <th>maximum_nights</th>\n",
              "      <th>instant_bookable</th>\n",
              "      <th>host_identity_v0rified</th>\n",
              "    </tr>\n",
              "  </thead>\n",
              "  <tbody>\n",
              "    <tr>\n",
              "      <th>0</th>\n",
              "      <td>0.0</td>\n",
              "      <td>1.0</td>\n",
              "      <td>Paris</td>\n",
              "      <td>0</td>\n",
              "      <td>2</td>\n",
              "      <td>1.0</td>\n",
              "      <td>53</td>\n",
              "      <td>2</td>\n",
              "      <td>1125</td>\n",
              "      <td>1</td>\n",
              "      <td>1.0</td>\n",
              "    </tr>\n",
              "    <tr>\n",
              "      <th>1</th>\n",
              "      <td>0.0</td>\n",
              "      <td>1.0</td>\n",
              "      <td>Paris</td>\n",
              "      <td>0</td>\n",
              "      <td>2</td>\n",
              "      <td>1.0</td>\n",
              "      <td>120</td>\n",
              "      <td>2</td>\n",
              "      <td>1125</td>\n",
              "      <td>1</td>\n",
              "      <td>0.0</td>\n",
              "    </tr>\n",
              "    <tr>\n",
              "      <th>2</th>\n",
              "      <td>0.0</td>\n",
              "      <td>1.0</td>\n",
              "      <td>Paris</td>\n",
              "      <td>0</td>\n",
              "      <td>2</td>\n",
              "      <td>1.0</td>\n",
              "      <td>89</td>\n",
              "      <td>2</td>\n",
              "      <td>1125</td>\n",
              "      <td>1</td>\n",
              "      <td>1.0</td>\n",
              "    </tr>\n",
              "    <tr>\n",
              "      <th>3</th>\n",
              "      <td>0.0</td>\n",
              "      <td>1.0</td>\n",
              "      <td>Paris</td>\n",
              "      <td>0</td>\n",
              "      <td>2</td>\n",
              "      <td>1.0</td>\n",
              "      <td>58</td>\n",
              "      <td>2</td>\n",
              "      <td>1125</td>\n",
              "      <td>1</td>\n",
              "      <td>0.0</td>\n",
              "    </tr>\n",
              "    <tr>\n",
              "      <th>4</th>\n",
              "      <td>0.0</td>\n",
              "      <td>1.0</td>\n",
              "      <td>Paris</td>\n",
              "      <td>0</td>\n",
              "      <td>2</td>\n",
              "      <td>1.0</td>\n",
              "      <td>60</td>\n",
              "      <td>2</td>\n",
              "      <td>1125</td>\n",
              "      <td>1</td>\n",
              "      <td>1.0</td>\n",
              "    </tr>\n",
              "  </tbody>\n",
              "</table>\n",
              "</div>"
            ],
            "text/plain": [
              "   host_is_superhost  ...  host_identity_v0rified\n",
              "0                0.0  ...                     1.0\n",
              "1                0.0  ...                     0.0\n",
              "2                0.0  ...                     1.0\n",
              "3                0.0  ...                     0.0\n",
              "4                0.0  ...                     1.0\n",
              "\n",
              "[5 rows x 11 columns]"
            ]
          },
          "execution_count": 18,
          "metadata": {},
          "output_type": "execute_result"
        }
      ],
      "source": [
        "df1.head()"
      ]
    },
    {
      "cell_type": "code",
      "execution_count": 19,
      "metadata": {
        "id": "eQ5tDPlk7EuZ"
      },
      "outputs": [],
      "source": [
        "# Excluindo valores nulos do nosso dataset\n",
        "df1.dropna(inplace = True)"
      ]
    },
    {
      "cell_type": "code",
      "execution_count": 20,
      "metadata": {
        "colab": {
          "base_uri": "https://localhost:8080/"
        },
        "id": "R6fvo1f-7H9Q",
        "outputId": "4cff3b97-9ddf-48b7-c455-565bee4079c1"
      },
      "outputs": [
        {
          "data": {
            "text/plain": [
              "host_is_superhost            0\n",
              "host_total_listings_count    0\n",
              "city                         0\n",
              "room_type                    0\n",
              "accommodates                 0\n",
              "bedrooms                     0\n",
              "price                        0\n",
              "minimum_nights               0\n",
              "maximum_nights               0\n",
              "instant_bookable             0\n",
              "host_identity_v0rified       0\n",
              "dtype: int64"
            ]
          },
          "execution_count": 20,
          "metadata": {},
          "output_type": "execute_result"
        }
      ],
      "source": [
        "# exibindo quantidade de valores nulos na tabela novamente\n",
        "df1.isna().sum()"
      ]
    },
    {
      "cell_type": "code",
      "execution_count": 21,
      "metadata": {
        "colab": {
          "base_uri": "https://localhost:8080/",
          "height": 204
        },
        "id": "c2KoV-_57MGA",
        "outputId": "eb22e844-e5e5-4b12-90db-dcfcdc4a056b"
      },
      "outputs": [
        {
          "data": {
            "text/html": [
              "<div>\n",
              "<style scoped>\n",
              "    .dataframe tbody tr th:only-of-type {\n",
              "        vertical-align: middle;\n",
              "    }\n",
              "\n",
              "    .dataframe tbody tr th {\n",
              "        vertical-align: top;\n",
              "    }\n",
              "\n",
              "    .dataframe thead th {\n",
              "        text-align: right;\n",
              "    }\n",
              "</style>\n",
              "<table border=\"1\" class=\"dataframe\">\n",
              "  <thead>\n",
              "    <tr style=\"text-align: right;\">\n",
              "      <th></th>\n",
              "      <th>host_is_superhost</th>\n",
              "      <th>host_total_listings_count</th>\n",
              "      <th>city</th>\n",
              "      <th>room_type</th>\n",
              "      <th>accommodates</th>\n",
              "      <th>bedrooms</th>\n",
              "      <th>price</th>\n",
              "      <th>minimum_nights</th>\n",
              "      <th>maximum_nights</th>\n",
              "      <th>instant_bookable</th>\n",
              "      <th>host_identity_v0rified</th>\n",
              "    </tr>\n",
              "  </thead>\n",
              "  <tbody>\n",
              "    <tr>\n",
              "      <th>0</th>\n",
              "      <td>0.0</td>\n",
              "      <td>1.0</td>\n",
              "      <td>Paris</td>\n",
              "      <td>0</td>\n",
              "      <td>2</td>\n",
              "      <td>1.0</td>\n",
              "      <td>53</td>\n",
              "      <td>2</td>\n",
              "      <td>1125</td>\n",
              "      <td>1</td>\n",
              "      <td>1.0</td>\n",
              "    </tr>\n",
              "    <tr>\n",
              "      <th>1</th>\n",
              "      <td>0.0</td>\n",
              "      <td>1.0</td>\n",
              "      <td>Paris</td>\n",
              "      <td>0</td>\n",
              "      <td>2</td>\n",
              "      <td>1.0</td>\n",
              "      <td>120</td>\n",
              "      <td>2</td>\n",
              "      <td>1125</td>\n",
              "      <td>1</td>\n",
              "      <td>0.0</td>\n",
              "    </tr>\n",
              "    <tr>\n",
              "      <th>2</th>\n",
              "      <td>0.0</td>\n",
              "      <td>1.0</td>\n",
              "      <td>Paris</td>\n",
              "      <td>0</td>\n",
              "      <td>2</td>\n",
              "      <td>1.0</td>\n",
              "      <td>89</td>\n",
              "      <td>2</td>\n",
              "      <td>1125</td>\n",
              "      <td>1</td>\n",
              "      <td>1.0</td>\n",
              "    </tr>\n",
              "    <tr>\n",
              "      <th>3</th>\n",
              "      <td>0.0</td>\n",
              "      <td>1.0</td>\n",
              "      <td>Paris</td>\n",
              "      <td>0</td>\n",
              "      <td>2</td>\n",
              "      <td>1.0</td>\n",
              "      <td>58</td>\n",
              "      <td>2</td>\n",
              "      <td>1125</td>\n",
              "      <td>1</td>\n",
              "      <td>0.0</td>\n",
              "    </tr>\n",
              "    <tr>\n",
              "      <th>4</th>\n",
              "      <td>0.0</td>\n",
              "      <td>1.0</td>\n",
              "      <td>Paris</td>\n",
              "      <td>0</td>\n",
              "      <td>2</td>\n",
              "      <td>1.0</td>\n",
              "      <td>60</td>\n",
              "      <td>2</td>\n",
              "      <td>1125</td>\n",
              "      <td>1</td>\n",
              "      <td>1.0</td>\n",
              "    </tr>\n",
              "  </tbody>\n",
              "</table>\n",
              "</div>"
            ],
            "text/plain": [
              "   host_is_superhost  ...  host_identity_v0rified\n",
              "0                0.0  ...                     1.0\n",
              "1                0.0  ...                     0.0\n",
              "2                0.0  ...                     1.0\n",
              "3                0.0  ...                     0.0\n",
              "4                0.0  ...                     1.0\n",
              "\n",
              "[5 rows x 11 columns]"
            ]
          },
          "execution_count": 21,
          "metadata": {},
          "output_type": "execute_result"
        }
      ],
      "source": [
        "df1.head()"
      ]
    },
    {
      "cell_type": "code",
      "execution_count": 22,
      "metadata": {
        "id": "mMVjoIGG7aPv"
      },
      "outputs": [],
      "source": [
        "Q1 = df1.quantile(0.25)\n",
        "Q3 = df1.quantile(0.75)\n",
        "IQR=Q3-Q1\n",
        "df_clean=df1[~((df1<(Q1-1.5*IQR))|(df1>(Q3+1.5*IQR))).any(axis=1)]"
      ]
    },
    {
      "cell_type": "code",
      "execution_count": 23,
      "metadata": {
        "colab": {
          "base_uri": "https://localhost:8080/"
        },
        "id": "_0yNpndk7kIa",
        "outputId": "6894bf57-aa7a-4b1c-981d-338084d3cde6"
      },
      "outputs": [
        {
          "data": {
            "text/plain": [
              "(117308, 11)"
            ]
          },
          "execution_count": 23,
          "metadata": {},
          "output_type": "execute_result"
        }
      ],
      "source": [
        "# Exibindo a quantidade de linhas e colunas do dataset\n",
        "df_clean.shape"
      ]
    },
    {
      "cell_type": "code",
      "execution_count": 24,
      "metadata": {
        "colab": {
          "base_uri": "https://localhost:8080/"
        },
        "id": "bqdL9PoJ7qkJ",
        "outputId": "d2263fbe-612a-40d5-8aab-c4931972e4ce"
      },
      "outputs": [
        {
          "data": {
            "text/plain": [
              "Index(['host_is_superhost', 'host_total_listings_count', 'city', 'room_type',\n",
              "       'accommodates', 'bedrooms', 'price', 'minimum_nights', 'maximum_nights',\n",
              "       'instant_bookable', 'host_identity_v0rified'],\n",
              "      dtype='object')"
            ]
          },
          "execution_count": 24,
          "metadata": {},
          "output_type": "execute_result"
        }
      ],
      "source": [
        "df_clean.columns"
      ]
    },
    {
      "cell_type": "code",
      "execution_count": 25,
      "metadata": {
        "colab": {
          "base_uri": "https://localhost:8080/",
          "height": 204
        },
        "id": "pBStAbdU_liC",
        "outputId": "00aae011-3d66-4756-b0bd-fcb16f32795a"
      },
      "outputs": [
        {
          "data": {
            "text/html": [
              "<div>\n",
              "<style scoped>\n",
              "    .dataframe tbody tr th:only-of-type {\n",
              "        vertical-align: middle;\n",
              "    }\n",
              "\n",
              "    .dataframe tbody tr th {\n",
              "        vertical-align: top;\n",
              "    }\n",
              "\n",
              "    .dataframe thead th {\n",
              "        text-align: right;\n",
              "    }\n",
              "</style>\n",
              "<table border=\"1\" class=\"dataframe\">\n",
              "  <thead>\n",
              "    <tr style=\"text-align: right;\">\n",
              "      <th></th>\n",
              "      <th>host_is_superhost</th>\n",
              "      <th>host_total_listings_count</th>\n",
              "      <th>city</th>\n",
              "      <th>room_type</th>\n",
              "      <th>accommodates</th>\n",
              "      <th>bedrooms</th>\n",
              "      <th>price</th>\n",
              "      <th>minimum_nights</th>\n",
              "      <th>maximum_nights</th>\n",
              "      <th>instant_bookable</th>\n",
              "      <th>host_identity_v0rified</th>\n",
              "    </tr>\n",
              "  </thead>\n",
              "  <tbody>\n",
              "    <tr>\n",
              "      <th>0</th>\n",
              "      <td>0.0</td>\n",
              "      <td>1.0</td>\n",
              "      <td>Paris</td>\n",
              "      <td>0</td>\n",
              "      <td>2</td>\n",
              "      <td>1.0</td>\n",
              "      <td>53</td>\n",
              "      <td>2</td>\n",
              "      <td>1125</td>\n",
              "      <td>1</td>\n",
              "      <td>1.0</td>\n",
              "    </tr>\n",
              "    <tr>\n",
              "      <th>1</th>\n",
              "      <td>0.0</td>\n",
              "      <td>1.0</td>\n",
              "      <td>Paris</td>\n",
              "      <td>0</td>\n",
              "      <td>2</td>\n",
              "      <td>1.0</td>\n",
              "      <td>120</td>\n",
              "      <td>2</td>\n",
              "      <td>1125</td>\n",
              "      <td>1</td>\n",
              "      <td>0.0</td>\n",
              "    </tr>\n",
              "    <tr>\n",
              "      <th>2</th>\n",
              "      <td>0.0</td>\n",
              "      <td>1.0</td>\n",
              "      <td>Paris</td>\n",
              "      <td>0</td>\n",
              "      <td>2</td>\n",
              "      <td>1.0</td>\n",
              "      <td>89</td>\n",
              "      <td>2</td>\n",
              "      <td>1125</td>\n",
              "      <td>1</td>\n",
              "      <td>1.0</td>\n",
              "    </tr>\n",
              "    <tr>\n",
              "      <th>3</th>\n",
              "      <td>0.0</td>\n",
              "      <td>1.0</td>\n",
              "      <td>Paris</td>\n",
              "      <td>0</td>\n",
              "      <td>2</td>\n",
              "      <td>1.0</td>\n",
              "      <td>58</td>\n",
              "      <td>2</td>\n",
              "      <td>1125</td>\n",
              "      <td>1</td>\n",
              "      <td>0.0</td>\n",
              "    </tr>\n",
              "    <tr>\n",
              "      <th>4</th>\n",
              "      <td>0.0</td>\n",
              "      <td>1.0</td>\n",
              "      <td>Paris</td>\n",
              "      <td>0</td>\n",
              "      <td>2</td>\n",
              "      <td>1.0</td>\n",
              "      <td>60</td>\n",
              "      <td>2</td>\n",
              "      <td>1125</td>\n",
              "      <td>1</td>\n",
              "      <td>1.0</td>\n",
              "    </tr>\n",
              "  </tbody>\n",
              "</table>\n",
              "</div>"
            ],
            "text/plain": [
              "   host_is_superhost  ...  host_identity_v0rified\n",
              "0                0.0  ...                     1.0\n",
              "1                0.0  ...                     0.0\n",
              "2                0.0  ...                     1.0\n",
              "3                0.0  ...                     0.0\n",
              "4                0.0  ...                     1.0\n",
              "\n",
              "[5 rows x 11 columns]"
            ]
          },
          "execution_count": 25,
          "metadata": {},
          "output_type": "execute_result"
        }
      ],
      "source": [
        "df_clean.head()"
      ]
    },
    {
      "cell_type": "code",
      "execution_count": 26,
      "metadata": {
        "id": "adwkOKr89GAp"
      },
      "outputs": [],
      "source": [
        "X=df_clean\n",
        "y=pd.DataFrame(df_clean, columns=[\"price\"])"
      ]
    },
    {
      "cell_type": "code",
      "execution_count": 27,
      "metadata": {
        "id": "WkSIjh7J9H0Z"
      },
      "outputs": [],
      "source": [
        "#Dividindo os dados em conjuntos de treinamento e teste.\n",
        "from sklearn.model_selection import train_test_split\n",
        "X_train,X_test,y_train,y_test=train_test_split(X,y,random_state=0,test_size=0.2)"
      ]
    },
    {
      "cell_type": "code",
      "execution_count": 28,
      "metadata": {
        "id": "2BUdOcbkZN__"
      },
      "outputs": [],
      "source": [
        "# Dividindo o nosso Dataset por cidade\n",
        "Sydney = X_test[X_test[\"city\"]==\"Sydney\"]\n",
        "rio = X_test[X_test[\"city\"]==\"Rio de Janeiro\"]\n",
        "bangkok = X_test[X_test[\"city\"]==\"Bangkok\"]\n",
        "newYork = X_test[X_test[\"city\"]==\"New York\"]\n",
        "paris = X_test[X_test[\"city\"]==\"Paris\"]\n",
        "capeTown = X_test[X_test[\"city\"]==\"Cape Town\"]\n",
        "mexicoCity = X_test[X_test[\"city\"]==\"Mexico City\"]\n",
        "istanbul = X_test[X_test[\"city\"]==\"Istanbul\"]\n",
        "hongKong = X_test[X_test[\"city\"]==\"Hong Kong\"]\n",
        "rome = X_test[X_test[\"city\"]==\"Rome\"]"
      ]
    },
    {
      "cell_type": "code",
      "execution_count": 29,
      "metadata": {
        "id": "JRsbJyuj9Ln2"
      },
      "outputs": [],
      "source": [
        "# Regressão linear é um algoritmo supervisionado de machine learning usado para estimar o valor de algo baseado em uma série de outros dados históricos, portanto olhando para o passado você pode “prever” o futuro.\n",
        "from sklearn.linear_model import LinearRegression\n",
        "model=LinearRegression()"
      ]
    },
    {
      "cell_type": "code",
      "execution_count": 30,
      "metadata": {
        "id": "NQTX7AJ59PHA"
      },
      "outputs": [],
      "source": [
        "#Treinando nosso primeiro modelo com o metodo de Regressao Linear\n",
        "cols = ['host_is_superhost','host_total_listings_count','room_type','accommodates','bedrooms','minimum_nights','maximum_nights','instant_bookable','host_identity_v0rified']\n",
        "# model.fit(X_train[cols],y_train['price'])\n",
        "model.fit(X_train[cols],y_train)\n",
        "rl_pred=model.predict(X_test[cols])"
      ]
    },
    {
      "cell_type": "code",
      "execution_count": 31,
      "metadata": {
        "id": "cYFm9oI19Vm0"
      },
      "outputs": [],
      "source": [
        "from sklearn import metrics"
      ]
    },
    {
      "cell_type": "code",
      "execution_count": 32,
      "metadata": {
        "colab": {
          "base_uri": "https://localhost:8080/"
        },
        "id": "AaTJoMos9b-t",
        "outputId": "cae491b4-610f-4687-d933-3b6f6a291eae"
      },
      "outputs": [
        {
          "name": "stdout",
          "output_type": "stream",
          "text": [
            "235.71\n"
          ]
        }
      ],
      "source": [
        "# testando o modelo RL usando Raiz do erro quadrático médio\n",
        "rmse = np.sqrt(metrics.mean_squared_error(y_test['price'],rl_pred))\n",
        "print(rmse.round(2))"
      ]
    },
    {
      "cell_type": "code",
      "execution_count": 79,
      "metadata": {
        "colab": {
          "base_uri": "https://localhost:8080/"
        },
        "id": "_EYsHxPY9kpc",
        "outputId": "41265425-3d55-40b8-be99-1587f7abd61e"
      },
      "outputs": [
        {
          "data": {
            "text/plain": [
              "0.05914099421332475"
            ]
          },
          "execution_count": 79,
          "metadata": {},
          "output_type": "execute_result"
        }
      ],
      "source": [
        "# R-Quadrado\n",
        "metrics.r2_score(y_test['price'],rl_pred)"
      ]
    },
    {
      "cell_type": "code",
      "execution_count": 33,
      "metadata": {
        "colab": {
          "base_uri": "https://localhost:8080/",
          "height": 419
        },
        "id": "UQAZcf039u91",
        "outputId": "37e399da-a1c5-48d0-d032-c860237bba86"
      },
      "outputs": [
        {
          "data": {
            "text/html": [
              "<div>\n",
              "<style scoped>\n",
              "    .dataframe tbody tr th:only-of-type {\n",
              "        vertical-align: middle;\n",
              "    }\n",
              "\n",
              "    .dataframe tbody tr th {\n",
              "        vertical-align: top;\n",
              "    }\n",
              "\n",
              "    .dataframe thead th {\n",
              "        text-align: right;\n",
              "    }\n",
              "</style>\n",
              "<table border=\"1\" class=\"dataframe\">\n",
              "  <thead>\n",
              "    <tr style=\"text-align: right;\">\n",
              "      <th></th>\n",
              "      <th>rl</th>\n",
              "    </tr>\n",
              "  </thead>\n",
              "  <tbody>\n",
              "    <tr>\n",
              "      <th>0</th>\n",
              "      <td>171.61</td>\n",
              "    </tr>\n",
              "    <tr>\n",
              "      <th>1</th>\n",
              "      <td>195.83</td>\n",
              "    </tr>\n",
              "    <tr>\n",
              "      <th>2</th>\n",
              "      <td>213.21</td>\n",
              "    </tr>\n",
              "    <tr>\n",
              "      <th>3</th>\n",
              "      <td>192.31</td>\n",
              "    </tr>\n",
              "    <tr>\n",
              "      <th>4</th>\n",
              "      <td>163.80</td>\n",
              "    </tr>\n",
              "    <tr>\n",
              "      <th>...</th>\n",
              "      <td>...</td>\n",
              "    </tr>\n",
              "    <tr>\n",
              "      <th>23457</th>\n",
              "      <td>224.47</td>\n",
              "    </tr>\n",
              "    <tr>\n",
              "      <th>23458</th>\n",
              "      <td>279.85</td>\n",
              "    </tr>\n",
              "    <tr>\n",
              "      <th>23459</th>\n",
              "      <td>169.02</td>\n",
              "    </tr>\n",
              "    <tr>\n",
              "      <th>23460</th>\n",
              "      <td>247.98</td>\n",
              "    </tr>\n",
              "    <tr>\n",
              "      <th>23461</th>\n",
              "      <td>269.58</td>\n",
              "    </tr>\n",
              "  </tbody>\n",
              "</table>\n",
              "<p>23462 rows × 1 columns</p>\n",
              "</div>"
            ],
            "text/plain": [
              "           rl\n",
              "0      171.61\n",
              "1      195.83\n",
              "2      213.21\n",
              "3      192.31\n",
              "4      163.80\n",
              "...       ...\n",
              "23457  224.47\n",
              "23458  279.85\n",
              "23459  169.02\n",
              "23460  247.98\n",
              "23461  269.58\n",
              "\n",
              "[23462 rows x 1 columns]"
            ]
          },
          "execution_count": 33,
          "metadata": {},
          "output_type": "execute_result"
        }
      ],
      "source": [
        "rl = pd.DataFrame(rl_pred)\n",
        "rl=rl.rename(index=str, columns={0:'rl'})\n",
        "rl.round(2)"
      ]
    },
    {
      "cell_type": "code",
      "execution_count": 55,
      "metadata": {
        "id": "16U0PLbokqqi"
      },
      "outputs": [],
      "source": [
        "#Treinando nosso segundo modelo com o metodo de Árvore de Decisao\n",
        "# A árvore de Decisão é um tipo de algoritmo de aprendizagem de máquina supervisionado que se baseia na ideia de divisão dos dados em grupos homogêneos, podem ser utilizadas em um cenário de classificação ou regressão.\n",
        "from sklearn.tree import  DecisionTreeRegressor\n",
        "DTree = DecisionTreeRegressor(max_depth=3)\n",
        "DTree.fit(X_train[cols],y_train)\n",
        "DTree_pred=DTree.predict(X_test[cols])"
      ]
    },
    {
      "cell_type": "code",
      "execution_count": 57,
      "metadata": {
        "colab": {
          "base_uri": "https://localhost:8080/"
        },
        "id": "84thdZ0bl3Nm",
        "outputId": "e9927436-265d-4d61-9452-55bca0611d91"
      },
      "outputs": [
        {
          "name": "stdout",
          "output_type": "stream",
          "text": [
            "236.53\n"
          ]
        }
      ],
      "source": [
        "rmse = np.sqrt(metrics.mean_squared_error(y_test['price'],DTree_pred))\n",
        "print(rmse.round(2))"
      ]
    },
    {
      "cell_type": "code",
      "execution_count": 81,
      "metadata": {
        "colab": {
          "base_uri": "https://localhost:8080/"
        },
        "id": "3a4HjfILu9Mk",
        "outputId": "7947cf07-4908-4670-eeb8-198651dc4686"
      },
      "outputs": [
        {
          "data": {
            "text/plain": [
              "0.052561886142595604"
            ]
          },
          "execution_count": 81,
          "metadata": {},
          "output_type": "execute_result"
        }
      ],
      "source": [
        "# R-Quadrado\n",
        "metrics.r2_score(y_test['price'],DTree_pred)"
      ]
    },
    {
      "cell_type": "code",
      "execution_count": 58,
      "metadata": {
        "colab": {
          "base_uri": "https://localhost:8080/",
          "height": 419
        },
        "id": "eAiKD-GKKkxu",
        "outputId": "b7ed775e-6524-4d5a-8141-b35cc69279a2"
      },
      "outputs": [
        {
          "data": {
            "text/html": [
              "<div>\n",
              "<style scoped>\n",
              "    .dataframe tbody tr th:only-of-type {\n",
              "        vertical-align: middle;\n",
              "    }\n",
              "\n",
              "    .dataframe tbody tr th {\n",
              "        vertical-align: top;\n",
              "    }\n",
              "\n",
              "    .dataframe thead th {\n",
              "        text-align: right;\n",
              "    }\n",
              "</style>\n",
              "<table border=\"1\" class=\"dataframe\">\n",
              "  <thead>\n",
              "    <tr style=\"text-align: right;\">\n",
              "      <th></th>\n",
              "      <th>Predicted Values</th>\n",
              "    </tr>\n",
              "  </thead>\n",
              "  <tbody>\n",
              "    <tr>\n",
              "      <th>0</th>\n",
              "      <td>172.006668</td>\n",
              "    </tr>\n",
              "    <tr>\n",
              "      <th>1</th>\n",
              "      <td>268.967947</td>\n",
              "    </tr>\n",
              "    <tr>\n",
              "      <th>2</th>\n",
              "      <td>231.272953</td>\n",
              "    </tr>\n",
              "    <tr>\n",
              "      <th>3</th>\n",
              "      <td>172.006668</td>\n",
              "    </tr>\n",
              "    <tr>\n",
              "      <th>4</th>\n",
              "      <td>172.006668</td>\n",
              "    </tr>\n",
              "    <tr>\n",
              "      <th>...</th>\n",
              "      <td>...</td>\n",
              "    </tr>\n",
              "    <tr>\n",
              "      <th>23457</th>\n",
              "      <td>283.284755</td>\n",
              "    </tr>\n",
              "    <tr>\n",
              "      <th>23458</th>\n",
              "      <td>268.967947</td>\n",
              "    </tr>\n",
              "    <tr>\n",
              "      <th>23459</th>\n",
              "      <td>172.006668</td>\n",
              "    </tr>\n",
              "    <tr>\n",
              "      <th>23460</th>\n",
              "      <td>225.671632</td>\n",
              "    </tr>\n",
              "    <tr>\n",
              "      <th>23461</th>\n",
              "      <td>268.967947</td>\n",
              "    </tr>\n",
              "  </tbody>\n",
              "</table>\n",
              "<p>23462 rows × 1 columns</p>\n",
              "</div>"
            ],
            "text/plain": [
              "       Predicted Values\n",
              "0            172.006668\n",
              "1            268.967947\n",
              "2            231.272953\n",
              "3            172.006668\n",
              "4            172.006668\n",
              "...                 ...\n",
              "23457        283.284755\n",
              "23458        268.967947\n",
              "23459        172.006668\n",
              "23460        225.671632\n",
              "23461        268.967947\n",
              "\n",
              "[23462 rows x 1 columns]"
            ]
          },
          "execution_count": 58,
          "metadata": {},
          "output_type": "execute_result"
        }
      ],
      "source": [
        "tree  =  pd.DataFrame(DTree_pred)\n",
        "tree=tree.rename(index=str, columns={0:'Predicted Values'})\n",
        "tree"
      ]
    },
    {
      "cell_type": "code",
      "execution_count": 37,
      "metadata": {
        "colab": {
          "base_uri": "https://localhost:8080/"
        },
        "id": "77ILi20I3AXf",
        "outputId": "6f9a6e56-324a-40ae-a03c-ab2ad05f2603"
      },
      "outputs": [
        {
          "name": "stdout",
          "output_type": "stream",
          "text": [
            "[23:49:23] WARNING: /workspace/src/objective/regression_obj.cu:152: reg:linear is now deprecated in favor of reg:squarederror.\n"
          ]
        },
        {
          "data": {
            "text/plain": [
              "XGBRegressor(base_score=0.5, booster='gbtree', colsample_bylevel=1,\n",
              "             colsample_bynode=1, colsample_bytree=1, gamma=0,\n",
              "             importance_type='gain', learning_rate=0.05, max_delta_step=0,\n",
              "             max_depth=3, min_child_weight=0.001, missing=None,\n",
              "             n_estimators=1000, n_jobs=1, nthread=None, objective='reg:linear',\n",
              "             random_state=0, reg_alpha=0, reg_lambda=1, scale_pos_weight=1,\n",
              "             seed=None, silent=None, subsample=1, verbosity=1)"
            ]
          },
          "execution_count": 37,
          "metadata": {},
          "output_type": "execute_result"
        }
      ],
      "source": [
        "#Treinando nosso Terceiro modelo com o metodo xgboost, baseado em árvore de decisão e que utiliza uma estrutura de Gradient boosting.\n",
        "import xgboost as xgb\n",
        "xgb_model = xgb.XGBRegressor(\n",
        "    learning_rate=0.05,\n",
        "    max_depth=3,\n",
        "    min_child_weight=0.001,\n",
        "    n_estimators=1000)\n",
        "xgb_model.fit(X_train[cols], y_train)"
      ]
    },
    {
      "cell_type": "code",
      "execution_count": 38,
      "metadata": {
        "colab": {
          "base_uri": "https://localhost:8080/"
        },
        "id": "kjmRRgUC-Yrd",
        "outputId": "49c5997e-f372-4ac0-8cf3-85084fbdaf16"
      },
      "outputs": [
        {
          "name": "stdout",
          "output_type": "stream",
          "text": [
            "231.27\n"
          ]
        }
      ],
      "source": [
        "# testando o modelo xgb usando Raiz do erro quadrático médio\n",
        "xgb_pred=xgb_model.predict(X_test[cols])\n",
        "rmse = np.sqrt(metrics.mean_squared_error(y_test['price'],xgb_pred))\n",
        "print(rmse.round(2))"
      ]
    },
    {
      "cell_type": "code",
      "execution_count": 80,
      "metadata": {
        "colab": {
          "base_uri": "https://localhost:8080/"
        },
        "id": "cX48PXZnvGZr",
        "outputId": "5763a734-0f65-4fb2-a2a0-5ae1a3ce8238"
      },
      "outputs": [
        {
          "data": {
            "text/plain": [
              "0.0942503135325784"
            ]
          },
          "execution_count": 80,
          "metadata": {},
          "output_type": "execute_result"
        }
      ],
      "source": [
        "# R-Quadrado\n",
        "metrics.r2_score(y_test['price'],xgb_pred)"
      ]
    },
    {
      "cell_type": "code",
      "execution_count": 39,
      "metadata": {
        "id": "GQUk16LfB6Ox"
      },
      "outputs": [],
      "source": [
        "xgb = pd.DataFrame(xgb_pred)\n",
        "xgb=xgb.rename(index=str, columns={0:'xgb'})"
      ]
    },
    {
      "cell_type": "code",
      "execution_count": 40,
      "metadata": {
        "colab": {
          "base_uri": "https://localhost:8080/",
          "height": 419
        },
        "id": "h-z776EvlG-y",
        "outputId": "a43f5d46-a85d-46db-a6b4-83b5b0fb20ec"
      },
      "outputs": [
        {
          "data": {
            "text/html": [
              "<div>\n",
              "<style scoped>\n",
              "    .dataframe tbody tr th:only-of-type {\n",
              "        vertical-align: middle;\n",
              "    }\n",
              "\n",
              "    .dataframe tbody tr th {\n",
              "        vertical-align: top;\n",
              "    }\n",
              "\n",
              "    .dataframe thead th {\n",
              "        text-align: right;\n",
              "    }\n",
              "</style>\n",
              "<table border=\"1\" class=\"dataframe\">\n",
              "  <thead>\n",
              "    <tr style=\"text-align: right;\">\n",
              "      <th></th>\n",
              "      <th>Actual Values</th>\n",
              "    </tr>\n",
              "  </thead>\n",
              "  <tbody>\n",
              "    <tr>\n",
              "      <th>0</th>\n",
              "      <td>89</td>\n",
              "    </tr>\n",
              "    <tr>\n",
              "      <th>1</th>\n",
              "      <td>58</td>\n",
              "    </tr>\n",
              "    <tr>\n",
              "      <th>2</th>\n",
              "      <td>200</td>\n",
              "    </tr>\n",
              "    <tr>\n",
              "      <th>3</th>\n",
              "      <td>90</td>\n",
              "    </tr>\n",
              "    <tr>\n",
              "      <th>4</th>\n",
              "      <td>832</td>\n",
              "    </tr>\n",
              "    <tr>\n",
              "      <th>...</th>\n",
              "      <td>...</td>\n",
              "    </tr>\n",
              "    <tr>\n",
              "      <th>23457</th>\n",
              "      <td>75</td>\n",
              "    </tr>\n",
              "    <tr>\n",
              "      <th>23458</th>\n",
              "      <td>185</td>\n",
              "    </tr>\n",
              "    <tr>\n",
              "      <th>23459</th>\n",
              "      <td>60</td>\n",
              "    </tr>\n",
              "    <tr>\n",
              "      <th>23460</th>\n",
              "      <td>350</td>\n",
              "    </tr>\n",
              "    <tr>\n",
              "      <th>23461</th>\n",
              "      <td>125</td>\n",
              "    </tr>\n",
              "  </tbody>\n",
              "</table>\n",
              "<p>23462 rows × 1 columns</p>\n",
              "</div>"
            ],
            "text/plain": [
              "       Actual Values\n",
              "0                 89\n",
              "1                 58\n",
              "2                200\n",
              "3                 90\n",
              "4                832\n",
              "...              ...\n",
              "23457             75\n",
              "23458            185\n",
              "23459             60\n",
              "23460            350\n",
              "23461            125\n",
              "\n",
              "[23462 rows x 1 columns]"
            ]
          },
          "execution_count": 40,
          "metadata": {},
          "output_type": "execute_result"
        }
      ],
      "source": [
        "att = np.array(y_test)\n",
        "pri  =  pd.DataFrame(att)\n",
        "pri=pri.rename(index=str, columns={0:'Actual Values'})\n",
        "pri"
      ]
    },
    {
      "cell_type": "code",
      "execution_count": 69,
      "metadata": {
        "colab": {
          "base_uri": "https://localhost:8080/",
          "height": 419
        },
        "id": "rBUBM71dHoiB",
        "outputId": "73b9ebdc-bdaa-4c28-857c-28bea671eba8"
      },
      "outputs": [
        {
          "data": {
            "text/html": [
              "<div>\n",
              "<style scoped>\n",
              "    .dataframe tbody tr th:only-of-type {\n",
              "        vertical-align: middle;\n",
              "    }\n",
              "\n",
              "    .dataframe tbody tr th {\n",
              "        vertical-align: top;\n",
              "    }\n",
              "\n",
              "    .dataframe thead th {\n",
              "        text-align: right;\n",
              "    }\n",
              "</style>\n",
              "<table border=\"1\" class=\"dataframe\">\n",
              "  <thead>\n",
              "    <tr style=\"text-align: right;\">\n",
              "      <th></th>\n",
              "      <th>xgb</th>\n",
              "      <th>RL</th>\n",
              "      <th>Actual Values</th>\n",
              "      <th>Tree</th>\n",
              "    </tr>\n",
              "  </thead>\n",
              "  <tbody>\n",
              "    <tr>\n",
              "      <th>0</th>\n",
              "      <td>155.0</td>\n",
              "      <td>172.0</td>\n",
              "      <td>89</td>\n",
              "      <td>172.0</td>\n",
              "    </tr>\n",
              "    <tr>\n",
              "      <th>1</th>\n",
              "      <td>238.0</td>\n",
              "      <td>196.0</td>\n",
              "      <td>58</td>\n",
              "      <td>269.0</td>\n",
              "    </tr>\n",
              "    <tr>\n",
              "      <th>2</th>\n",
              "      <td>200.0</td>\n",
              "      <td>213.0</td>\n",
              "      <td>200</td>\n",
              "      <td>231.0</td>\n",
              "    </tr>\n",
              "    <tr>\n",
              "      <th>3</th>\n",
              "      <td>196.0</td>\n",
              "      <td>192.0</td>\n",
              "      <td>90</td>\n",
              "      <td>172.0</td>\n",
              "    </tr>\n",
              "    <tr>\n",
              "      <th>4</th>\n",
              "      <td>171.0</td>\n",
              "      <td>164.0</td>\n",
              "      <td>832</td>\n",
              "      <td>172.0</td>\n",
              "    </tr>\n",
              "    <tr>\n",
              "      <th>...</th>\n",
              "      <td>...</td>\n",
              "      <td>...</td>\n",
              "      <td>...</td>\n",
              "      <td>...</td>\n",
              "    </tr>\n",
              "    <tr>\n",
              "      <th>23457</th>\n",
              "      <td>182.0</td>\n",
              "      <td>224.0</td>\n",
              "      <td>75</td>\n",
              "      <td>283.0</td>\n",
              "    </tr>\n",
              "    <tr>\n",
              "      <th>23458</th>\n",
              "      <td>256.0</td>\n",
              "      <td>280.0</td>\n",
              "      <td>185</td>\n",
              "      <td>269.0</td>\n",
              "    </tr>\n",
              "    <tr>\n",
              "      <th>23459</th>\n",
              "      <td>198.0</td>\n",
              "      <td>169.0</td>\n",
              "      <td>60</td>\n",
              "      <td>172.0</td>\n",
              "    </tr>\n",
              "    <tr>\n",
              "      <th>23460</th>\n",
              "      <td>255.0</td>\n",
              "      <td>248.0</td>\n",
              "      <td>350</td>\n",
              "      <td>226.0</td>\n",
              "    </tr>\n",
              "    <tr>\n",
              "      <th>23461</th>\n",
              "      <td>259.0</td>\n",
              "      <td>270.0</td>\n",
              "      <td>125</td>\n",
              "      <td>269.0</td>\n",
              "    </tr>\n",
              "  </tbody>\n",
              "</table>\n",
              "<p>23462 rows × 4 columns</p>\n",
              "</div>"
            ],
            "text/plain": [
              "         xgb     RL  Actual Values   Tree\n",
              "0      155.0  172.0             89  172.0\n",
              "1      238.0  196.0             58  269.0\n",
              "2      200.0  213.0            200  231.0\n",
              "3      196.0  192.0             90  172.0\n",
              "4      171.0  164.0            832  172.0\n",
              "...      ...    ...            ...    ...\n",
              "23457  182.0  224.0             75  283.0\n",
              "23458  256.0  280.0            185  269.0\n",
              "23459  198.0  169.0             60  172.0\n",
              "23460  255.0  248.0            350  226.0\n",
              "23461  259.0  270.0            125  269.0\n",
              "\n",
              "[23462 rows x 4 columns]"
            ]
          },
          "execution_count": 69,
          "metadata": {},
          "output_type": "execute_result"
        }
      ],
      "source": [
        "# Tabela de prediçoes\n",
        "xgb['Tree']=tree\n",
        "xgb['RL']=rl\n",
        "xgb['Actual Values']=pri\n",
        "xgb.round()"
      ]
    },
    {
      "cell_type": "code",
      "execution_count": 62,
      "metadata": {
        "id": "Ct1kbYHOkIh8"
      },
      "outputs": [],
      "source": [
        "# Predizendo precos com rl\n",
        "capeTown_rl = model.predict(capeTown[cols])\n",
        "capeTown_rl = np.mean(capeTown_rl)\n",
        "\n",
        "mexicoCity_rl = model.predict(mexicoCity[cols])\n",
        "mexicoCity_rl = np.mean(mexicoCity_rl)\n",
        "\n",
        "istanbul_rl = model.predict(istanbul[cols])\n",
        "istanbul_rl = np.mean(istanbul_rl)\n",
        "\n",
        "hongKong_rl = model.predict(hongKong[cols])\n",
        "hongKong_rl = np.mean(hongKong_rl)\n",
        "\n",
        "rome_rl = model.predict(rome[cols])\n",
        "rome_rl = np.mean(rome_rl)\n",
        "\n",
        "sydney_rl = model.predict(Sydney[cols])\n",
        "sydney_rl = np.mean(sydney_rl)\n",
        "\n",
        "rio_rl = model.predict(rio[cols])\n",
        "rio_rl = np.mean(rio_rl)\n",
        "\n",
        "bangkok_rl = model.predict(bangkok[cols])\n",
        "bangkok_rl = np.mean(bangkok_rl)\n",
        "\n",
        "newYork_rl = model.predict(newYork[cols])\n",
        "newYork_rl = np.mean(newYork_rl)\n",
        "\n",
        "paris_rl = model.predict(paris[cols])\n",
        "paris_rl = np.mean(paris_rl)"
      ]
    },
    {
      "cell_type": "code",
      "execution_count": 63,
      "metadata": {
        "id": "UhX3-WQlrhXf"
      },
      "outputs": [],
      "source": [
        "# Predizendo precos com DTree\n",
        "capeTown_tree = DTree.predict(capeTown[cols])\n",
        "capeTown_tree = np.mean(capeTown_tree)\n",
        "\n",
        "mexicoCity_tree = DTree.predict(mexicoCity[cols])\n",
        "mexicoCity_tree = np.mean(mexicoCity_tree)\n",
        "\n",
        "istanbul_tree = DTree.predict(istanbul[cols])\n",
        "istanbul_tree = np.mean(istanbul_tree)\n",
        "\n",
        "hongKong_tree = DTree.predict(hongKong[cols])\n",
        "hongKong_tree = np.mean(hongKong_tree)\n",
        "\n",
        "rome_tree = DTree.predict(rome[cols])\n",
        "rome_tree = np.mean(rome_tree)\n",
        "\n",
        "sydney_tree = DTree.predict(Sydney[cols])\n",
        "sydney_tree = np.mean(sydney_tree)\n",
        "\n",
        "rio_tree = DTree.predict(rio[cols])\n",
        "rio_tree = np.mean(rio_tree)\n",
        "\n",
        "bangkok_tree = DTree.predict(bangkok[cols])\n",
        "bangkok_tree = np.mean(bangkok_tree)\n",
        "\n",
        "newYork_tree = DTree.predict(newYork[cols])\n",
        "newYork_tree = np.mean(newYork_tree)\n",
        "\n",
        "paris_tree = DTree.predict(paris[cols])\n",
        "paris_tree = np.mean(paris_tree)"
      ]
    },
    {
      "cell_type": "code",
      "execution_count": 64,
      "metadata": {
        "id": "4gXR3ZwTsj0D"
      },
      "outputs": [],
      "source": [
        "# Predizendo precos com xgb\n",
        "capeTown_xgb = xgb_model.predict(capeTown[cols])\n",
        "capeTown_xgb = np.mean(capeTown_xgb)\n",
        "\n",
        "mexicoCity_xgb = xgb_model.predict(mexicoCity[cols])\n",
        "mexicoCity_xgb = np.mean(mexicoCity_xgb)\n",
        "\n",
        "istanbul_xgb = xgb_model.predict(istanbul[cols])\n",
        "istanbul_xgb = np.mean(istanbul_xgb)\n",
        "\n",
        "hongKong_xgb = xgb_model.predict(hongKong[cols])\n",
        "hongKong_xgb = np.mean(hongKong_xgb)\n",
        "\n",
        "rome_xgb = xgb_model.predict(rome[cols])\n",
        "rome_xgb = np.mean(rome_xgb)\n",
        "\n",
        "sydney_xgb = xgb_model.predict(Sydney[cols])\n",
        "sydney_xgb = np.mean(sydney_xgb)\n",
        "\n",
        "rio_xgb = xgb_model.predict(rio[cols])\n",
        "rio_xgb = np.mean(rio_xgb)\n",
        "\n",
        "bangkok_xgb = xgb_model.predict(bangkok[cols])\n",
        "bangkok_xgb = np.mean(bangkok_xgb)\n",
        "\n",
        "newYork_xgb = xgb_model.predict(newYork[cols])\n",
        "newYork_xgb = np.mean(newYork_xgb)\n",
        "\n",
        "paris_xgb = xgb_model.predict(paris[cols])\n",
        "paris_xgb = np.mean(paris_xgb)"
      ]
    },
    {
      "cell_type": "code",
      "execution_count": 73,
      "metadata": {
        "colab": {
          "base_uri": "https://localhost:8080/"
        },
        "id": "0h0-R2OztePR",
        "outputId": "b0442abe-61e6-43af-efc5-faa0ca4fc18e"
      },
      "outputs": [
        {
          "name": "stdout",
          "output_type": "stream",
          "text": [
            "O primeiro método prediz que New York tem o melhor custo beneficio com uma média de preço de R$213.0\n"
          ]
        }
      ],
      "source": [
        "# Fazendo o comite com base nos resultados\n",
        "tot_cape = 0\n",
        "tot_mexico = 0\n",
        "tot_ista = 0\n",
        "tot_hong = 0\n",
        "tot_rome = 0\n",
        "tot_syd = 0\n",
        "tot_rio = 0\n",
        "tot_bang = 0\n",
        "tot_new = 0\n",
        "tot_paris = 0\n",
        "\n",
        "\n",
        "\n",
        "# rl\n",
        "if ((capeTown_rl <= mexicoCity_rl)and(capeTown_rl <= istanbul_rl)and(capeTown_rl <= hongKong_rl)and(capeTown_rl <= rome_rl)and (capeTown_rl <= sydney_rl)and(capeTown_rl <= rio_rl)and(capeTown_rl <= bangkok_rl)and(capeTown_rl <= newYork_rl)and(capeTown_rl <= paris_rl)):\n",
        "  tot_cape = tot_cape + 1\n",
        "  print(\"O primeiro método prediz que cape Town tem o melhor custo beneficio com uma média de preço de R$ \" + str(capeTown_rl.round()))\n",
        "elif ((mexicoCity_rl <= capeTown_rl)and(mexicoCity_rl <= istanbul_rl)and(mexicoCity_rl <= hongKong_rl)and(mexicoCity_rl <= rome_rl)and (mexicoCity_rl <= sydney_rl)and(mexicoCity_rl <= rio_rl)and(mexicoCity_rl <= bangkok_rl)and(mexicoCity_rl <= newYork_rl)and(mexicoCity_rl <= paris_rl)):\n",
        "   tot_mexico = tot_mexico + 1\n",
        "   print(\"O primeiro método prediz que a Cidade do Mexico tem o melhor custo beneficio com uma média de preço de R$ \" + str(mexicoCity_rl.round()))\n",
        "elif ((istanbul_rl <= capeTown_rl)and(istanbul_rl <= mexicoCity_rl)and(istanbul_rl <= hongKong_rl)and(istanbul_rl <= rome_rl)and (istanbul_rl <= sydney_rl)and(istanbul_rl <= rio_rl)and(istanbul_rl <= bangkok_rl)and(istanbul_rl <= newYork_rl)and(istanbul_rl <= paris_rl)):\n",
        "  tot_ista =tot_ista + 1\n",
        "  print(\"O primeiro método prediz que istanbul tem o melhor custo beneficio com uma média de preço de R$ \" + str(istanbul_rl.round()))\n",
        "elif ((hongKong_rl <= capeTown_rl)and(hongKong_rl <= mexicoCity_rl)and(hongKong_rl <= istanbul_rl)and(hongKong_rl <= rome_rl)and (hongKong_rl <= sydney_rl)and(hongKong_rl <= rio_rl)and(hongKong_rl <= bangkok_rl)and(hongKong_rl <= newYork_rl)and(hongKong_rl <= paris_rl)):\n",
        "  tot_hong = tot_hong +1\n",
        "  print(\"O primeiro método prediz que hong Kong tem o melhor custo beneficio com uma média de preço de R$ \" + str(hongKong_rl.round()))\n",
        "elif ((rome_rl <= capeTown_rl)and(rome_rl <= mexicoCity_rl)and(rome_rl <= istanbul_rl)and(rome_rl <= hongKong_rl)and (rome_rl <= sydney_rl)and(rome_rl <= rio_rl)and(rome_rl <= bangkok_rl)and(rome_rl <= newYork_rl)and(rome_rl <= paris_rl)):\n",
        "  tot_rome = tot_rome + 1\n",
        "  print(\"O primeiro método prediz que roma tem o melhor custo beneficio com uma média de preço de R$ \" + str(rome_rl.round()))\n",
        "elif ((sydney_rl <= capeTown_rl)and(sydney_rl <= mexicoCity_rl)and(sydney_rl <= istanbul_rl)and(sydney_rl <= hongKong_rl)and (sydney_rl <= rome_rl)and(sydney_rl <= rio_rl)and(sydney_rl <= bangkok_rl)and(sydney_rl <= newYork_rl)and(sydney_rl <= paris_rl)):\n",
        "  tot_syd = tot_syd + 1\n",
        "  print(\"O primeiro método prediz que sydney tem o melhor custo beneficio com uma média de preço de R$ \" + str(sydney_rl.round()))\n",
        "elif ((rio_rl <= capeTown_rl)and(rio_rl <= mexicoCity_rl)and(rio_rl <= istanbul_rl)and(rio_rl <= hongKong_rl)and (rio_rl <= rome_rl)and(rio_rl <= sydney_rl)and(rio_rl <= bangkok_rl)and(rio_rl <= newYork_rl)and(rio_rl <= paris_rl)):\n",
        "  tot_rio + tot_rio + 1\n",
        "  print(\"O primeiro método prediz que rio de janeiro tem o melhor custo beneficio com uma média de preço de R$ \" + str(rio_rl.round()))\n",
        "elif ((bangkok_rl <= capeTown_rl)and(bangkok_rl <= mexicoCity_rl)and(bangkok_rl <= istanbul_rl)and(bangkok_rl <= hongKong_rl)and (bangkok_rl <= rome_rl)and(bangkok_rl <= sydney_rl)and(bangkok_rl <= rio_rl)and(bangkok_rl <= newYork_rl)and(bangkok_rl <= paris_rl)):\n",
        "  tot_bang = tot_bang + 1\n",
        "  print(\"O primeiro método prediz que bangkok tem o melhor custo beneficio com uma média de preço de R$ \" + str(bangkok_rl.round())))\n",
        "elif ((newYork_rl <= capeTown_rl)and(newYork_rl <= mexicoCity_rl)and(newYork_rl <= istanbul_rl)and(newYork_rl <= hongKong_rl)and (newYork_rl <= rome_rl)and(newYork_rl <= sydney_rl)and(newYork_rl <= rio_rl)and(newYork_rl <= bangkok_rl)and(newYork_rl <= paris_rl)):\n",
        "  tot_new = tot_new + 1\n",
        "  print(\"O primeiro método prediz que New York tem o melhor custo beneficio com uma média de preço de R$ \" + str(newYork_rl.round()))\n",
        "elif ((paris_rl <= capeTown_rl)and(paris_rl <= mexicoCity_rl)and(paris_rl <= istanbul_rl)and(paris_rl <= hongKong_rl)and (paris_rl <= rome_rl)and(paris_rl <= sydney_rl)and(paris_rl <= rio_rl)and(paris_rl <= bangkok_rl)and(paris_rl <= newYork_rl)):\n",
        "  tot_paris = tot_paris + 1\n",
        "  print(\"O primeiro método prediz que Paris tem o melhor custo beneficio com uma média de preço de R$ \" + str(paris_rl.round()))\n"
      ]
    },
    {
      "cell_type": "code",
      "execution_count": 76,
      "metadata": {
        "colab": {
          "base_uri": "https://localhost:8080/"
        },
        "id": "YXzd096x231g",
        "outputId": "f0fbd2bd-6d16-44ae-ea11-66a19dc3b431"
      },
      "outputs": [
        {
          "name": "stdout",
          "output_type": "stream",
          "text": [
            "O segundo método prediz que New York tem o melhor custo beneficio com uma média de preço de R$ 220.0\n"
          ]
        }
      ],
      "source": [
        "# DTree\n",
        "if ((capeTown_tree <= mexicoCity_tree)and(capeTown_tree <= istanbul_tree)and(capeTown_tree <= hongKong_tree)and(capeTown_tree <= rome_tree)and (capeTown_tree <= sydney_tree)and(capeTown_tree <= rio_tree)and(capeTown_tree <= bangkok_tree)and(capeTown_tree <= newYork_tree)and(capeTown_tree <= paris_tree)):\n",
        "  tot_cape = tot_cape + 1\n",
        "  print(\"O segundo método prediz que cape Town tem o melhor custo beneficio com uma média de preço de R$ \" + str(capeTown_tree.round()))\n",
        "elif ((mexicoCity_tree <= capeTown_tree)and(mexicoCity_tree <= istanbul_tree)and(mexicoCity_tree <= hongKong_tree)and(mexicoCity_tree <= rome_tree)and (mexicoCity_tree <= sydney_tree)and(mexicoCity_tree <= rio_tree)and(mexicoCity_tree <= bangkok_tree)and(mexicoCity_tree <= newYork_tree)and(mexicoCity_tree <= paris_tree)):\n",
        "   tot_mexico = tot_mexico + 1\n",
        "   print(\"O segundo método prediz que a Cidade do Mexico tem o melhor custo beneficio com uma média de preço de R$ \" + str(mexicoCity_tree.round()))\n",
        "elif ((istanbul_tree <= capeTown_tree)and(istanbul_tree <= mexicoCity_tree)and(istanbul_tree <= hongKong_tree)and(istanbul_tree <= rome_tree)and (istanbul_tree <= sydney_tree)and(istanbul_tree <= rio_tree)and(istanbul_tree <= bangkok_tree)and(istanbul_tree <= newYork_tree)and(istanbul_tree <= paris_tree)):\n",
        "  tot_ista =tot_ista + 1\n",
        "  print(\"O segundo método prediz que istanbul tem o melhor custo beneficio com uma média de preço de R$ \" + str(istanbul_tree.round()))\n",
        "elif ((hongKong_tree <= capeTown_tree)and(hongKong_tree <= mexicoCity_tree)and(hongKong_tree <= istanbul_tree)and(hongKong_tree <= rome_tree)and (hongKong_tree <= sydney_tree)and(hongKong_tree <= rio_tree)and(hongKong_tree <= bangkok_tree)and(hongKong_tree <= newYork_tree)and(hongKong_tree <= paris_tree)):\n",
        "  tot_hong = tot_hong +1\n",
        "  print(\"O segundo método prediz que hong Kong tem o melhor custo beneficio com uma média de preço de R$ \" + str(hongKong_tree.round()))\n",
        "elif ((rome_tree <= capeTown_tree)and(rome_tree <= mexicoCity_tree)and(rome_tree <= istanbul_tree)and(rome_tree <= hongKong_tree)and (rome_tree <= sydney_tree)and(rome_tree <= rio_tree)and(rome_tree <= bangkok_tree)and(rome_tree <= newYork_tree)and(rome_tree <= paris_tree)):\n",
        "  tot_rome = tot_rome + 1\n",
        "  print(\"O segundo método prediz que roma tem o melhor custo beneficio com uma média de preço de R$ \" + str(rome_tree.round()))\n",
        "elif ((sydney_tree <= capeTown_tree)and(sydney_tree <= mexicoCity_tree)and(sydney_tree <= istanbul_tree)and(sydney_tree <= hongKong_tree)and (sydney_tree <= rome_tree)and(sydney_tree <= rio_tree)and(sydney_tree <= bangkok_tree)and(sydney_tree <= newYork_tree)and(sydney_tree <= paris_tree)):\n",
        "  tot_syd = tot_syd + 1\n",
        "  print(\"O segundo método prediz que sydney tem o melhor custo beneficio com uma média de preço de R$ \" + str(sydney_tree.round()))\n",
        "elif ((rio_tree <= capeTown_tree)and(rio_tree <= mexicoCity_tree)and(rio_tree <= istanbul_tree)and(rio_tree <= hongKong_tree)and (rio_tree <= rome_tree)and(rio_tree <= sydney_tree)and(rio_tree <= bangkok_tree)and(rio_tree <= newYork_tree)and(rio_tree <= paris_tree)):\n",
        "  tot_rio + tot_rio + 1\n",
        "  print(\"O segundo método prediz que rio de janeiro tem o melhor custo beneficio com uma média de preço de R$ \" + str(rio_tree.round()))\n",
        "elif ((bangkok_tree <= capeTown_tree)and(bangkok_tree <= mexicoCity_tree)and(bangkok_tree <= istanbul_tree)and(bangkok_tree <= hongKong_tree)and (bangkok_tree <= rome_tree)and(bangkok_tree <= sydney_tree)and(bangkok_tree <= rio_tree)and(bangkok_tree <= newYork_tree)and(bangkok_tree <= paris_tree)):\n",
        "  tot_bang = tot_bang + 1\n",
        "  print(\"O segundo método prediz que bangkok tem o melhor custo beneficio com uma média de preço de R$ \" + str(bangkok_tree.round()))\n",
        "elif ((newYork_tree <= capeTown_tree)and(newYork_tree <= mexicoCity_tree)and(newYork_tree <= istanbul_tree)and(newYork_tree <= hongKong_tree)and (newYork_tree <= rome_tree)and(newYork_tree <= sydney_tree)and(newYork_tree <= rio_tree)and(newYork_tree <= bangkok_tree)and(newYork_tree <= paris_tree)):\n",
        "  tot_new = tot_new + 1\n",
        "  print(\"O segundo método prediz que New York tem o melhor custo beneficio com uma média de preço de R$ \" + str(newYork_tree.round()))\n",
        "elif ((paris_tree <= capeTown_tree)and(paris_tree <= mexicoCity_tree)and(paris_tree <= istanbul_tree)and(paris_tree <= hongKong_tree)and (paris_tree <= rome_tree)and(paris_tree <= sydney_tree)and(paris_tree <= rio_tree)and(paris_tree <= bangkok_tree)and(paris_tree <= newYork_tree)):\n",
        "  tot_paris = tot_paris + 1\n",
        "  print(\"O segundo método prediz que Paris tem o melhor custo beneficio com uma média de preço de R$ \" + str(paris_tree.round()))"
      ]
    },
    {
      "cell_type": "code",
      "execution_count": 77,
      "metadata": {
        "colab": {
          "base_uri": "https://localhost:8080/"
        },
        "id": "12xhDi5q3QIz",
        "outputId": "12f437b6-8844-4012-f655-ce06a97440b7"
      },
      "outputs": [
        {
          "name": "stdout",
          "output_type": "stream",
          "text": [
            "O terceiro método prediz que New York tem o melhor custo beneficio com uma média de preço de R$ 209.0\n"
          ]
        }
      ],
      "source": [
        "# xgb\n",
        "if ((capeTown_xgb <= mexicoCity_xgb)and(capeTown_xgb <= istanbul_xgb)and(capeTown_xgb <= hongKong_xgb)and(capeTown_xgb <= rome_xgb)and (capeTown_xgb <= sydney_xgb)and(capeTown_xgb <= rio_xgb)and(capeTown_xgb <= bangkok_xgb)and(capeTown_xgb <= newYork_xgb)and(capeTown_xgb <= paris_xgb)):\n",
        "  tot_cape = tot_cape + 1\n",
        "  print(\"O terceiro método prediz que cape Town tem o melhor custo beneficio com uma média de preço de R$ \" + str(capeTown_xgb.round()))\n",
        "elif ((mexicoCity_xgb <= capeTown_xgb)and(mexicoCity_xgb <= istanbul_xgb)and(mexicoCity_xgb <= hongKong_xgb)and(mexicoCity_xgb <= rome_xgb)and (mexicoCity_xgb <= sydney_xgb)and(mexicoCity_xgb <= rio_xgb)and(mexicoCity_xgb <= bangkok_xgb)and(mexicoCity_xgb <= newYork_xgb)and(mexicoCity_xgb <= paris_xgb)):\n",
        "   tot_mexico = tot_mexico + 1\n",
        "   print(\"O terceiro método prediz que a Cidade do Mexico tem o melhor custo beneficio com uma média de preço de R$ \" + str(mexicoCity_xgb.round()))\n",
        "elif ((istanbul_xgb <= capeTown_xgb)and(istanbul_xgb <= mexicoCity_xgb)and(istanbul_xgb <= hongKong_xgb)and(istanbul_xgb <= rome_xgb)and (istanbul_xgb <= sydney_xgb)and(istanbul_xgb <= rio_xgb)and(istanbul_xgb <= bangkok_xgb)and(istanbul_xgb <= newYork_xgb)and(istanbul_xgb <= paris_xgb)):\n",
        "  tot_ista =tot_ista + 1\n",
        "  print(\"O terceiro método prediz que istanbul tem o melhor custo beneficio com uma média de preço de R$ \" + str(istanbul_xgb.round()))\n",
        "elif ((hongKong_xgb <= capeTown_xgb)and(hongKong_xgb <= mexicoCity_xgb)and(hongKong_xgb <= istanbul_xgb)and(hongKong_xgb <= rome_xgb)and (hongKong_xgb <= sydney_xgb)and(hongKong_xgb <= rio_xgb)and(hongKong_xgb <= bangkok_xgb)and(hongKong_xgb <= newYork_xgb)and(hongKong_xgb <= paris_xgb)):\n",
        "  tot_hong = tot_hong +1\n",
        "  print(\"O terceiro método prediz que hong Kong tem o melhor custo beneficio com uma média de preço de R$ \" + str(hongKong_xgb.round()))\n",
        "elif ((rome_xgb <= capeTown_xgb)and(rome_xgb <= mexicoCity_xgb)and(rome_xgb <= istanbul_xgb)and(rome_xgb <= hongKong_xgb)and (rome_xgb <= sydney_xgb)and(rome_xgb <= rio_xgb)and(rome_xgb <= bangkok_xgb)and(rome_xgb <= newYork_xgb)and(rome_xgb <= paris_xgb)):\n",
        "  tot_rome = tot_rome + 1\n",
        "  print(\"O terceiro método prediz que roma tem o melhor custo beneficio com uma média de preço de R$ \" + str(rome_xgb.round()))\n",
        "elif ((sydney_xgb <= capeTown_xgb)and(sydney_xgb <= mexicoCity_xgb)and(sydney_xgb <= istanbul_xgb)and(sydney_xgb <= hongKong_xgb)and (sydney_xgb <= rome_xgb)and(sydney_xgb <= rio_xgb)and(sydney_xgb <= bangkok_xgb)and(sydney_xgb <= newYork_xgb)and(sydney_xgb <= paris_xgb)):\n",
        "  tot_syd = tot_syd + 1\n",
        "  print(\"O terceiro método prediz que sydney tem o melhor custo beneficio com uma média de preço de R$ \" + str(sydney_xgb.round()))\n",
        "elif ((rio_xgb <= capeTown_xgb)and(rio_xgb <= mexicoCity_xgb)and(rio_xgb <= istanbul_xgb)and(rio_xgb <= hongKong_xgb)and (rio_xgb <= rome_xgb)and(rio_xgb <= sydney_xgb)and(rio_xgb <= bangkok_xgb)and(rio_xgb <= newYork_xgb)and(rio_xgb <= paris_xgb)):\n",
        "  tot_rio + tot_rio + 1\n",
        "  print(\"O terceiro método prediz que rio de janeiro tem o melhor custo beneficio com uma média de preço de R$ \" + str(rio_xgb.round()))\n",
        "elif ((bangkok_xgb <= capeTown_xgb)and(bangkok_xgb <= mexicoCity_xgb)and(bangkok_xgb <= istanbul_xgb)and(bangkok_xgb <= hongKong_xgb)and (bangkok_xgb <= rome_xgb)and(bangkok_xgb <= sydney_xgb)and(bangkok_xgb <= rio_xgb)and(bangkok_xgb <= newYork_xgb)and(bangkok_xgb <= paris_xgb)):\n",
        "  tot_bang = tot_bang + 1\n",
        "  print(\"O terceiro método prediz que bangkok tem o melhor custo beneficio com uma média de preço de R$ \" + str(bangkok_xgb.round()))\n",
        "elif ((newYork_xgb <= capeTown_xgb)and(newYork_xgb <= mexicoCity_xgb)and(newYork_xgb <= istanbul_xgb)and(newYork_xgb <= hongKong_xgb)and (newYork_xgb <= rome_xgb)and(newYork_xgb <= sydney_xgb)and(newYork_xgb <= rio_xgb)and(newYork_xgb <= bangkok_xgb)and(newYork_xgb <= paris_xgb)):\n",
        "  tot_new = tot_new + 1\n",
        "  print(\"O terceiro método prediz que New York tem o melhor custo beneficio com uma média de preço de R$ \" + str(newYork_xgb.round()))\n",
        "elif ((paris_xgb <= capeTown_xgb)and(paris_xgb <= mexicoCity_xgb)and(paris_xgb <= istanbul_xgb)and(paris_xgb <= hongKong_xgb)and (paris_xgb <= rome_xgb)and(paris_xgb <= sydney_xgb)and(paris_xgb <= rio_xgb)and(paris_xgb <= bangkok_xgb)and(paris_xgb <= newYork_xgb)):\n",
        "  tot_paris = tot_paris + 1\n",
        "  print(\"O terceiro método prediz que Paris tem o melhor custo beneficio com uma média de preço de R$ \" + str(paris_xgb.round()))"
      ]
    },
    {
      "cell_type": "code",
      "execution_count": 78,
      "metadata": {
        "colab": {
          "base_uri": "https://localhost:8080/"
        },
        "id": "m1CDonoW43Yx",
        "outputId": "4e23d418-8de1-4ccc-f4dc-109a80a07738"
      },
      "outputs": [
        {
          "name": "stdout",
          "output_type": "stream",
          "text": [
            "O comitê acredita que o melhor custo benefio é Nova York\n"
          ]
        }
      ],
      "source": [
        "if (tot_cape > 2):\n",
        "  print('O comitê acredita que o melhor custo benefio é a cidade de Cape Town')\n",
        "elif (tot_mexico > 2):\n",
        "  print('O comitê acredita que o melhor custo benefio é a cidade do Mexico')\n",
        "elif (tot_ista > 2):\n",
        "  print('O comitê acredita que o melhor custo benefio é a cidade de Istanbul')\n",
        "elif (tot_hong > 2):\n",
        "  print('O comitê acredita que o melhor custo benefio é Hong Kong')\n",
        "elif (tot_rome > 2):\n",
        "  print('O comitê acredita que o melhor custo benefio é Roma')\n",
        "elif (tot_syd > 2):\n",
        "  print('O comitê acredita que o melhor custo benefio é Sydney')\n",
        "elif (tot_rio > 2):\n",
        "  print('O comitê acredita que o melhor custo benefio é Rio de Janeiro')\n",
        "elif (tot_bang > 2):\n",
        "  print('O comitê acredita que o melhor custo benefio é Bangkok')\n",
        "elif (tot_new > 2):\n",
        "  print('O comitê acredita que o melhor custo benefio é Nova York')\n",
        "elif (tot_paris > 2):\n",
        "  print('O comitê acredita que o melhor custo benefio é Paris')"
      ]
    }
  ],
  "metadata": {
    "colab": {
      "collapsed_sections": [],
      "name": "Predição de preços Airbnb.ipynb",
      "provenance": []
    },
    "kernelspec": {
      "display_name": "Python 3",
      "name": "python3"
    },
    "language_info": {
      "name": "python"
    }
  },
  "nbformat": 4,
  "nbformat_minor": 0
}
