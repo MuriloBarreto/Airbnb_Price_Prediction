{
  "nbformat": 4,
  "nbformat_minor": 0,
  "metadata": {
    "colab": {
      "name": "Predição de preços Airbnb.ipynb",
      "provenance": [],
      "collapsed_sections": [],
      "authorship_tag": "ABX9TyN1QsVvgGSdSryyH2a/dCHT",
      "include_colab_link": true
    },
    "kernelspec": {
      "name": "python3",
      "display_name": "Python 3"
    },
    "language_info": {
      "name": "python"
    }
  },
  "cells": [
    {
      "cell_type": "markdown",
      "metadata": {
        "id": "view-in-github",
        "colab_type": "text"
      },
      "source": [
        "<a href=\"https://colab.research.google.com/github/MuriloBarreto/Airbnb_Price_Prediction/blob/main/Predi%C3%A7%C3%A3o_de_pre%C3%A7os_Airbnb.ipynb\" target=\"_parent\"><img src=\"https://colab.research.google.com/assets/colab-badge.svg\" alt=\"Open In Colab\"/></a>"
      ]
    },
    {
      "cell_type": "code",
      "metadata": {
        "id": "3nCdMlBQkj8I"
      },
      "source": [
        "import pandas as pd\n",
        "import numpy as np"
      ],
      "execution_count": null,
      "outputs": []
    },
    {
      "cell_type": "code",
      "metadata": {
        "colab": {
          "base_uri": "https://localhost:8080/",
          "height": 1000
        },
        "id": "yyoe9yeGlbDE",
        "outputId": "1de2bb76-4e0b-4f9c-9abc-59f3031b3191"
      },
      "source": [
        "#carreganndo os dados\n",
        "filename = 'Listings.csv'\n",
        "df1 = pd.read_csv(filename,encoding='ISO-8859-1')\n",
        "df1"
      ],
      "execution_count": null,
      "outputs": [
        {
          "output_type": "stream",
          "name": "stderr",
          "text": [
            "/usr/local/lib/python3.7/dist-packages/IPython/core/interactiveshell.py:2718: DtypeWarning: Columns (5,13) have mixed types.Specify dtype option on import or set low_memory=False.\n",
            "  interactivity=interactivity, compiler=compiler, result=result)\n"
          ]
        },
        {
          "output_type": "execute_result",
          "data": {
            "text/html": [
              "<div>\n",
              "<style scoped>\n",
              "    .dataframe tbody tr th:only-of-type {\n",
              "        vertical-align: middle;\n",
              "    }\n",
              "\n",
              "    .dataframe tbody tr th {\n",
              "        vertical-align: top;\n",
              "    }\n",
              "\n",
              "    .dataframe thead th {\n",
              "        text-align: right;\n",
              "    }\n",
              "</style>\n",
              "<table border=\"1\" class=\"dataframe\">\n",
              "  <thead>\n",
              "    <tr style=\"text-align: right;\">\n",
              "      <th></th>\n",
              "      <th>listing_id</th>\n",
              "      <th>name</th>\n",
              "      <th>host_id</th>\n",
              "      <th>host_since</th>\n",
              "      <th>host_location</th>\n",
              "      <th>host_response_time</th>\n",
              "      <th>host_response_rate</th>\n",
              "      <th>host_acceptance_rate</th>\n",
              "      <th>host_is_superhost</th>\n",
              "      <th>host_total_listings_count</th>\n",
              "      <th>host_has_profile_pic</th>\n",
              "      <th>host_identity_verified</th>\n",
              "      <th>neighbourhood</th>\n",
              "      <th>district</th>\n",
              "      <th>city</th>\n",
              "      <th>latitude</th>\n",
              "      <th>longitude</th>\n",
              "      <th>property_type</th>\n",
              "      <th>room_type</th>\n",
              "      <th>accommodates</th>\n",
              "      <th>bedrooms</th>\n",
              "      <th>amenities</th>\n",
              "      <th>price</th>\n",
              "      <th>minimum_nights</th>\n",
              "      <th>maximum_nights</th>\n",
              "      <th>review_scores_rating</th>\n",
              "      <th>review_scores_accuracy</th>\n",
              "      <th>review_scores_cleanliness</th>\n",
              "      <th>review_scores_checkin</th>\n",
              "      <th>review_scores_communication</th>\n",
              "      <th>review_scores_location</th>\n",
              "      <th>review_scores_value</th>\n",
              "      <th>instant_bookable</th>\n",
              "    </tr>\n",
              "  </thead>\n",
              "  <tbody>\n",
              "    <tr>\n",
              "      <th>0</th>\n",
              "      <td>281420</td>\n",
              "      <td>Beautiful Flat in le Village Montmartre, Paris</td>\n",
              "      <td>1466919</td>\n",
              "      <td>2011-12-03</td>\n",
              "      <td>Paris, Ile-de-France, France</td>\n",
              "      <td>NaN</td>\n",
              "      <td>NaN</td>\n",
              "      <td>NaN</td>\n",
              "      <td>f</td>\n",
              "      <td>1.0</td>\n",
              "      <td>t</td>\n",
              "      <td>f</td>\n",
              "      <td>Buttes-Montmartre</td>\n",
              "      <td>NaN</td>\n",
              "      <td>Paris</td>\n",
              "      <td>48.88668</td>\n",
              "      <td>2.33343</td>\n",
              "      <td>Entire apartment</td>\n",
              "      <td>Entire place</td>\n",
              "      <td>2</td>\n",
              "      <td>1.0</td>\n",
              "      <td>[\"Heating\", \"Kitchen\", \"Washer\", \"Wifi\", \"Long...</td>\n",
              "      <td>53</td>\n",
              "      <td>2</td>\n",
              "      <td>1125</td>\n",
              "      <td>100.0</td>\n",
              "      <td>10.0</td>\n",
              "      <td>10.0</td>\n",
              "      <td>10.0</td>\n",
              "      <td>10.0</td>\n",
              "      <td>10.0</td>\n",
              "      <td>10.0</td>\n",
              "      <td>f</td>\n",
              "    </tr>\n",
              "    <tr>\n",
              "      <th>1</th>\n",
              "      <td>3705183</td>\n",
              "      <td>39 mÃÂ² Paris (Sacre CÃâur)</td>\n",
              "      <td>10328771</td>\n",
              "      <td>2013-11-29</td>\n",
              "      <td>Paris, Ile-de-France, France</td>\n",
              "      <td>NaN</td>\n",
              "      <td>NaN</td>\n",
              "      <td>NaN</td>\n",
              "      <td>f</td>\n",
              "      <td>1.0</td>\n",
              "      <td>t</td>\n",
              "      <td>t</td>\n",
              "      <td>Buttes-Montmartre</td>\n",
              "      <td>NaN</td>\n",
              "      <td>Paris</td>\n",
              "      <td>48.88617</td>\n",
              "      <td>2.34515</td>\n",
              "      <td>Entire apartment</td>\n",
              "      <td>Entire place</td>\n",
              "      <td>2</td>\n",
              "      <td>1.0</td>\n",
              "      <td>[\"Shampoo\", \"Heating\", \"Kitchen\", \"Essentials\"...</td>\n",
              "      <td>120</td>\n",
              "      <td>2</td>\n",
              "      <td>1125</td>\n",
              "      <td>100.0</td>\n",
              "      <td>10.0</td>\n",
              "      <td>10.0</td>\n",
              "      <td>10.0</td>\n",
              "      <td>10.0</td>\n",
              "      <td>10.0</td>\n",
              "      <td>10.0</td>\n",
              "      <td>f</td>\n",
              "    </tr>\n",
              "    <tr>\n",
              "      <th>2</th>\n",
              "      <td>4082273</td>\n",
              "      <td>Lovely apartment with Terrace, 60m2</td>\n",
              "      <td>19252768</td>\n",
              "      <td>2014-07-31</td>\n",
              "      <td>Paris, Ile-de-France, France</td>\n",
              "      <td>NaN</td>\n",
              "      <td>NaN</td>\n",
              "      <td>NaN</td>\n",
              "      <td>f</td>\n",
              "      <td>1.0</td>\n",
              "      <td>t</td>\n",
              "      <td>f</td>\n",
              "      <td>Elysee</td>\n",
              "      <td>NaN</td>\n",
              "      <td>Paris</td>\n",
              "      <td>48.88112</td>\n",
              "      <td>2.31712</td>\n",
              "      <td>Entire apartment</td>\n",
              "      <td>Entire place</td>\n",
              "      <td>2</td>\n",
              "      <td>1.0</td>\n",
              "      <td>[\"Heating\", \"TV\", \"Kitchen\", \"Washer\", \"Wifi\",...</td>\n",
              "      <td>89</td>\n",
              "      <td>2</td>\n",
              "      <td>1125</td>\n",
              "      <td>100.0</td>\n",
              "      <td>10.0</td>\n",
              "      <td>10.0</td>\n",
              "      <td>10.0</td>\n",
              "      <td>10.0</td>\n",
              "      <td>10.0</td>\n",
              "      <td>10.0</td>\n",
              "      <td>f</td>\n",
              "    </tr>\n",
              "    <tr>\n",
              "      <th>3</th>\n",
              "      <td>4797344</td>\n",
              "      <td>Cosy studio (close to Eiffel tower)</td>\n",
              "      <td>10668311</td>\n",
              "      <td>2013-12-17</td>\n",
              "      <td>Paris, Ile-de-France, France</td>\n",
              "      <td>NaN</td>\n",
              "      <td>NaN</td>\n",
              "      <td>NaN</td>\n",
              "      <td>f</td>\n",
              "      <td>1.0</td>\n",
              "      <td>t</td>\n",
              "      <td>t</td>\n",
              "      <td>Vaugirard</td>\n",
              "      <td>NaN</td>\n",
              "      <td>Paris</td>\n",
              "      <td>48.84571</td>\n",
              "      <td>2.30584</td>\n",
              "      <td>Entire apartment</td>\n",
              "      <td>Entire place</td>\n",
              "      <td>2</td>\n",
              "      <td>1.0</td>\n",
              "      <td>[\"Heating\", \"TV\", \"Kitchen\", \"Wifi\", \"Long ter...</td>\n",
              "      <td>58</td>\n",
              "      <td>2</td>\n",
              "      <td>1125</td>\n",
              "      <td>100.0</td>\n",
              "      <td>10.0</td>\n",
              "      <td>10.0</td>\n",
              "      <td>10.0</td>\n",
              "      <td>10.0</td>\n",
              "      <td>10.0</td>\n",
              "      <td>10.0</td>\n",
              "      <td>f</td>\n",
              "    </tr>\n",
              "    <tr>\n",
              "      <th>4</th>\n",
              "      <td>4823489</td>\n",
              "      <td>Close to Eiffel Tower - Beautiful flat : 2 rooms</td>\n",
              "      <td>24837558</td>\n",
              "      <td>2014-12-14</td>\n",
              "      <td>Paris, Ile-de-France, France</td>\n",
              "      <td>NaN</td>\n",
              "      <td>NaN</td>\n",
              "      <td>NaN</td>\n",
              "      <td>f</td>\n",
              "      <td>1.0</td>\n",
              "      <td>t</td>\n",
              "      <td>f</td>\n",
              "      <td>Passy</td>\n",
              "      <td>NaN</td>\n",
              "      <td>Paris</td>\n",
              "      <td>48.85500</td>\n",
              "      <td>2.26979</td>\n",
              "      <td>Entire apartment</td>\n",
              "      <td>Entire place</td>\n",
              "      <td>2</td>\n",
              "      <td>1.0</td>\n",
              "      <td>[\"Heating\", \"TV\", \"Kitchen\", \"Essentials\", \"Ha...</td>\n",
              "      <td>60</td>\n",
              "      <td>2</td>\n",
              "      <td>1125</td>\n",
              "      <td>100.0</td>\n",
              "      <td>10.0</td>\n",
              "      <td>10.0</td>\n",
              "      <td>10.0</td>\n",
              "      <td>10.0</td>\n",
              "      <td>10.0</td>\n",
              "      <td>10.0</td>\n",
              "      <td>f</td>\n",
              "    </tr>\n",
              "    <tr>\n",
              "      <th>...</th>\n",
              "      <td>...</td>\n",
              "      <td>...</td>\n",
              "      <td>...</td>\n",
              "      <td>...</td>\n",
              "      <td>...</td>\n",
              "      <td>...</td>\n",
              "      <td>...</td>\n",
              "      <td>...</td>\n",
              "      <td>...</td>\n",
              "      <td>...</td>\n",
              "      <td>...</td>\n",
              "      <td>...</td>\n",
              "      <td>...</td>\n",
              "      <td>...</td>\n",
              "      <td>...</td>\n",
              "      <td>...</td>\n",
              "      <td>...</td>\n",
              "      <td>...</td>\n",
              "      <td>...</td>\n",
              "      <td>...</td>\n",
              "      <td>...</td>\n",
              "      <td>...</td>\n",
              "      <td>...</td>\n",
              "      <td>...</td>\n",
              "      <td>...</td>\n",
              "      <td>...</td>\n",
              "      <td>...</td>\n",
              "      <td>...</td>\n",
              "      <td>...</td>\n",
              "      <td>...</td>\n",
              "      <td>...</td>\n",
              "      <td>...</td>\n",
              "      <td>...</td>\n",
              "    </tr>\n",
              "    <tr>\n",
              "      <th>279707</th>\n",
              "      <td>38338635</td>\n",
              "      <td>Appartement T2 neuf prÃÂ¨s du tram T3a Porte ...</td>\n",
              "      <td>31161181</td>\n",
              "      <td>2015-04-13</td>\n",
              "      <td>Paris, Ile-de-France, France</td>\n",
              "      <td>NaN</td>\n",
              "      <td>NaN</td>\n",
              "      <td>NaN</td>\n",
              "      <td>f</td>\n",
              "      <td>1.0</td>\n",
              "      <td>t</td>\n",
              "      <td>t</td>\n",
              "      <td>Observatoire</td>\n",
              "      <td>NaN</td>\n",
              "      <td>Paris</td>\n",
              "      <td>48.82701</td>\n",
              "      <td>2.31419</td>\n",
              "      <td>Entire apartment</td>\n",
              "      <td>Entire place</td>\n",
              "      <td>2</td>\n",
              "      <td>1.0</td>\n",
              "      <td>[\"Iron\", \"Heating\", \"Washer\", \"Dedicated works...</td>\n",
              "      <td>120</td>\n",
              "      <td>1</td>\n",
              "      <td>7</td>\n",
              "      <td>100.0</td>\n",
              "      <td>10.0</td>\n",
              "      <td>10.0</td>\n",
              "      <td>10.0</td>\n",
              "      <td>10.0</td>\n",
              "      <td>10.0</td>\n",
              "      <td>10.0</td>\n",
              "      <td>f</td>\n",
              "    </tr>\n",
              "    <tr>\n",
              "      <th>279708</th>\n",
              "      <td>38538692</td>\n",
              "      <td>Cozy Studio in Montmartre</td>\n",
              "      <td>10294858</td>\n",
              "      <td>2013-11-27</td>\n",
              "      <td>Paris, Ile-de-France, France</td>\n",
              "      <td>NaN</td>\n",
              "      <td>NaN</td>\n",
              "      <td>NaN</td>\n",
              "      <td>f</td>\n",
              "      <td>1.0</td>\n",
              "      <td>t</td>\n",
              "      <td>t</td>\n",
              "      <td>Buttes-Montmartre</td>\n",
              "      <td>NaN</td>\n",
              "      <td>Paris</td>\n",
              "      <td>48.89309</td>\n",
              "      <td>2.33206</td>\n",
              "      <td>Entire apartment</td>\n",
              "      <td>Entire place</td>\n",
              "      <td>2</td>\n",
              "      <td>1.0</td>\n",
              "      <td>[\"Shampoo\", \"Iron\", \"Heating\", \"Washer\", \"Hair...</td>\n",
              "      <td>60</td>\n",
              "      <td>7</td>\n",
              "      <td>15</td>\n",
              "      <td>100.0</td>\n",
              "      <td>10.0</td>\n",
              "      <td>10.0</td>\n",
              "      <td>10.0</td>\n",
              "      <td>10.0</td>\n",
              "      <td>10.0</td>\n",
              "      <td>10.0</td>\n",
              "      <td>f</td>\n",
              "    </tr>\n",
              "    <tr>\n",
              "      <th>279709</th>\n",
              "      <td>38683356</td>\n",
              "      <td>Nice and cosy mini-appartement in Paris</td>\n",
              "      <td>2238502</td>\n",
              "      <td>2012-04-27</td>\n",
              "      <td>Paris, Ile-de-France, France</td>\n",
              "      <td>NaN</td>\n",
              "      <td>NaN</td>\n",
              "      <td>NaN</td>\n",
              "      <td>f</td>\n",
              "      <td>1.0</td>\n",
              "      <td>t</td>\n",
              "      <td>t</td>\n",
              "      <td>Buttes-Montmartre</td>\n",
              "      <td>NaN</td>\n",
              "      <td>Paris</td>\n",
              "      <td>48.88699</td>\n",
              "      <td>2.34920</td>\n",
              "      <td>Entire apartment</td>\n",
              "      <td>Entire place</td>\n",
              "      <td>2</td>\n",
              "      <td>1.0</td>\n",
              "      <td>[\"Paid parking off premises\", \"Shampoo\", \"Firs...</td>\n",
              "      <td>50</td>\n",
              "      <td>6</td>\n",
              "      <td>30</td>\n",
              "      <td>100.0</td>\n",
              "      <td>10.0</td>\n",
              "      <td>10.0</td>\n",
              "      <td>10.0</td>\n",
              "      <td>10.0</td>\n",
              "      <td>10.0</td>\n",
              "      <td>10.0</td>\n",
              "      <td>f</td>\n",
              "    </tr>\n",
              "    <tr>\n",
              "      <th>279710</th>\n",
              "      <td>39659000</td>\n",
              "      <td>Charming apartment near Rue Saint Maur / Oberk...</td>\n",
              "      <td>38633695</td>\n",
              "      <td>2015-07-16</td>\n",
              "      <td>Paris, Ile-de-France, France</td>\n",
              "      <td>NaN</td>\n",
              "      <td>NaN</td>\n",
              "      <td>NaN</td>\n",
              "      <td>f</td>\n",
              "      <td>1.0</td>\n",
              "      <td>t</td>\n",
              "      <td>t</td>\n",
              "      <td>Popincourt</td>\n",
              "      <td>NaN</td>\n",
              "      <td>Paris</td>\n",
              "      <td>48.86687</td>\n",
              "      <td>2.38123</td>\n",
              "      <td>Entire apartment</td>\n",
              "      <td>Entire place</td>\n",
              "      <td>2</td>\n",
              "      <td>1.0</td>\n",
              "      <td>[\"TV\", \"Iron\", \"Kitchen\", \"Hangers\", \"Smoke al...</td>\n",
              "      <td>105</td>\n",
              "      <td>3</td>\n",
              "      <td>18</td>\n",
              "      <td>100.0</td>\n",
              "      <td>10.0</td>\n",
              "      <td>10.0</td>\n",
              "      <td>10.0</td>\n",
              "      <td>10.0</td>\n",
              "      <td>10.0</td>\n",
              "      <td>10.0</td>\n",
              "      <td>f</td>\n",
              "    </tr>\n",
              "    <tr>\n",
              "      <th>279711</th>\n",
              "      <td>40219504</td>\n",
              "      <td>Cosy apartment with view on Canal St Martin</td>\n",
              "      <td>6955618</td>\n",
              "      <td>2013-06-17</td>\n",
              "      <td>Paris, Ile-de-France, France</td>\n",
              "      <td>NaN</td>\n",
              "      <td>NaN</td>\n",
              "      <td>NaN</td>\n",
              "      <td>f</td>\n",
              "      <td>1.0</td>\n",
              "      <td>t</td>\n",
              "      <td>t</td>\n",
              "      <td>Enclos-St-Laurent</td>\n",
              "      <td>NaN</td>\n",
              "      <td>Paris</td>\n",
              "      <td>48.87217</td>\n",
              "      <td>2.36320</td>\n",
              "      <td>Entire apartment</td>\n",
              "      <td>Entire place</td>\n",
              "      <td>2</td>\n",
              "      <td>1.0</td>\n",
              "      <td>[\"Shower gel\", \"Shampoo\", \"Iron\", \"Heating\", \"...</td>\n",
              "      <td>70</td>\n",
              "      <td>2</td>\n",
              "      <td>4</td>\n",
              "      <td>100.0</td>\n",
              "      <td>10.0</td>\n",
              "      <td>10.0</td>\n",
              "      <td>10.0</td>\n",
              "      <td>10.0</td>\n",
              "      <td>10.0</td>\n",
              "      <td>10.0</td>\n",
              "      <td>f</td>\n",
              "    </tr>\n",
              "  </tbody>\n",
              "</table>\n",
              "<p>279712 rows × 33 columns</p>\n",
              "</div>"
            ],
            "text/plain": [
              "        listing_id  ... instant_bookable\n",
              "0           281420  ...                f\n",
              "1          3705183  ...                f\n",
              "2          4082273  ...                f\n",
              "3          4797344  ...                f\n",
              "4          4823489  ...                f\n",
              "...            ...  ...              ...\n",
              "279707    38338635  ...                f\n",
              "279708    38538692  ...                f\n",
              "279709    38683356  ...                f\n",
              "279710    39659000  ...                f\n",
              "279711    40219504  ...                f\n",
              "\n",
              "[279712 rows x 33 columns]"
            ]
          },
          "metadata": {},
          "execution_count": 2
        }
      ]
    },
    {
      "cell_type": "code",
      "metadata": {
        "colab": {
          "base_uri": "https://localhost:8080/"
        },
        "id": "eAtkUq-e4PQb",
        "outputId": "3bd6947f-4829-4577-cc7a-7348cb1a9ee4"
      },
      "source": [
        "df1.info()"
      ],
      "execution_count": null,
      "outputs": [
        {
          "output_type": "stream",
          "name": "stdout",
          "text": [
            "<class 'pandas.core.frame.DataFrame'>\n",
            "RangeIndex: 279712 entries, 0 to 279711\n",
            "Data columns (total 33 columns):\n",
            " #   Column                       Non-Null Count   Dtype  \n",
            "---  ------                       --------------   -----  \n",
            " 0   listing_id                   279712 non-null  int64  \n",
            " 1   name                         279539 non-null  object \n",
            " 2   host_id                      279712 non-null  int64  \n",
            " 3   host_since                   279547 non-null  object \n",
            " 4   host_location                278872 non-null  object \n",
            " 5   host_response_time           150930 non-null  object \n",
            " 6   host_response_rate           150930 non-null  float64\n",
            " 7   host_acceptance_rate         166625 non-null  float64\n",
            " 8   host_is_superhost            279547 non-null  object \n",
            " 9   host_total_listings_count    279547 non-null  float64\n",
            " 10  host_has_profile_pic         279547 non-null  object \n",
            " 11  host_identity_verified       279547 non-null  object \n",
            " 12  neighbourhood                279712 non-null  object \n",
            " 13  district                     37012 non-null   object \n",
            " 14  city                         279712 non-null  object \n",
            " 15  latitude                     279712 non-null  float64\n",
            " 16  longitude                    279712 non-null  float64\n",
            " 17  property_type                279712 non-null  object \n",
            " 18  room_type                    279712 non-null  object \n",
            " 19  accommodates                 279712 non-null  int64  \n",
            " 20  bedrooms                     250277 non-null  float64\n",
            " 21  amenities                    279712 non-null  object \n",
            " 22  price                        279712 non-null  int64  \n",
            " 23  minimum_nights               279712 non-null  int64  \n",
            " 24  maximum_nights               279712 non-null  int64  \n",
            " 25  review_scores_rating         188307 non-null  float64\n",
            " 26  review_scores_accuracy       187999 non-null  float64\n",
            " 27  review_scores_cleanliness    188047 non-null  float64\n",
            " 28  review_scores_checkin        187941 non-null  float64\n",
            " 29  review_scores_communication  188025 non-null  float64\n",
            " 30  review_scores_location       187937 non-null  float64\n",
            " 31  review_scores_value          187927 non-null  float64\n",
            " 32  instant_bookable             279712 non-null  object \n",
            "dtypes: float64(13), int64(6), object(14)\n",
            "memory usage: 70.4+ MB\n"
          ]
        }
      ]
    },
    {
      "cell_type": "code",
      "metadata": {
        "colab": {
          "base_uri": "https://localhost:8080/"
        },
        "id": "CeDkBXNZ4eiz",
        "outputId": "73adedca-ccc6-4774-8e68-47b09f95e3dd"
      },
      "source": [
        "df1.shape"
      ],
      "execution_count": null,
      "outputs": [
        {
          "output_type": "execute_result",
          "data": {
            "text/plain": [
              "(279712, 33)"
            ]
          },
          "metadata": {},
          "execution_count": 4
        }
      ]
    },
    {
      "cell_type": "code",
      "metadata": {
        "id": "2h15xJau4zA4"
      },
      "source": [
        "# Excluindo colunas que não usaremos na predição\n",
        "df1.drop(\"host_has_profile_pic\",axis=1,inplace=True)\n",
        "df1.drop(\"latitude\",axis=1,inplace=True)\n",
        "df1.drop(\"longitude\",axis=1,inplace=True)\n",
        "df1.drop(\"host_id\",axis=1,inplace=True)\n",
        "df1.drop(\"host_since\",axis=1,inplace=True)\n",
        "df1.drop(\"host_location\",axis=1,inplace=True)\n",
        "df1.drop(\"listing_id\",axis=1,inplace=True)\n",
        "df1.drop(\"name\",axis=1,inplace=True)\n",
        "df1.drop(\"host_response_time\",axis=1,inplace=True)\n",
        "df1.drop(\"host_response_rate\",axis=1,inplace=True)\n",
        "df1.drop(\"host_acceptance_rate\",axis=1,inplace=True)\n",
        "df1.drop(\"district\",axis=1,inplace=True)\n",
        "df1.drop(\"review_scores_rating\",axis=1,inplace=True)\n",
        "df1.drop(\"review_scores_accuracy\",axis=1,inplace=True)\n",
        "df1.drop(\"review_scores_cleanliness\",axis=1,inplace=True)\n",
        "df1.drop(\"review_scores_checkin\",axis=1,inplace=True)\n",
        "df1.drop(\"review_scores_communication\",axis=1,inplace=True)\n",
        "df1.drop(\"review_scores_location\",axis=1,inplace=True)\n",
        "df1.drop(\"review_scores_value\",axis=1,inplace=True)"
      ],
      "execution_count": null,
      "outputs": []
    },
    {
      "cell_type": "code",
      "metadata": {
        "id": "Wk3myExt5bW-"
      },
      "source": [
        "df1.drop(\"amenities\",axis=1,inplace=True)"
      ],
      "execution_count": null,
      "outputs": []
    },
    {
      "cell_type": "code",
      "metadata": {
        "colab": {
          "base_uri": "https://localhost:8080/",
          "height": 309
        },
        "id": "Kc-7pxTj5gJY",
        "outputId": "76c78091-fa95-41d5-b289-e76b0e8df370"
      },
      "source": [
        "df1.head()"
      ],
      "execution_count": null,
      "outputs": [
        {
          "output_type": "execute_result",
          "data": {
            "text/html": [
              "<div>\n",
              "<style scoped>\n",
              "    .dataframe tbody tr th:only-of-type {\n",
              "        vertical-align: middle;\n",
              "    }\n",
              "\n",
              "    .dataframe tbody tr th {\n",
              "        vertical-align: top;\n",
              "    }\n",
              "\n",
              "    .dataframe thead th {\n",
              "        text-align: right;\n",
              "    }\n",
              "</style>\n",
              "<table border=\"1\" class=\"dataframe\">\n",
              "  <thead>\n",
              "    <tr style=\"text-align: right;\">\n",
              "      <th></th>\n",
              "      <th>host_is_superhost</th>\n",
              "      <th>host_total_listings_count</th>\n",
              "      <th>host_identity_verified</th>\n",
              "      <th>neighbourhood</th>\n",
              "      <th>city</th>\n",
              "      <th>property_type</th>\n",
              "      <th>room_type</th>\n",
              "      <th>accommodates</th>\n",
              "      <th>bedrooms</th>\n",
              "      <th>price</th>\n",
              "      <th>minimum_nights</th>\n",
              "      <th>maximum_nights</th>\n",
              "      <th>instant_bookable</th>\n",
              "    </tr>\n",
              "  </thead>\n",
              "  <tbody>\n",
              "    <tr>\n",
              "      <th>0</th>\n",
              "      <td>f</td>\n",
              "      <td>1.0</td>\n",
              "      <td>f</td>\n",
              "      <td>Buttes-Montmartre</td>\n",
              "      <td>Paris</td>\n",
              "      <td>Entire apartment</td>\n",
              "      <td>Entire place</td>\n",
              "      <td>2</td>\n",
              "      <td>1.0</td>\n",
              "      <td>53</td>\n",
              "      <td>2</td>\n",
              "      <td>1125</td>\n",
              "      <td>f</td>\n",
              "    </tr>\n",
              "    <tr>\n",
              "      <th>1</th>\n",
              "      <td>f</td>\n",
              "      <td>1.0</td>\n",
              "      <td>t</td>\n",
              "      <td>Buttes-Montmartre</td>\n",
              "      <td>Paris</td>\n",
              "      <td>Entire apartment</td>\n",
              "      <td>Entire place</td>\n",
              "      <td>2</td>\n",
              "      <td>1.0</td>\n",
              "      <td>120</td>\n",
              "      <td>2</td>\n",
              "      <td>1125</td>\n",
              "      <td>f</td>\n",
              "    </tr>\n",
              "    <tr>\n",
              "      <th>2</th>\n",
              "      <td>f</td>\n",
              "      <td>1.0</td>\n",
              "      <td>f</td>\n",
              "      <td>Elysee</td>\n",
              "      <td>Paris</td>\n",
              "      <td>Entire apartment</td>\n",
              "      <td>Entire place</td>\n",
              "      <td>2</td>\n",
              "      <td>1.0</td>\n",
              "      <td>89</td>\n",
              "      <td>2</td>\n",
              "      <td>1125</td>\n",
              "      <td>f</td>\n",
              "    </tr>\n",
              "    <tr>\n",
              "      <th>3</th>\n",
              "      <td>f</td>\n",
              "      <td>1.0</td>\n",
              "      <td>t</td>\n",
              "      <td>Vaugirard</td>\n",
              "      <td>Paris</td>\n",
              "      <td>Entire apartment</td>\n",
              "      <td>Entire place</td>\n",
              "      <td>2</td>\n",
              "      <td>1.0</td>\n",
              "      <td>58</td>\n",
              "      <td>2</td>\n",
              "      <td>1125</td>\n",
              "      <td>f</td>\n",
              "    </tr>\n",
              "    <tr>\n",
              "      <th>4</th>\n",
              "      <td>f</td>\n",
              "      <td>1.0</td>\n",
              "      <td>f</td>\n",
              "      <td>Passy</td>\n",
              "      <td>Paris</td>\n",
              "      <td>Entire apartment</td>\n",
              "      <td>Entire place</td>\n",
              "      <td>2</td>\n",
              "      <td>1.0</td>\n",
              "      <td>60</td>\n",
              "      <td>2</td>\n",
              "      <td>1125</td>\n",
              "      <td>f</td>\n",
              "    </tr>\n",
              "  </tbody>\n",
              "</table>\n",
              "</div>"
            ],
            "text/plain": [
              "  host_is_superhost  host_total_listings_count  ... maximum_nights instant_bookable\n",
              "0                 f                        1.0  ...           1125                f\n",
              "1                 f                        1.0  ...           1125                f\n",
              "2                 f                        1.0  ...           1125                f\n",
              "3                 f                        1.0  ...           1125                f\n",
              "4                 f                        1.0  ...           1125                f\n",
              "\n",
              "[5 rows x 13 columns]"
            ]
          },
          "metadata": {},
          "execution_count": 9
        }
      ]
    },
    {
      "cell_type": "code",
      "metadata": {
        "colab": {
          "base_uri": "https://localhost:8080/"
        },
        "id": "Zm5ujRHy5rjW",
        "outputId": "5dd3fcc3-303d-460c-ff4e-70339ec3fff7"
      },
      "source": [
        "# Exibindo os tipos de cada coluna\n",
        "df1.dtypes"
      ],
      "execution_count": null,
      "outputs": [
        {
          "output_type": "execute_result",
          "data": {
            "text/plain": [
              "host_is_superhost             object\n",
              "host_total_listings_count    float64\n",
              "host_identity_verified        object\n",
              "neighbourhood                 object\n",
              "city                          object\n",
              "property_type                 object\n",
              "room_type                     object\n",
              "accommodates                   int64\n",
              "bedrooms                     float64\n",
              "price                          int64\n",
              "minimum_nights                 int64\n",
              "maximum_nights                 int64\n",
              "instant_bookable              object\n",
              "dtype: object"
            ]
          },
          "metadata": {},
          "execution_count": 10
        }
      ]
    },
    {
      "cell_type": "code",
      "metadata": {
        "colab": {
          "base_uri": "https://localhost:8080/"
        },
        "id": "RJz1ERkt5zxM",
        "outputId": "ea7cfe1c-b5d7-4a8f-ce76-8135c3161a9c"
      },
      "source": [
        "# exibindo quantidade de valores nulos\n",
        "df1.isna().sum()"
      ],
      "execution_count": null,
      "outputs": [
        {
          "output_type": "execute_result",
          "data": {
            "text/plain": [
              "host_is_superhost              165\n",
              "host_total_listings_count      165\n",
              "host_identity_verified         165\n",
              "neighbourhood                    0\n",
              "city                             0\n",
              "property_type                    0\n",
              "room_type                        0\n",
              "accommodates                     0\n",
              "bedrooms                     29435\n",
              "price                            0\n",
              "minimum_nights                   0\n",
              "maximum_nights                   0\n",
              "instant_bookable                 0\n",
              "dtype: int64"
            ]
          },
          "metadata": {},
          "execution_count": 11
        }
      ]
    },
    {
      "cell_type": "code",
      "metadata": {
        "id": "wZAQgM-F6HQF"
      },
      "source": [
        "# eliminando linhas duplicadas do DataFrame\n",
        "df1.drop_duplicates(inplace=True)"
      ],
      "execution_count": null,
      "outputs": []
    },
    {
      "cell_type": "code",
      "metadata": {
        "colab": {
          "base_uri": "https://localhost:8080/",
          "height": 309
        },
        "id": "3ic066616Qxs",
        "outputId": "5d3610ff-0b51-4cbf-db94-c4334617657a"
      },
      "source": [
        "df1.head()"
      ],
      "execution_count": null,
      "outputs": [
        {
          "output_type": "execute_result",
          "data": {
            "text/html": [
              "<div>\n",
              "<style scoped>\n",
              "    .dataframe tbody tr th:only-of-type {\n",
              "        vertical-align: middle;\n",
              "    }\n",
              "\n",
              "    .dataframe tbody tr th {\n",
              "        vertical-align: top;\n",
              "    }\n",
              "\n",
              "    .dataframe thead th {\n",
              "        text-align: right;\n",
              "    }\n",
              "</style>\n",
              "<table border=\"1\" class=\"dataframe\">\n",
              "  <thead>\n",
              "    <tr style=\"text-align: right;\">\n",
              "      <th></th>\n",
              "      <th>host_is_superhost</th>\n",
              "      <th>host_total_listings_count</th>\n",
              "      <th>host_identity_verified</th>\n",
              "      <th>neighbourhood</th>\n",
              "      <th>city</th>\n",
              "      <th>property_type</th>\n",
              "      <th>room_type</th>\n",
              "      <th>accommodates</th>\n",
              "      <th>bedrooms</th>\n",
              "      <th>price</th>\n",
              "      <th>minimum_nights</th>\n",
              "      <th>maximum_nights</th>\n",
              "      <th>instant_bookable</th>\n",
              "    </tr>\n",
              "  </thead>\n",
              "  <tbody>\n",
              "    <tr>\n",
              "      <th>0</th>\n",
              "      <td>f</td>\n",
              "      <td>1.0</td>\n",
              "      <td>f</td>\n",
              "      <td>Buttes-Montmartre</td>\n",
              "      <td>Paris</td>\n",
              "      <td>Entire apartment</td>\n",
              "      <td>Entire place</td>\n",
              "      <td>2</td>\n",
              "      <td>1.0</td>\n",
              "      <td>53</td>\n",
              "      <td>2</td>\n",
              "      <td>1125</td>\n",
              "      <td>f</td>\n",
              "    </tr>\n",
              "    <tr>\n",
              "      <th>1</th>\n",
              "      <td>f</td>\n",
              "      <td>1.0</td>\n",
              "      <td>t</td>\n",
              "      <td>Buttes-Montmartre</td>\n",
              "      <td>Paris</td>\n",
              "      <td>Entire apartment</td>\n",
              "      <td>Entire place</td>\n",
              "      <td>2</td>\n",
              "      <td>1.0</td>\n",
              "      <td>120</td>\n",
              "      <td>2</td>\n",
              "      <td>1125</td>\n",
              "      <td>f</td>\n",
              "    </tr>\n",
              "    <tr>\n",
              "      <th>2</th>\n",
              "      <td>f</td>\n",
              "      <td>1.0</td>\n",
              "      <td>f</td>\n",
              "      <td>Elysee</td>\n",
              "      <td>Paris</td>\n",
              "      <td>Entire apartment</td>\n",
              "      <td>Entire place</td>\n",
              "      <td>2</td>\n",
              "      <td>1.0</td>\n",
              "      <td>89</td>\n",
              "      <td>2</td>\n",
              "      <td>1125</td>\n",
              "      <td>f</td>\n",
              "    </tr>\n",
              "    <tr>\n",
              "      <th>3</th>\n",
              "      <td>f</td>\n",
              "      <td>1.0</td>\n",
              "      <td>t</td>\n",
              "      <td>Vaugirard</td>\n",
              "      <td>Paris</td>\n",
              "      <td>Entire apartment</td>\n",
              "      <td>Entire place</td>\n",
              "      <td>2</td>\n",
              "      <td>1.0</td>\n",
              "      <td>58</td>\n",
              "      <td>2</td>\n",
              "      <td>1125</td>\n",
              "      <td>f</td>\n",
              "    </tr>\n",
              "    <tr>\n",
              "      <th>4</th>\n",
              "      <td>f</td>\n",
              "      <td>1.0</td>\n",
              "      <td>f</td>\n",
              "      <td>Passy</td>\n",
              "      <td>Paris</td>\n",
              "      <td>Entire apartment</td>\n",
              "      <td>Entire place</td>\n",
              "      <td>2</td>\n",
              "      <td>1.0</td>\n",
              "      <td>60</td>\n",
              "      <td>2</td>\n",
              "      <td>1125</td>\n",
              "      <td>f</td>\n",
              "    </tr>\n",
              "  </tbody>\n",
              "</table>\n",
              "</div>"
            ],
            "text/plain": [
              "  host_is_superhost  host_total_listings_count  ... maximum_nights instant_bookable\n",
              "0                 f                        1.0  ...           1125                f\n",
              "1                 f                        1.0  ...           1125                f\n",
              "2                 f                        1.0  ...           1125                f\n",
              "3                 f                        1.0  ...           1125                f\n",
              "4                 f                        1.0  ...           1125                f\n",
              "\n",
              "[5 rows x 13 columns]"
            ]
          },
          "metadata": {},
          "execution_count": 13
        }
      ]
    },
    {
      "cell_type": "code",
      "metadata": {
        "id": "mvN_e1TT6XVi"
      },
      "source": [
        "# Excluindo colunas que não ulitilizaremos e mapeando valores do dataset\n",
        "df1.drop([\"property_type\",\"neighbourhood\"],axis=1,inplace=True)"
      ],
      "execution_count": null,
      "outputs": []
    },
    {
      "cell_type": "code",
      "metadata": {
        "id": "LqedVGch6ksL"
      },
      "source": [
        "df1[\"room_type\"]=df1[\"room_type\"].map({\"Entire place\":0,\"Private room\":1,\"Hotel room\":2,\"Shared room\":3})"
      ],
      "execution_count": null,
      "outputs": []
    },
    {
      "cell_type": "code",
      "metadata": {
        "id": "LUfacel-6rLy"
      },
      "source": [
        "df1[\"instant_bookable\"]=df1[\"instant_bookable\"].map({\"t\":0,\"f\":1})"
      ],
      "execution_count": null,
      "outputs": []
    },
    {
      "cell_type": "code",
      "metadata": {
        "id": "qW6-Be9K6xLB"
      },
      "source": [
        "df1[\"host_identity_v0rified\"]=df1[\"host_identity_verified\"].map({\"t\":0,\"f\":1})"
      ],
      "execution_count": null,
      "outputs": []
    },
    {
      "cell_type": "code",
      "metadata": {
        "id": "0--rD92z62GR"
      },
      "source": [
        "df1[\"host_is_superhost\"]=df1[\"host_is_superhost\"].map({\"f\":0,\"t\":1})"
      ],
      "execution_count": null,
      "outputs": []
    },
    {
      "cell_type": "code",
      "metadata": {
        "id": "hgsPxW3E7Cn9"
      },
      "source": [
        "df1.drop(\"host_identity_verified\",axis=1,inplace=True)"
      ],
      "execution_count": null,
      "outputs": []
    },
    {
      "cell_type": "code",
      "metadata": {
        "colab": {
          "base_uri": "https://localhost:8080/",
          "height": 224
        },
        "id": "k77LZfzx66y1",
        "outputId": "02fd5d69-242d-466e-a674-a9934d8cfb56"
      },
      "source": [
        "df1.head()"
      ],
      "execution_count": null,
      "outputs": [
        {
          "output_type": "execute_result",
          "data": {
            "text/html": [
              "<div>\n",
              "<style scoped>\n",
              "    .dataframe tbody tr th:only-of-type {\n",
              "        vertical-align: middle;\n",
              "    }\n",
              "\n",
              "    .dataframe tbody tr th {\n",
              "        vertical-align: top;\n",
              "    }\n",
              "\n",
              "    .dataframe thead th {\n",
              "        text-align: right;\n",
              "    }\n",
              "</style>\n",
              "<table border=\"1\" class=\"dataframe\">\n",
              "  <thead>\n",
              "    <tr style=\"text-align: right;\">\n",
              "      <th></th>\n",
              "      <th>host_is_superhost</th>\n",
              "      <th>host_total_listings_count</th>\n",
              "      <th>host_identity_verified</th>\n",
              "      <th>city</th>\n",
              "      <th>room_type</th>\n",
              "      <th>accommodates</th>\n",
              "      <th>bedrooms</th>\n",
              "      <th>price</th>\n",
              "      <th>minimum_nights</th>\n",
              "      <th>maximum_nights</th>\n",
              "      <th>instant_bookable</th>\n",
              "      <th>host_identity_v0rified</th>\n",
              "    </tr>\n",
              "  </thead>\n",
              "  <tbody>\n",
              "    <tr>\n",
              "      <th>0</th>\n",
              "      <td>0.0</td>\n",
              "      <td>1.0</td>\n",
              "      <td>f</td>\n",
              "      <td>Paris</td>\n",
              "      <td>0</td>\n",
              "      <td>2</td>\n",
              "      <td>1.0</td>\n",
              "      <td>53</td>\n",
              "      <td>2</td>\n",
              "      <td>1125</td>\n",
              "      <td>1</td>\n",
              "      <td>1.0</td>\n",
              "    </tr>\n",
              "    <tr>\n",
              "      <th>1</th>\n",
              "      <td>0.0</td>\n",
              "      <td>1.0</td>\n",
              "      <td>t</td>\n",
              "      <td>Paris</td>\n",
              "      <td>0</td>\n",
              "      <td>2</td>\n",
              "      <td>1.0</td>\n",
              "      <td>120</td>\n",
              "      <td>2</td>\n",
              "      <td>1125</td>\n",
              "      <td>1</td>\n",
              "      <td>0.0</td>\n",
              "    </tr>\n",
              "    <tr>\n",
              "      <th>2</th>\n",
              "      <td>0.0</td>\n",
              "      <td>1.0</td>\n",
              "      <td>f</td>\n",
              "      <td>Paris</td>\n",
              "      <td>0</td>\n",
              "      <td>2</td>\n",
              "      <td>1.0</td>\n",
              "      <td>89</td>\n",
              "      <td>2</td>\n",
              "      <td>1125</td>\n",
              "      <td>1</td>\n",
              "      <td>1.0</td>\n",
              "    </tr>\n",
              "    <tr>\n",
              "      <th>3</th>\n",
              "      <td>0.0</td>\n",
              "      <td>1.0</td>\n",
              "      <td>t</td>\n",
              "      <td>Paris</td>\n",
              "      <td>0</td>\n",
              "      <td>2</td>\n",
              "      <td>1.0</td>\n",
              "      <td>58</td>\n",
              "      <td>2</td>\n",
              "      <td>1125</td>\n",
              "      <td>1</td>\n",
              "      <td>0.0</td>\n",
              "    </tr>\n",
              "    <tr>\n",
              "      <th>4</th>\n",
              "      <td>0.0</td>\n",
              "      <td>1.0</td>\n",
              "      <td>f</td>\n",
              "      <td>Paris</td>\n",
              "      <td>0</td>\n",
              "      <td>2</td>\n",
              "      <td>1.0</td>\n",
              "      <td>60</td>\n",
              "      <td>2</td>\n",
              "      <td>1125</td>\n",
              "      <td>1</td>\n",
              "      <td>1.0</td>\n",
              "    </tr>\n",
              "  </tbody>\n",
              "</table>\n",
              "</div>"
            ],
            "text/plain": [
              "   host_is_superhost  ...  host_identity_v0rified\n",
              "0                0.0  ...                     1.0\n",
              "1                0.0  ...                     0.0\n",
              "2                0.0  ...                     1.0\n",
              "3                0.0  ...                     0.0\n",
              "4                0.0  ...                     1.0\n",
              "\n",
              "[5 rows x 12 columns]"
            ]
          },
          "metadata": {},
          "execution_count": 19
        }
      ]
    },
    {
      "cell_type": "code",
      "metadata": {
        "id": "eQ5tDPlk7EuZ"
      },
      "source": [
        "# Excluindo valores nulos do nosso dataset\n",
        "df1.dropna(inplace = True)"
      ],
      "execution_count": null,
      "outputs": []
    },
    {
      "cell_type": "code",
      "metadata": {
        "colab": {
          "base_uri": "https://localhost:8080/"
        },
        "id": "R6fvo1f-7H9Q",
        "outputId": "6adfe653-15f7-4c01-917d-210949f0bbf5"
      },
      "source": [
        "# exibindo quantidade de valores nulos na tabela novamente\n",
        "df1.isna().sum()"
      ],
      "execution_count": null,
      "outputs": [
        {
          "output_type": "execute_result",
          "data": {
            "text/plain": [
              "host_is_superhost            0\n",
              "host_total_listings_count    0\n",
              "city                         0\n",
              "room_type                    0\n",
              "accommodates                 0\n",
              "bedrooms                     0\n",
              "price                        0\n",
              "minimum_nights               0\n",
              "maximum_nights               0\n",
              "instant_bookable             0\n",
              "host_identity_v0rified       0\n",
              "dtype: int64"
            ]
          },
          "metadata": {},
          "execution_count": 22
        }
      ]
    },
    {
      "cell_type": "code",
      "metadata": {
        "colab": {
          "base_uri": "https://localhost:8080/",
          "height": 224
        },
        "id": "c2KoV-_57MGA",
        "outputId": "bcd2a4de-cd9a-431c-b830-0c8d296d294e"
      },
      "source": [
        "df1.head()"
      ],
      "execution_count": null,
      "outputs": [
        {
          "output_type": "execute_result",
          "data": {
            "text/html": [
              "<div>\n",
              "<style scoped>\n",
              "    .dataframe tbody tr th:only-of-type {\n",
              "        vertical-align: middle;\n",
              "    }\n",
              "\n",
              "    .dataframe tbody tr th {\n",
              "        vertical-align: top;\n",
              "    }\n",
              "\n",
              "    .dataframe thead th {\n",
              "        text-align: right;\n",
              "    }\n",
              "</style>\n",
              "<table border=\"1\" class=\"dataframe\">\n",
              "  <thead>\n",
              "    <tr style=\"text-align: right;\">\n",
              "      <th></th>\n",
              "      <th>host_is_superhost</th>\n",
              "      <th>host_total_listings_count</th>\n",
              "      <th>city</th>\n",
              "      <th>room_type</th>\n",
              "      <th>accommodates</th>\n",
              "      <th>bedrooms</th>\n",
              "      <th>price</th>\n",
              "      <th>minimum_nights</th>\n",
              "      <th>maximum_nights</th>\n",
              "      <th>instant_bookable</th>\n",
              "      <th>host_identity_v0rified</th>\n",
              "    </tr>\n",
              "  </thead>\n",
              "  <tbody>\n",
              "    <tr>\n",
              "      <th>0</th>\n",
              "      <td>0.0</td>\n",
              "      <td>1.0</td>\n",
              "      <td>Paris</td>\n",
              "      <td>0</td>\n",
              "      <td>2</td>\n",
              "      <td>1.0</td>\n",
              "      <td>53</td>\n",
              "      <td>2</td>\n",
              "      <td>1125</td>\n",
              "      <td>1</td>\n",
              "      <td>1.0</td>\n",
              "    </tr>\n",
              "    <tr>\n",
              "      <th>1</th>\n",
              "      <td>0.0</td>\n",
              "      <td>1.0</td>\n",
              "      <td>Paris</td>\n",
              "      <td>0</td>\n",
              "      <td>2</td>\n",
              "      <td>1.0</td>\n",
              "      <td>120</td>\n",
              "      <td>2</td>\n",
              "      <td>1125</td>\n",
              "      <td>1</td>\n",
              "      <td>0.0</td>\n",
              "    </tr>\n",
              "    <tr>\n",
              "      <th>2</th>\n",
              "      <td>0.0</td>\n",
              "      <td>1.0</td>\n",
              "      <td>Paris</td>\n",
              "      <td>0</td>\n",
              "      <td>2</td>\n",
              "      <td>1.0</td>\n",
              "      <td>89</td>\n",
              "      <td>2</td>\n",
              "      <td>1125</td>\n",
              "      <td>1</td>\n",
              "      <td>1.0</td>\n",
              "    </tr>\n",
              "    <tr>\n",
              "      <th>3</th>\n",
              "      <td>0.0</td>\n",
              "      <td>1.0</td>\n",
              "      <td>Paris</td>\n",
              "      <td>0</td>\n",
              "      <td>2</td>\n",
              "      <td>1.0</td>\n",
              "      <td>58</td>\n",
              "      <td>2</td>\n",
              "      <td>1125</td>\n",
              "      <td>1</td>\n",
              "      <td>0.0</td>\n",
              "    </tr>\n",
              "    <tr>\n",
              "      <th>4</th>\n",
              "      <td>0.0</td>\n",
              "      <td>1.0</td>\n",
              "      <td>Paris</td>\n",
              "      <td>0</td>\n",
              "      <td>2</td>\n",
              "      <td>1.0</td>\n",
              "      <td>60</td>\n",
              "      <td>2</td>\n",
              "      <td>1125</td>\n",
              "      <td>1</td>\n",
              "      <td>1.0</td>\n",
              "    </tr>\n",
              "  </tbody>\n",
              "</table>\n",
              "</div>"
            ],
            "text/plain": [
              "   host_is_superhost  ...  host_identity_v0rified\n",
              "0                0.0  ...                     1.0\n",
              "1                0.0  ...                     0.0\n",
              "2                0.0  ...                     1.0\n",
              "3                0.0  ...                     0.0\n",
              "4                0.0  ...                     1.0\n",
              "\n",
              "[5 rows x 11 columns]"
            ]
          },
          "metadata": {},
          "execution_count": 23
        }
      ]
    },
    {
      "cell_type": "code",
      "metadata": {
        "id": "mMVjoIGG7aPv"
      },
      "source": [
        "# import scipy.stats as st\n",
        "Q1 = df1.quantile(0.25)\n",
        "Q3 = df1.quantile(0.75)\n",
        "IQR=Q3-Q1\n",
        "df_clean=df1[~((df1<(Q1-1.5*IQR))|(df1>(Q3+1.5*IQR))).any(axis=1)]"
      ],
      "execution_count": null,
      "outputs": []
    },
    {
      "cell_type": "code",
      "metadata": {
        "colab": {
          "base_uri": "https://localhost:8080/"
        },
        "id": "_0yNpndk7kIa",
        "outputId": "4b4bbf85-9b34-43ee-aa91-c7c8f4177e3f"
      },
      "source": [
        "# Exibindo a quantidade de linhas e colunas do dataset\n",
        "df_clean.shape"
      ],
      "execution_count": null,
      "outputs": [
        {
          "output_type": "execute_result",
          "data": {
            "text/plain": [
              "(117308, 11)"
            ]
          },
          "metadata": {},
          "execution_count": 25
        }
      ]
    },
    {
      "cell_type": "code",
      "metadata": {
        "colab": {
          "base_uri": "https://localhost:8080/"
        },
        "id": "bqdL9PoJ7qkJ",
        "outputId": "a74ce695-0c3b-4842-f840-a972c5667996"
      },
      "source": [
        "df_clean.columns"
      ],
      "execution_count": null,
      "outputs": [
        {
          "output_type": "execute_result",
          "data": {
            "text/plain": [
              "Index(['host_is_superhost', 'host_total_listings_count', 'city', 'room_type',\n",
              "       'accommodates', 'bedrooms', 'price', 'minimum_nights', 'maximum_nights',\n",
              "       'instant_bookable', 'host_identity_v0rified'],\n",
              "      dtype='object')"
            ]
          },
          "metadata": {},
          "execution_count": 26
        }
      ]
    },
    {
      "cell_type": "code",
      "metadata": {
        "colab": {
          "base_uri": "https://localhost:8080/",
          "height": 224
        },
        "id": "pBStAbdU_liC",
        "outputId": "e8dab547-af3a-4ef8-ecc4-96820ea22d61"
      },
      "source": [
        "df_clean.head()"
      ],
      "execution_count": null,
      "outputs": [
        {
          "output_type": "execute_result",
          "data": {
            "text/html": [
              "<div>\n",
              "<style scoped>\n",
              "    .dataframe tbody tr th:only-of-type {\n",
              "        vertical-align: middle;\n",
              "    }\n",
              "\n",
              "    .dataframe tbody tr th {\n",
              "        vertical-align: top;\n",
              "    }\n",
              "\n",
              "    .dataframe thead th {\n",
              "        text-align: right;\n",
              "    }\n",
              "</style>\n",
              "<table border=\"1\" class=\"dataframe\">\n",
              "  <thead>\n",
              "    <tr style=\"text-align: right;\">\n",
              "      <th></th>\n",
              "      <th>host_is_superhost</th>\n",
              "      <th>host_total_listings_count</th>\n",
              "      <th>city</th>\n",
              "      <th>room_type</th>\n",
              "      <th>accommodates</th>\n",
              "      <th>bedrooms</th>\n",
              "      <th>price</th>\n",
              "      <th>minimum_nights</th>\n",
              "      <th>maximum_nights</th>\n",
              "      <th>instant_bookable</th>\n",
              "      <th>host_identity_v0rified</th>\n",
              "    </tr>\n",
              "  </thead>\n",
              "  <tbody>\n",
              "    <tr>\n",
              "      <th>0</th>\n",
              "      <td>0.0</td>\n",
              "      <td>1.0</td>\n",
              "      <td>Paris</td>\n",
              "      <td>0</td>\n",
              "      <td>2</td>\n",
              "      <td>1.0</td>\n",
              "      <td>53</td>\n",
              "      <td>2</td>\n",
              "      <td>1125</td>\n",
              "      <td>1</td>\n",
              "      <td>1.0</td>\n",
              "    </tr>\n",
              "    <tr>\n",
              "      <th>1</th>\n",
              "      <td>0.0</td>\n",
              "      <td>1.0</td>\n",
              "      <td>Paris</td>\n",
              "      <td>0</td>\n",
              "      <td>2</td>\n",
              "      <td>1.0</td>\n",
              "      <td>120</td>\n",
              "      <td>2</td>\n",
              "      <td>1125</td>\n",
              "      <td>1</td>\n",
              "      <td>0.0</td>\n",
              "    </tr>\n",
              "    <tr>\n",
              "      <th>2</th>\n",
              "      <td>0.0</td>\n",
              "      <td>1.0</td>\n",
              "      <td>Paris</td>\n",
              "      <td>0</td>\n",
              "      <td>2</td>\n",
              "      <td>1.0</td>\n",
              "      <td>89</td>\n",
              "      <td>2</td>\n",
              "      <td>1125</td>\n",
              "      <td>1</td>\n",
              "      <td>1.0</td>\n",
              "    </tr>\n",
              "    <tr>\n",
              "      <th>3</th>\n",
              "      <td>0.0</td>\n",
              "      <td>1.0</td>\n",
              "      <td>Paris</td>\n",
              "      <td>0</td>\n",
              "      <td>2</td>\n",
              "      <td>1.0</td>\n",
              "      <td>58</td>\n",
              "      <td>2</td>\n",
              "      <td>1125</td>\n",
              "      <td>1</td>\n",
              "      <td>0.0</td>\n",
              "    </tr>\n",
              "    <tr>\n",
              "      <th>4</th>\n",
              "      <td>0.0</td>\n",
              "      <td>1.0</td>\n",
              "      <td>Paris</td>\n",
              "      <td>0</td>\n",
              "      <td>2</td>\n",
              "      <td>1.0</td>\n",
              "      <td>60</td>\n",
              "      <td>2</td>\n",
              "      <td>1125</td>\n",
              "      <td>1</td>\n",
              "      <td>1.0</td>\n",
              "    </tr>\n",
              "  </tbody>\n",
              "</table>\n",
              "</div>"
            ],
            "text/plain": [
              "   host_is_superhost  ...  host_identity_v0rified\n",
              "0                0.0  ...                     1.0\n",
              "1                0.0  ...                     0.0\n",
              "2                0.0  ...                     1.0\n",
              "3                0.0  ...                     0.0\n",
              "4                0.0  ...                     1.0\n",
              "\n",
              "[5 rows x 11 columns]"
            ]
          },
          "metadata": {},
          "execution_count": 27
        }
      ]
    },
    {
      "cell_type": "code",
      "metadata": {
        "id": "adwkOKr89GAp"
      },
      "source": [
        "X=df_clean\n",
        "y=pd.DataFrame(df_clean, columns=[\"price\"])"
      ],
      "execution_count": null,
      "outputs": []
    },
    {
      "cell_type": "code",
      "metadata": {
        "id": "WkSIjh7J9H0Z"
      },
      "source": [
        "#Dividindo os dados em conjuntos de treinamento e teste.\n",
        "from sklearn.model_selection import train_test_split\n",
        "X_train,X_test,y_train,y_test=train_test_split(X,y,random_state=0,test_size=0.2)"
      ],
      "execution_count": null,
      "outputs": []
    },
    {
      "cell_type": "code",
      "metadata": {
        "id": "2BUdOcbkZN__"
      },
      "source": [
        "# Dividindo o nosso Dataset por cidade\n",
        "Sydney = X_test[X_test[\"city\"]==\"Sydney\"]\n",
        "rio = X_test[X_test[\"city\"]==\"Rio de Janeiro\"]\n",
        "bangkok = X_test[X_test[\"city\"]==\"Bangkok\"]\n",
        "newYork = X_test[X_test[\"city\"]==\"New York\"]\n",
        "paris = X_test[X_test[\"city\"]==\"Paris\"]\n",
        "capeTown = X_test[X_test[\"city\"]==\"Cape Town\"]\n",
        "mexicoCity = X_test[X_test[\"city\"]==\"Mexico City\"]\n",
        "istanbul = X_test[X_test[\"city\"]==\"Istanbul\"]\n",
        "hongKong = X_test[X_test[\"city\"]==\"Hong Kong\"]\n",
        "rome = X_test[X_test[\"city\"]==\"Rome\"]"
      ],
      "execution_count": null,
      "outputs": []
    },
    {
      "cell_type": "code",
      "metadata": {
        "id": "JRsbJyuj9Ln2"
      },
      "source": [
        "from sklearn.linear_model import LinearRegression\n",
        "model=LinearRegression()"
      ],
      "execution_count": null,
      "outputs": []
    },
    {
      "cell_type": "code",
      "metadata": {
        "id": "NQTX7AJ59PHA"
      },
      "source": [
        "#Treinando nosso modelo com o metodo RL\n",
        "cols = ['host_is_superhost','host_total_listings_count','room_type','accommodates','bedrooms','minimum_nights','maximum_nights','instant_bookable','host_identity_v0rified']\n",
        "# model.fit(X_train[cols],y_train['price'])\n",
        "model.fit(X_train[cols],y_train)\n",
        "rl_pred=model.predict(X_test[cols])"
      ],
      "execution_count": null,
      "outputs": []
    },
    {
      "cell_type": "code",
      "metadata": {
        "id": "cYFm9oI19Vm0"
      },
      "source": [
        "from sklearn import metrics"
      ],
      "execution_count": null,
      "outputs": []
    },
    {
      "cell_type": "code",
      "metadata": {
        "colab": {
          "base_uri": "https://localhost:8080/"
        },
        "id": "AaTJoMos9b-t",
        "outputId": "c1d6c90a-73fe-43f1-ed86-3a77dcd11ef6"
      },
      "source": [
        "# testando o modelo RL usando Raiz do erro quadrático médio\n",
        "rmse = np.sqrt(metrics.mean_squared_error(y_test['price'],rl_pred))\n",
        "print(rmse.round(2))"
      ],
      "execution_count": null,
      "outputs": [
        {
          "output_type": "stream",
          "name": "stdout",
          "text": [
            "235.71\n"
          ]
        }
      ]
    },
    {
      "cell_type": "code",
      "metadata": {
        "colab": {
          "base_uri": "https://localhost:8080/"
        },
        "id": "_EYsHxPY9kpc",
        "outputId": "deb1f4d8-c95b-439b-f941-075c3ec1486e"
      },
      "source": [
        "# metrics.r2_score(y_test['price'],rl_pred)"
      ],
      "execution_count": null,
      "outputs": [
        {
          "output_type": "execute_result",
          "data": {
            "text/plain": [
              "0.05914099421332475"
            ]
          },
          "metadata": {},
          "execution_count": 35
        }
      ]
    },
    {
      "cell_type": "code",
      "metadata": {
        "colab": {
          "base_uri": "https://localhost:8080/",
          "height": 419
        },
        "id": "UQAZcf039u91",
        "outputId": "ea564411-18bd-423c-e87c-696db43c7935"
      },
      "source": [
        "rl = pd.DataFrame(rl_pred)\n",
        "rl=rl.rename(index=str, columns={0:'rl'})\n",
        "rl.round(2)"
      ],
      "execution_count": null,
      "outputs": [
        {
          "output_type": "execute_result",
          "data": {
            "text/html": [
              "<div>\n",
              "<style scoped>\n",
              "    .dataframe tbody tr th:only-of-type {\n",
              "        vertical-align: middle;\n",
              "    }\n",
              "\n",
              "    .dataframe tbody tr th {\n",
              "        vertical-align: top;\n",
              "    }\n",
              "\n",
              "    .dataframe thead th {\n",
              "        text-align: right;\n",
              "    }\n",
              "</style>\n",
              "<table border=\"1\" class=\"dataframe\">\n",
              "  <thead>\n",
              "    <tr style=\"text-align: right;\">\n",
              "      <th></th>\n",
              "      <th>rl</th>\n",
              "    </tr>\n",
              "  </thead>\n",
              "  <tbody>\n",
              "    <tr>\n",
              "      <th>0</th>\n",
              "      <td>171.61</td>\n",
              "    </tr>\n",
              "    <tr>\n",
              "      <th>1</th>\n",
              "      <td>195.83</td>\n",
              "    </tr>\n",
              "    <tr>\n",
              "      <th>2</th>\n",
              "      <td>213.21</td>\n",
              "    </tr>\n",
              "    <tr>\n",
              "      <th>3</th>\n",
              "      <td>192.31</td>\n",
              "    </tr>\n",
              "    <tr>\n",
              "      <th>4</th>\n",
              "      <td>163.80</td>\n",
              "    </tr>\n",
              "    <tr>\n",
              "      <th>...</th>\n",
              "      <td>...</td>\n",
              "    </tr>\n",
              "    <tr>\n",
              "      <th>23457</th>\n",
              "      <td>224.47</td>\n",
              "    </tr>\n",
              "    <tr>\n",
              "      <th>23458</th>\n",
              "      <td>279.85</td>\n",
              "    </tr>\n",
              "    <tr>\n",
              "      <th>23459</th>\n",
              "      <td>169.02</td>\n",
              "    </tr>\n",
              "    <tr>\n",
              "      <th>23460</th>\n",
              "      <td>247.98</td>\n",
              "    </tr>\n",
              "    <tr>\n",
              "      <th>23461</th>\n",
              "      <td>269.58</td>\n",
              "    </tr>\n",
              "  </tbody>\n",
              "</table>\n",
              "<p>23462 rows × 1 columns</p>\n",
              "</div>"
            ],
            "text/plain": [
              "           rl\n",
              "0      171.61\n",
              "1      195.83\n",
              "2      213.21\n",
              "3      192.31\n",
              "4      163.80\n",
              "...       ...\n",
              "23457  224.47\n",
              "23458  279.85\n",
              "23459  169.02\n",
              "23460  247.98\n",
              "23461  269.58\n",
              "\n",
              "[23462 rows x 1 columns]"
            ]
          },
          "metadata": {},
          "execution_count": 37
        }
      ]
    },
    {
      "cell_type": "code",
      "metadata": {
        "id": "UQjPskmz4rJq"
      },
      "source": [
        "#Treinando nosso modelo com o metodo KNN com valor de K = 2\n",
        "from sklearn.neighbors import KNeighborsRegressor\n",
        "knn = KNeighborsRegressor(n_neighbors=2, algorithm='brute')\n",
        "knn.fit(X_train[cols],y_train)\n",
        "knn_pred=knn.predict(X_test[cols])"
      ],
      "execution_count": null,
      "outputs": []
    },
    {
      "cell_type": "code",
      "metadata": {
        "colab": {
          "base_uri": "https://localhost:8080/"
        },
        "id": "BRL4E9Pe5sfg",
        "outputId": "cf8e4745-4b16-4310-903b-156f536718ce"
      },
      "source": [
        "# testando o modelo knn usando Raiz do erro quadrático médio\n",
        "rmse = np.sqrt(metrics.mean_squared_error(y_test['price'],knn_pred))\n",
        "print(rmse.round(2))"
      ],
      "execution_count": null,
      "outputs": [
        {
          "output_type": "stream",
          "name": "stdout",
          "text": [
            "281.04\n"
          ]
        }
      ]
    },
    {
      "cell_type": "code",
      "metadata": {
        "colab": {
          "base_uri": "https://localhost:8080/",
          "height": 419
        },
        "id": "eAiKD-GKKkxu",
        "outputId": "90f476f7-3681-4f39-8ec0-7ee7fc9d1c37"
      },
      "source": [
        "tknn  =  pd.DataFrame(knn_pred)\n",
        "tknn=tknn.rename(index=str, columns={0:'Predicted Values'})\n",
        "tknn"
      ],
      "execution_count": null,
      "outputs": [
        {
          "output_type": "execute_result",
          "data": {
            "text/html": [
              "<div>\n",
              "<style scoped>\n",
              "    .dataframe tbody tr th:only-of-type {\n",
              "        vertical-align: middle;\n",
              "    }\n",
              "\n",
              "    .dataframe tbody tr th {\n",
              "        vertical-align: top;\n",
              "    }\n",
              "\n",
              "    .dataframe thead th {\n",
              "        text-align: right;\n",
              "    }\n",
              "</style>\n",
              "<table border=\"1\" class=\"dataframe\">\n",
              "  <thead>\n",
              "    <tr style=\"text-align: right;\">\n",
              "      <th></th>\n",
              "      <th>Predicted Values</th>\n",
              "    </tr>\n",
              "  </thead>\n",
              "  <tbody>\n",
              "    <tr>\n",
              "      <th>0</th>\n",
              "      <td>351.0</td>\n",
              "    </tr>\n",
              "    <tr>\n",
              "      <th>1</th>\n",
              "      <td>119.5</td>\n",
              "    </tr>\n",
              "    <tr>\n",
              "      <th>2</th>\n",
              "      <td>82.5</td>\n",
              "    </tr>\n",
              "    <tr>\n",
              "      <th>3</th>\n",
              "      <td>101.5</td>\n",
              "    </tr>\n",
              "    <tr>\n",
              "      <th>4</th>\n",
              "      <td>52.5</td>\n",
              "    </tr>\n",
              "    <tr>\n",
              "      <th>...</th>\n",
              "      <td>...</td>\n",
              "    </tr>\n",
              "    <tr>\n",
              "      <th>23457</th>\n",
              "      <td>466.0</td>\n",
              "    </tr>\n",
              "    <tr>\n",
              "      <th>23458</th>\n",
              "      <td>471.5</td>\n",
              "    </tr>\n",
              "    <tr>\n",
              "      <th>23459</th>\n",
              "      <td>88.0</td>\n",
              "    </tr>\n",
              "    <tr>\n",
              "      <th>23460</th>\n",
              "      <td>160.0</td>\n",
              "    </tr>\n",
              "    <tr>\n",
              "      <th>23461</th>\n",
              "      <td>445.0</td>\n",
              "    </tr>\n",
              "  </tbody>\n",
              "</table>\n",
              "<p>23462 rows × 1 columns</p>\n",
              "</div>"
            ],
            "text/plain": [
              "       Predicted Values\n",
              "0                 351.0\n",
              "1                 119.5\n",
              "2                  82.5\n",
              "3                 101.5\n",
              "4                  52.5\n",
              "...                 ...\n",
              "23457             466.0\n",
              "23458             471.5\n",
              "23459              88.0\n",
              "23460             160.0\n",
              "23461             445.0\n",
              "\n",
              "[23462 rows x 1 columns]"
            ]
          },
          "metadata": {},
          "execution_count": 46
        }
      ]
    },
    {
      "cell_type": "code",
      "metadata": {
        "colab": {
          "base_uri": "https://localhost:8080/"
        },
        "id": "77ILi20I3AXf",
        "outputId": "fdf7c8e5-ce08-4d33-f1c6-53102d84c0a9"
      },
      "source": [
        "#Treinando nosso modelo com o metodo xgboost\n",
        "import xgboost as xgb\n",
        "xgb_model = xgb.XGBRegressor(\n",
        "    learning_rate=0.05,\n",
        "    max_depth=3,\n",
        "    min_child_weight=0.001,\n",
        "    n_estimators=1000)\n",
        "xgb_model.fit(X_train[cols], y_train)"
      ],
      "execution_count": null,
      "outputs": [
        {
          "output_type": "stream",
          "name": "stdout",
          "text": [
            "[00:24:50] WARNING: /workspace/src/objective/regression_obj.cu:152: reg:linear is now deprecated in favor of reg:squarederror.\n"
          ]
        },
        {
          "output_type": "execute_result",
          "data": {
            "text/plain": [
              "XGBRegressor(base_score=0.5, booster='gbtree', colsample_bylevel=1,\n",
              "             colsample_bynode=1, colsample_bytree=1, gamma=0,\n",
              "             importance_type='gain', learning_rate=0.05, max_delta_step=0,\n",
              "             max_depth=3, min_child_weight=0.001, missing=None,\n",
              "             n_estimators=1000, n_jobs=1, nthread=None, objective='reg:linear',\n",
              "             random_state=0, reg_alpha=0, reg_lambda=1, scale_pos_weight=1,\n",
              "             seed=None, silent=None, subsample=1, verbosity=1)"
            ]
          },
          "metadata": {},
          "execution_count": 48
        }
      ]
    },
    {
      "cell_type": "code",
      "metadata": {
        "colab": {
          "base_uri": "https://localhost:8080/"
        },
        "id": "kjmRRgUC-Yrd",
        "outputId": "0f576871-aa46-4f3f-a978-a12ac87ea3b4"
      },
      "source": [
        "# testando o modelo xgb usando Raiz do erro quadrático médio\n",
        "xgb_pred=xgb_model.predict(X_test[cols])\n",
        "rmse = np.sqrt(metrics.mean_squared_error(y_test['price'],xgb_pred))\n",
        "print(rmse.round(2))"
      ],
      "execution_count": null,
      "outputs": [
        {
          "output_type": "stream",
          "name": "stdout",
          "text": [
            "231.27\n"
          ]
        }
      ]
    },
    {
      "cell_type": "code",
      "metadata": {
        "id": "GQUk16LfB6Ox"
      },
      "source": [
        "xgb = pd.DataFrame(xgb_pred)\n",
        "xgb=xgb.rename(index=str, columns={0:'xgb'})"
      ],
      "execution_count": null,
      "outputs": []
    },
    {
      "cell_type": "code",
      "metadata": {
        "id": "h-z776EvlG-y"
      },
      "source": [
        "att = np.array(y_test)\n",
        "pri  =  pd.DataFrame(att)\n",
        "pri=pri.rename(index=str, columns={0:'Actual Values'})\n",
        "pri"
      ],
      "execution_count": null,
      "outputs": []
    },
    {
      "cell_type": "code",
      "metadata": {
        "colab": {
          "base_uri": "https://localhost:8080/",
          "height": 419
        },
        "id": "rBUBM71dHoiB",
        "outputId": "dabcd971-fc0b-454c-908a-fe71a47f9a14"
      },
      "source": [
        "# Tabela de prediçoes\n",
        "xgb['KNN']=tknn\n",
        "xgb['RL']=rl\n",
        "xgb['Actual Values']=pri\n",
        "xgb.round()"
      ],
      "execution_count": null,
      "outputs": [
        {
          "output_type": "execute_result",
          "data": {
            "text/html": [
              "<div>\n",
              "<style scoped>\n",
              "    .dataframe tbody tr th:only-of-type {\n",
              "        vertical-align: middle;\n",
              "    }\n",
              "\n",
              "    .dataframe tbody tr th {\n",
              "        vertical-align: top;\n",
              "    }\n",
              "\n",
              "    .dataframe thead th {\n",
              "        text-align: right;\n",
              "    }\n",
              "</style>\n",
              "<table border=\"1\" class=\"dataframe\">\n",
              "  <thead>\n",
              "    <tr style=\"text-align: right;\">\n",
              "      <th></th>\n",
              "      <th>xgb</th>\n",
              "      <th>KNN</th>\n",
              "      <th>RL</th>\n",
              "      <th>Actual Values</th>\n",
              "    </tr>\n",
              "  </thead>\n",
              "  <tbody>\n",
              "    <tr>\n",
              "      <th>0</th>\n",
              "      <td>155.0</td>\n",
              "      <td>351.0</td>\n",
              "      <td>172.0</td>\n",
              "      <td>89</td>\n",
              "    </tr>\n",
              "    <tr>\n",
              "      <th>1</th>\n",
              "      <td>238.0</td>\n",
              "      <td>120.0</td>\n",
              "      <td>196.0</td>\n",
              "      <td>58</td>\n",
              "    </tr>\n",
              "    <tr>\n",
              "      <th>2</th>\n",
              "      <td>200.0</td>\n",
              "      <td>82.0</td>\n",
              "      <td>213.0</td>\n",
              "      <td>200</td>\n",
              "    </tr>\n",
              "    <tr>\n",
              "      <th>3</th>\n",
              "      <td>196.0</td>\n",
              "      <td>102.0</td>\n",
              "      <td>192.0</td>\n",
              "      <td>90</td>\n",
              "    </tr>\n",
              "    <tr>\n",
              "      <th>4</th>\n",
              "      <td>171.0</td>\n",
              "      <td>52.0</td>\n",
              "      <td>164.0</td>\n",
              "      <td>832</td>\n",
              "    </tr>\n",
              "    <tr>\n",
              "      <th>...</th>\n",
              "      <td>...</td>\n",
              "      <td>...</td>\n",
              "      <td>...</td>\n",
              "      <td>...</td>\n",
              "    </tr>\n",
              "    <tr>\n",
              "      <th>23457</th>\n",
              "      <td>182.0</td>\n",
              "      <td>466.0</td>\n",
              "      <td>224.0</td>\n",
              "      <td>75</td>\n",
              "    </tr>\n",
              "    <tr>\n",
              "      <th>23458</th>\n",
              "      <td>256.0</td>\n",
              "      <td>472.0</td>\n",
              "      <td>280.0</td>\n",
              "      <td>185</td>\n",
              "    </tr>\n",
              "    <tr>\n",
              "      <th>23459</th>\n",
              "      <td>198.0</td>\n",
              "      <td>88.0</td>\n",
              "      <td>169.0</td>\n",
              "      <td>60</td>\n",
              "    </tr>\n",
              "    <tr>\n",
              "      <th>23460</th>\n",
              "      <td>255.0</td>\n",
              "      <td>160.0</td>\n",
              "      <td>248.0</td>\n",
              "      <td>350</td>\n",
              "    </tr>\n",
              "    <tr>\n",
              "      <th>23461</th>\n",
              "      <td>259.0</td>\n",
              "      <td>445.0</td>\n",
              "      <td>270.0</td>\n",
              "      <td>125</td>\n",
              "    </tr>\n",
              "  </tbody>\n",
              "</table>\n",
              "<p>23462 rows × 4 columns</p>\n",
              "</div>"
            ],
            "text/plain": [
              "         xgb    KNN     RL  Actual Values\n",
              "0      155.0  351.0  172.0             89\n",
              "1      238.0  120.0  196.0             58\n",
              "2      200.0   82.0  213.0            200\n",
              "3      196.0  102.0  192.0             90\n",
              "4      171.0   52.0  164.0            832\n",
              "...      ...    ...    ...            ...\n",
              "23457  182.0  466.0  224.0             75\n",
              "23458  256.0  472.0  280.0            185\n",
              "23459  198.0   88.0  169.0             60\n",
              "23460  255.0  160.0  248.0            350\n",
              "23461  259.0  445.0  270.0            125\n",
              "\n",
              "[23462 rows x 4 columns]"
            ]
          },
          "metadata": {},
          "execution_count": 52
        }
      ]
    },
    {
      "cell_type": "code",
      "metadata": {
        "id": "Ct1kbYHOkIh8"
      },
      "source": [
        "# # Predizendo precos com rl\n",
        "capeTown_rl = model.predict(capeTown[cols])\n",
        "capeTown_rl = capeTown_rl.sum()\n",
        "\n",
        "mexicoCity_rl = model.predict(mexicoCity[cols])\n",
        "mexicoCity_rl = mexicoCity_rl.sum()\n",
        "\n",
        "istanbul_rl = model.predict(istanbul[cols])\n",
        "istanbul_rl = istanbul_rl.sum()\n",
        "\n",
        "hongKong_rl = model.predict(hongKong[cols])\n",
        "hongKong_rl = hongKong_rl.sum()\n",
        "\n",
        "rome_rl = model.predict(rome[cols])\n",
        "rome_rl = rome_rl.sum()\n",
        "\n",
        "sydney_rl = model.predict(Sydney[cols])\n",
        "sydney_rl = sydney_rl.sum()\n",
        "\n",
        "rio_rl = model.predict(rio[cols])\n",
        "rio_rl = rio_rl.sum()\n",
        "\n",
        "bangkok_rl = model.predict(bangkok[cols])\n",
        "bangkok_rl = bangkok_rl.sum()\n",
        "\n",
        "newYork_rl = model.predict(newYork[cols])\n",
        "newYork_rl = newYork_rl.sum()\n",
        "\n",
        "paris_rl = model.predict(paris[cols])\n",
        "paris_rl = paris_rl.sum()"
      ],
      "execution_count": null,
      "outputs": []
    },
    {
      "cell_type": "code",
      "metadata": {
        "id": "UhX3-WQlrhXf"
      },
      "source": [
        "# # Predizendo precos com knn\n",
        "capeTown_knn = knn.predict(capeTown[cols])\n",
        "capeTown_knn = capeTown_knn.sum()\n",
        "\n",
        "mexicoCity_knn = knn.predict(mexicoCity[cols])\n",
        "mexicoCity_knn = mexicoCity_knn.sum()\n",
        "\n",
        "istanbul_knn = knn.predict(istanbul[cols])\n",
        "istanbul_knn = istanbul_knn.sum()\n",
        "\n",
        "hongKong_knn = knn.predict(hongKong[cols])\n",
        "hongKong_knn = hongKong_knn.sum()\n",
        "\n",
        "rome_knn = knn.predict(rome[cols])\n",
        "rome_knn = rome_knn.sum()\n",
        "\n",
        "sydney_knn = knn.predict(Sydney[cols])\n",
        "sydney_knn = sydney_knn.sum()\n",
        "\n",
        "rio_knn = knn.predict(rio[cols])\n",
        "rio_knn = rio_knn.sum()\n",
        "\n",
        "bangkok_knn = knn.predict(bangkok[cols])\n",
        "bangkok_knn = bangkok_knn.sum()\n",
        "\n",
        "newYork_knn = knn.predict(newYork[cols])\n",
        "newYork_knn = newYork_knn.sum()\n",
        "\n",
        "paris_knn = knn.predict(paris[cols])\n",
        "paris_knn = paris_knn.sum()"
      ],
      "execution_count": null,
      "outputs": []
    },
    {
      "cell_type": "code",
      "metadata": {
        "id": "4gXR3ZwTsj0D"
      },
      "source": [
        "# Predizendo precos com xgb\n",
        "capeTown_xgb = xgb_model.predict(capeTown[cols])\n",
        "capeTown_xgb = capeTown_xgb.sum()\n",
        "\n",
        "mexicoCity_xgb = xgb_model.predict(mexicoCity[cols])\n",
        "mexicoCity_xgb = mexicoCity_xgb.sum()\n",
        "\n",
        "istanbul_xgb = xgb_model.predict(istanbul[cols])\n",
        "istanbul_xgb = istanbul_xgb.sum()\n",
        "\n",
        "hongKong_xgb = xgb_model.predict(hongKong[cols])\n",
        "hongKong_xgb = hongKong_xgb.sum()\n",
        "\n",
        "rome_xgb = xgb_model.predict(rome[cols])\n",
        "rome_xgb = rome_xgb.sum()\n",
        "\n",
        "sydney_xgb = xgb_model.predict(Sydney[cols])\n",
        "sydney_xgb = sydney_xgb.sum()\n",
        "\n",
        "rio_xgb = xgb_model.predict(rio[cols])\n",
        "rio_xgb = rio_xgb.sum()\n",
        "\n",
        "bangkok_xgb = xgb_model.predict(bangkok[cols])\n",
        "bangkok_xgb = bangkok_xgb.sum()\n",
        "\n",
        "newYork_xgb = xgb_model.predict(newYork[cols])\n",
        "newYork_xgb = newYork_xgb.sum()\n",
        "\n",
        "paris_xgb = xgb_model.predict(paris[cols])\n",
        "paris_xgb = paris_xgb.sum()"
      ],
      "execution_count": null,
      "outputs": []
    },
    {
      "cell_type": "code",
      "metadata": {
        "id": "0h0-R2OztePR"
      },
      "source": [
        "# Fazendo o comite com base nos resultados\n",
        "tot_cape = 0\n",
        "tot_mexico = 0\n",
        "tot_ista = 0\n",
        "tot_hong = 0\n",
        "tot_rome = 0\n",
        "tot_syd = 0\n",
        "tot_rio = 0\n",
        "tot_bang = 0\n",
        "tot_new = 0\n",
        "tot_paris = 0\n",
        "\n",
        "# rl\n",
        "if ((capeTown_rl <= mexicoCity_rl)and(capeTown_rl <= istanbul_rl)and(capeTown_rl <= hongKong_rl)and(capeTown_rl <= rome_rl)and (capeTown_rl <= sydney_rl)and(capeTown_rl <= rio_rl)and(capeTown_rl <= bangkok_rl)and(capeTown_rl <= newYork_rl)and(capeTown_rl <= paris_rl)):\n",
        "  tot_cape = tot_cape + 1\n",
        "elif ((mexicoCity_rl <= capeTown_rl)and(mexicoCity_rl <= istanbul_rl)and(mexicoCity_rl <= hongKong_rl)and(mexicoCity_rl <= rome_rl)and (mexicoCity_rl <= sydney_rl)and(mexicoCity_rl <= rio_rl)and(mexicoCity_rl <= bangkok_rl)and(mexicoCity_rl <= newYork_rl)and(mexicoCity_rl <= paris_rl)):\n",
        "   tot_mexico = tot_mexico + 1\n",
        "elif ((istanbul_rl <= capeTown_rl)and(istanbul_rl <= mexicoCity_rl)and(istanbul_rl <= hongKong_rl)and(istanbul_rl <= rome_rl)and (istanbul_rl <= sydney_rl)and(istanbul_rl <= rio_rl)and(istanbul_rl <= bangkok_rl)and(istanbul_rl <= newYork_rl)and(istanbul_rl <= paris_rl)):\n",
        "  tot_ista =tot_ista + 1\n",
        "elif ((hongKong_rl <= capeTown_rl)and(hongKong_rl <= mexicoCity_rl)and(hongKong_rl <= istanbul_rl)and(hongKong_rl <= rome_rl)and (hongKong_rl <= sydney_rl)and(hongKong_rl <= rio_rl)and(hongKong_rl <= bangkok_rl)and(hongKong_rl <= newYork_rl)and(hongKong_rl <= paris_rl)):\n",
        "  tot_hong = tot_hong +1\n",
        "elif ((rome_rl <= capeTown_rl)and(rome_rl <= mexicoCity_rl)and(rome_rl <= istanbul_rl)and(rome_rl <= hongKong_rl)and (rome_rl <= sydney_rl)and(rome_rl <= rio_rl)and(rome_rl <= bangkok_rl)and(rome_rl <= newYork_rl)and(rome_rl <= paris_rl)):\n",
        "  tot_rome = tot_rome + 1\n",
        "elif ((sydney_rl <= capeTown_rl)and(sydney_rl <= mexicoCity_rl)and(sydney_rl <= istanbul_rl)and(sydney_rl <= hongKong_rl)and (sydney_rl <= rome_rl)and(sydney_rl <= rio_rl)and(sydney_rl <= bangkok_rl)and(sydney_rl <= newYork_rl)and(sydney_rl <= paris_rl)):\n",
        "  tot_syd = tot_syd + 1\n",
        "elif ((rio_rl <= capeTown_rl)and(rio_rl <= mexicoCity_rl)and(rio_rl <= istanbul_rl)and(rio_rl <= hongKong_rl)and (rio_rl <= rome_rl)and(rio_rl <= sydney_rl)and(rio_rl <= bangkok_rl)and(rio_rl <= newYork_rl)and(rio_rl <= paris_rl)):\n",
        "  tot_rio + tot_rio + 1\n",
        "elif ((bangkok_rl <= capeTown_rl)and(bangkok_rl <= mexicoCity_rl)and(bangkok_rl <= istanbul_rl)and(bangkok_rl <= hongKong_rl)and (bangkok_rl <= rome_rl)and(bangkok_rl <= sydney_rl)and(bangkok_rl <= rio_rl)and(bangkok_rl <= newYork_rl)and(bangkok_rl <= paris_rl)):\n",
        "  tot_bang = tot_bang + 1\n",
        "elif ((newYork_rl <= capeTown_rl)and(newYork_rl <= mexicoCity_rl)and(newYork_rl <= istanbul_rl)and(newYork_rl <= hongKong_rl)and (newYork_rl <= rome_rl)and(newYork_rl <= sydney_rl)and(newYork_rl <= rio_rl)and(newYork_rl <= bangkok_rl)and(newYork_rl <= paris_rl)):\n",
        "  tot_new = tot_new + 1\n",
        "elif ((paris_rl <= capeTown_rl)and(paris_rl <= mexicoCity_rl)and(paris_rl <= istanbul_rl)and(paris_rl <= hongKong_rl)and (paris_rl <= rome_rl)and(paris_rl <= sydney_rl)and(paris_rl <= rio_rl)and(paris_rl <= bangkok_rl)and(paris_rl <= newYork_rl)):\n",
        "  tot_paris = tot_paris + 1"
      ],
      "execution_count": null,
      "outputs": []
    },
    {
      "cell_type": "code",
      "metadata": {
        "id": "YXzd096x231g"
      },
      "source": [
        "# knn\n",
        "if ((capeTown_knn <= mexicoCity_knn)and(capeTown_knn <= istanbul_knn)and(capeTown_knn <= hongKong_knn)and(capeTown_knn <= rome_knn)and (capeTown_knn <= sydney_knn)and(capeTown_knn <= rio_knn)and(capeTown_knn <= bangkok_knn)and(capeTown_knn <= newYork_knn)and(capeTown_knn <= paris_knn)):\n",
        "  tot_cape = tot_cape + 1\n",
        "elif ((mexicoCity_knn <= capeTown_knn)and(mexicoCity_knn <= istanbul_knn)and(mexicoCity_knn <= hongKong_knn)and(mexicoCity_knn <= rome_knn)and (mexicoCity_knn <= sydney_knn)and(mexicoCity_knn <= rio_knn)and(mexicoCity_knn <= bangkok_knn)and(mexicoCity_knn <= newYork_knn)and(mexicoCity_knn <= paris_knn)):\n",
        "   tot_mexico = tot_mexico + 1\n",
        "elif ((istanbul_knn <= capeTown_knn)and(istanbul_knn <= mexicoCity_knn)and(istanbul_knn <= hongKong_knn)and(istanbul_knn <= rome_knn)and (istanbul_knn <= sydney_knn)and(istanbul_knn <= rio_knn)and(istanbul_knn <= bangkok_knn)and(istanbul_knn <= newYork_knn)and(istanbul_knn <= paris_knn)):\n",
        "  tot_ista =tot_ista + 1\n",
        "elif ((hongKong_knn <= capeTown_knn)and(hongKong_knn <= mexicoCity_knn)and(hongKong_knn <= istanbul_knn)and(hongKong_knn <= rome_knn)and (hongKong_knn <= sydney_knn)and(hongKong_knn <= rio_knn)and(hongKong_knn <= bangkok_knn)and(hongKong_knn <= newYork_knn)and(hongKong_knn <= paris_knn)):\n",
        "  tot_hong = tot_hong +1\n",
        "elif ((rome_knn <= capeTown_knn)and(rome_knn <= mexicoCity_knn)and(rome_knn <= istanbul_knn)and(rome_knn <= hongKong_knn)and (rome_knn <= sydney_knn)and(rome_knn <= rio_knn)and(rome_knn <= bangkok_knn)and(rome_knn <= newYork_knn)and(rome_knn <= paris_knn)):\n",
        "  tot_rome = tot_rome + 1\n",
        "elif ((sydney_knn <= capeTown_knn)and(sydney_knn <= mexicoCity_knn)and(sydney_knn <= istanbul_knn)and(sydney_knn <= hongKong_knn)and (sydney_knn <= rome_knn)and(sydney_knn <= rio_knn)and(sydney_knn <= bangkok_knn)and(sydney_knn <= newYork_knn)and(sydney_knn <= paris_knn)):\n",
        "  tot_syd = tot_syd + 1\n",
        "elif ((rio_knn <= capeTown_knn)and(rio_knn <= mexicoCity_knn)and(rio_knn <= istanbul_knn)and(rio_knn <= hongKong_knn)and (rio_knn <= rome_knn)and(rio_knn <= sydney_knn)and(rio_knn <= bangkok_knn)and(rio_knn <= newYork_knn)and(rio_knn <= paris_knn)):\n",
        "  tot_rio + tot_rio + 1\n",
        "elif ((bangkok_knn <= capeTown_knn)and(bangkok_knn <= mexicoCity_knn)and(bangkok_knn <= istanbul_knn)and(bangkok_knn <= hongKong_knn)and (bangkok_knn <= rome_knn)and(bangkok_knn <= sydney_knn)and(bangkok_knn <= rio_knn)and(bangkok_knn <= newYork_knn)and(bangkok_knn <= paris_knn)):\n",
        "  tot_bang = tot_bang + 1\n",
        "elif ((newYork_knn <= capeTown_knn)and(newYork_knn <= mexicoCity_knn)and(newYork_knn <= istanbul_knn)and(newYork_knn <= hongKong_knn)and (newYork_knn <= rome_knn)and(newYork_knn <= sydney_knn)and(newYork_knn <= rio_knn)and(newYork_knn <= bangkok_knn)and(newYork_knn <= paris_knn)):\n",
        "  tot_new = tot_new + 1\n",
        "elif ((paris_knn <= capeTown_knn)and(paris_knn <= mexicoCity_knn)and(paris_knn <= istanbul_knn)and(paris_knn <= hongKong_knn)and (paris_knn <= rome_knn)and(paris_knn <= sydney_knn)and(paris_knn <= rio_knn)and(paris_knn <= bangkok_knn)and(paris_knn <= newYork_knn)):\n",
        "  tot_paris = tot_paris + 1"
      ],
      "execution_count": null,
      "outputs": []
    },
    {
      "cell_type": "code",
      "metadata": {
        "id": "12xhDi5q3QIz"
      },
      "source": [
        "# xgb\n",
        "if ((capeTown_xgb <= mexicoCity_xgb)and(capeTown_xgb <= istanbul_xgb)and(capeTown_xgb <= hongKong_xgb)and(capeTown_xgb <= rome_xgb)and (capeTown_xgb <= sydney_xgb)and(capeTown_xgb <= rio_xgb)and(capeTown_xgb <= bangkok_xgb)and(capeTown_xgb <= newYork_xgb)and(capeTown_xgb <= paris_xgb)):\n",
        "  tot_cape = tot_cape + 1\n",
        "elif ((mexicoCity_xgb <= capeTown_xgb)and(mexicoCity_xgb <= istanbul_xgb)and(mexicoCity_xgb <= hongKong_xgb)and(mexicoCity_xgb <= rome_xgb)and (mexicoCity_xgb <= sydney_xgb)and(mexicoCity_xgb <= rio_xgb)and(mexicoCity_xgb <= bangkok_xgb)and(mexicoCity_xgb <= newYork_xgb)and(mexicoCity_xgb <= paris_xgb)):\n",
        "   tot_mexico = tot_mexico + 1\n",
        "elif ((istanbul_xgb <= capeTown_xgb)and(istanbul_xgb <= mexicoCity_xgb)and(istanbul_xgb <= hongKong_xgb)and(istanbul_xgb <= rome_xgb)and (istanbul_xgb <= sydney_xgb)and(istanbul_xgb <= rio_xgb)and(istanbul_xgb <= bangkok_xgb)and(istanbul_xgb <= newYork_xgb)and(istanbul_xgb <= paris_xgb)):\n",
        "  tot_ista =tot_ista + 1\n",
        "elif ((hongKong_xgb <= capeTown_xgb)and(hongKong_xgb <= mexicoCity_xgb)and(hongKong_xgb <= istanbul_xgb)and(hongKong_xgb <= rome_xgb)and (hongKong_xgb <= sydney_xgb)and(hongKong_xgb <= rio_xgb)and(hongKong_xgb <= bangkok_xgb)and(hongKong_xgb <= newYork_xgb)and(hongKong_xgb <= paris_xgb)):\n",
        "  tot_hong = tot_hong +1\n",
        "elif ((rome_xgb <= capeTown_xgb)and(rome_xgb <= mexicoCity_xgb)and(rome_xgb <= istanbul_xgb)and(rome_xgb <= hongKong_xgb)and (rome_xgb <= sydney_xgb)and(rome_xgb <= rio_xgb)and(rome_xgb <= bangkok_xgb)and(rome_xgb <= newYork_xgb)and(rome_xgb <= paris_xgb)):\n",
        "  tot_rome = tot_rome + 1\n",
        "elif ((sydney_xgb <= capeTown_xgb)and(sydney_xgb <= mexicoCity_xgb)and(sydney_xgb <= istanbul_xgb)and(sydney_xgb <= hongKong_xgb)and (sydney_xgb <= rome_xgb)and(sydney_xgb <= rio_xgb)and(sydney_xgb <= bangkok_xgb)and(sydney_xgb <= newYork_xgb)and(sydney_xgb <= paris_xgb)):\n",
        "  tot_syd = tot_syd + 1\n",
        "elif ((rio_xgb <= capeTown_xgb)and(rio_xgb <= mexicoCity_xgb)and(rio_xgb <= istanbul_xgb)and(rio_xgb <= hongKong_xgb)and (rio_xgb <= rome_xgb)and(rio_xgb <= sydney_xgb)and(rio_xgb <= bangkok_xgb)and(rio_xgb <= newYork_xgb)and(rio_xgb <= paris_xgb)):\n",
        "  tot_rio + tot_rio + 1\n",
        "elif ((bangkok_xgb <= capeTown_xgb)and(bangkok_xgb <= mexicoCity_xgb)and(bangkok_xgb <= istanbul_xgb)and(bangkok_xgb <= hongKong_xgb)and (bangkok_xgb <= rome_xgb)and(bangkok_xgb <= sydney_xgb)and(bangkok_xgb <= rio_xgb)and(bangkok_xgb <= newYork_xgb)and(bangkok_xgb <= paris_xgb)):\n",
        "  tot_bang = tot_bang + 1\n",
        "elif ((newYork_xgb <= capeTown_xgb)and(newYork_xgb <= mexicoCity_xgb)and(newYork_xgb <= istanbul_xgb)and(newYork_xgb <= hongKong_xgb)and (newYork_xgb <= rome_xgb)and(newYork_xgb <= sydney_xgb)and(newYork_xgb <= rio_xgb)and(newYork_xgb <= bangkok_xgb)and(newYork_xgb <= paris_xgb)):\n",
        "  tot_new = tot_new + 1\n",
        "elif ((paris_xgb <= capeTown_xgb)and(paris_xgb <= mexicoCity_xgb)and(paris_xgb <= istanbul_xgb)and(paris_xgb <= hongKong_xgb)and (paris_xgb <= rome_xgb)and(paris_xgb <= sydney_xgb)and(paris_xgb <= rio_xgb)and(paris_xgb <= bangkok_xgb)and(paris_xgb <= newYork_xgb)):\n",
        "  tot_paris = tot_paris + 1"
      ],
      "execution_count": null,
      "outputs": []
    },
    {
      "cell_type": "code",
      "metadata": {
        "colab": {
          "base_uri": "https://localhost:8080/"
        },
        "id": "m1CDonoW43Yx",
        "outputId": "15bd171d-23cb-4bf2-e973-81333b4c13ac"
      },
      "source": [
        "if ((tot_cape > tot_mexico)and(tot_cape > tot_ista)and (tot_cape > tot_hong)and(tot_cape > tot_rome)and(tot_cape > tot_syd)and(tot_cape > tot_rio)and(tot_cape > tot_bang)and(tot_cape > tot_new)and(tot_cape > tot_paris)):\n",
        "  print('O comitê acredita que o melhor custo benefio é a cidade de Cape Town')\n",
        "elif ((tot_mexico > tot_cape)and(tot_mexico > tot_ista)and (tot_mexico > tot_hong)and(tot_mexico > tot_rome)and(tot_mexico > tot_syd)and(tot_mexico > tot_rio)and(tot_mexico > tot_bang)and(tot_mexico > tot_new)and(tot_mexico > tot_paris)):\n",
        "  print('O comitê acredita que o melhor custo benefio é a cidade do Mexico')\n",
        "elif ((tot_ista > tot_cape)and(tot_ista > tot_mexico)and (tot_ista > tot_hong)and(tot_ista > tot_rome)and(tot_ista > tot_syd)and(tot_ista > tot_rio)and(tot_ista > tot_bang)and(tot_ista > tot_new)and(tot_ista > tot_paris)):\n",
        "  print('O comitê acredita que o melhor custo benefio é a cidade de Istanbul')\n",
        "elif ((tot_hong > tot_cape)and(tot_hong > tot_mexico)and (tot_hong > tot_ista)and(tot_hong > tot_rome)and(tot_hong > tot_syd)and(tot_hong > tot_rio)and(tot_hong > tot_bang)and(tot_hong > tot_new)and(tot_hong > tot_paris)):\n",
        "  print('O comitê acredita que o melhor custo benefio é Hong Kong')\n",
        "elif ((tot_rome > tot_cape)and(tot_rome > tot_mexico)and (tot_rome > tot_ista)and(tot_rome > tot_hong)and(tot_rome > tot_syd)and(tot_rome > tot_rio)and(tot_rome > tot_bang)and(tot_rome > tot_new)and(tot_rome > tot_paris)):\n",
        "  print('O comitê acredita que o melhor custo benefio é Roma')\n",
        "elif ((tot_syd > tot_cape)and(tot_syd > tot_mexico)and (tot_syd > tot_ista)and(tot_syd > tot_hong)and(tot_syd > tot_rome)and(tot_syd > tot_rio)and(tot_syd > tot_bang)and(tot_syd > tot_new)and(tot_syd > tot_paris)):\n",
        "  print('O comitê acredita que o melhor custo benefio é Sydney')\n",
        "elif ((tot_rio > tot_cape)and(tot_rio > tot_mexico)and (tot_rio > tot_ista)and(tot_rio > tot_hong)and(tot_rio > tot_rome)and(tot_rio > tot_syd)and(tot_rio > tot_bang)and(tot_rio > tot_new)and(tot_rio > tot_paris)):\n",
        "  print('O comitê acredita que o melhor custo benefio é Rio de Janeiro')\n",
        "elif ((tot_bang > tot_cape)and(tot_bang > tot_mexico)and (tot_bang > tot_ista)and(tot_bang > tot_hong)and(tot_bang > tot_rome)and(tot_bang > tot_syd)and(tot_bang > tot_rio)and(tot_bang > tot_new)and(tot_bang > tot_paris)):\n",
        "  print('O comitê acredita que o melhor custo benefio é Bangkok')\n",
        "elif ((tot_new > tot_cape)and(tot_new > tot_mexico)and (tot_new > tot_ista)and(tot_new > tot_hong)and(tot_new > tot_rome)and(tot_new > tot_syd)and(tot_new > tot_rio)and(tot_new > tot_bang)and(tot_new > tot_paris)):\n",
        "  print('O comitê acredita que o melhor custo benefio é Nova York')\n",
        "elif ((tot_paris > tot_cape)and(tot_paris > tot_mexico)and (tot_paris > tot_ista)and(tot_paris > tot_hong)and(tot_paris > tot_rome)and(tot_paris > tot_syd)and(tot_paris > tot_rio)and(tot_paris > tot_bang)and(tot_paris > tot_new)):\n",
        "  print('O comitê acredita que o melhor custo benefio é Paris')"
      ],
      "execution_count": null,
      "outputs": [
        {
          "output_type": "stream",
          "name": "stdout",
          "text": [
            "O comitê acredita que o melhor custo benefio é Hong Kong\n"
          ]
        }
      ]
    }
  ]
}